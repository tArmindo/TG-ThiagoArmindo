{
 "cells": [
  {
   "cell_type": "code",
   "execution_count": 1,
   "metadata": {},
   "outputs": [],
   "source": [
    "\n",
    "#!pip install requests_oauthlib\n",
    "#!pip install twython\n",
    "#!pip install nltk"
   ]
  },
  {
   "cell_type": "code",
   "execution_count": 1,
   "metadata": {},
   "outputs": [],
   "source": [
    "# Módulos \n",
    "\n",
    "import pyspark\n",
    "from pyspark import SparkContext\n",
    "from pyspark.streaming import StreamingContext\n",
    "import requests_oauthlib\n",
    "from requests_oauthlib import OAuth1Session\n",
    "from operator import add\n",
    "from time import gmtime, strftime\n",
    "import requests\n",
    "import time\n",
    "import string\n",
    "import ast\n",
    "import json\n",
    "import matplotlib.pylab as pl\n"
   ]
  },
  {
   "cell_type": "code",
   "execution_count": 2,
   "metadata": {},
   "outputs": [],
   "source": [
    "# Pacote NLTK\n",
    "import nltk\n",
    "from nltk.classify import NaiveBayesClassifier\n",
    "from nltk.sentiment import SentimentAnalyzer\n",
    "from nltk.corpus import subjectivity\n",
    "from nltk.corpus import stopwords\n",
    "from nltk.sentiment.util import *"
   ]
  },
  {
   "cell_type": "code",
   "execution_count": 3,
   "metadata": {},
   "outputs": [],
   "source": [
    "import matplotlib.pyplot as plt\n",
    "from matplotlib import animation\n",
    "import pandas as pd"
   ]
  },
  {
   "cell_type": "code",
   "execution_count": 5,
   "metadata": {},
   "outputs": [],
   "source": [
    "config = pyspark.SparkConf().setAll([(\"spark.dynamicAllocation.enabled\", \"true\"),(\"spark.executor.cores\", 4),(\"spark.dynamicAllocation.minExecutors\",\"1\"),(\"spark.dynamicAllocation.maxExecutors\",\"5\")])\n",
    "sc = pyspark.SparkContext.getOrCreate(conf=config)"
   ]
  },
  {
   "cell_type": "code",
   "execution_count": 6,
   "metadata": {},
   "outputs": [],
   "source": [
    "# Frequencia de batch - 5 seg\n",
    "INTERVALO_BATCH = 5"
   ]
  },
  {
   "cell_type": "code",
   "execution_count": 7,
   "metadata": {},
   "outputs": [],
   "source": [
    "# Criando o StreamingContext\n",
    "ssc = StreamingContext(sc, INTERVALO_BATCH)"
   ]
  },
  {
   "cell_type": "code",
   "execution_count": 8,
   "metadata": {},
   "outputs": [],
   "source": [
    "# Lendo o arquivo texto e criando um RDD em memória com Spark, dataset com classificação entre twitter positivo e negativo\n",
    "arquivo = sc.textFile(\"dataset_analise_sentimento.csv\")"
   ]
  },
  {
   "cell_type": "code",
   "execution_count": 9,
   "metadata": {},
   "outputs": [
    {
     "name": "stderr",
     "output_type": "stream",
     "text": [
      "                                                                                \r"
     ]
    }
   ],
   "source": [
    "# Remover o cabeçalho\n",
    "header = arquivo.take(1)[0]\n",
    "dataset = arquivo.filter(lambda line: line != header)"
   ]
  },
  {
   "cell_type": "code",
   "execution_count": 10,
   "metadata": {},
   "outputs": [],
   "source": [
    "#!python --version\n",
    "#!pip install pyspark\n",
    "#!pip install py4j"
   ]
  },
  {
   "cell_type": "code",
   "execution_count": 11,
   "metadata": {},
   "outputs": [
    {
     "data": {
      "text/plain": [
       "pyspark.rdd.PipelinedRDD"
      ]
     },
     "execution_count": 11,
     "metadata": {},
     "output_type": "execute_result"
    }
   ],
   "source": [
    "type(dataset)"
   ]
  },
  {
   "cell_type": "code",
   "execution_count": 12,
   "metadata": {},
   "outputs": [],
   "source": [
    "# Separar as colunas de cada linha, cria uma tupla e remove a pontuação. Faz limpeza do tweets\n",
    "def get_row(line):\n",
    "  row = line.split(',')\n",
    "  sentimento = row[1]\n",
    "  tweet = row[3].strip()\n",
    "  translator = str.maketrans({key: None for key in string.punctuation})\n",
    "  tweet = tweet.translate(translator)\n",
    "  tweet = tweet.split(' ')\n",
    "  tweet_lower = []\n",
    "  for word in tweet:\n",
    "    tweet_lower.append(word.lower())\n",
    "  return (tweet_lower, sentimento)"
   ]
  },
  {
   "cell_type": "code",
   "execution_count": 13,
   "metadata": {},
   "outputs": [],
   "source": [
    "# Aplica a função a cada linha do dataset\n",
    "dataset_treino = dataset.map(lambda line: get_row(line))"
   ]
  },
  {
   "cell_type": "code",
   "execution_count": 14,
   "metadata": {},
   "outputs": [],
   "source": [
    "# Cria um objeto SentimentAnalyzer \n",
    "sentiment_analyzer = SentimentAnalyzer()"
   ]
  },
  {
   "cell_type": "code",
   "execution_count": null,
   "metadata": {},
   "outputs": [],
   "source": [
    "# https://raw.githubusercontent.com/nltk/nltk_data/gh-pages/index.xml\n",
    "#nltk.download()\n",
    "#nltk.download(\"stopwords\")"
   ]
  },
  {
   "cell_type": "code",
   "execution_count": null,
   "metadata": {},
   "outputs": [],
   "source": [
    "#from IPython.display import Image\n",
    "#Image(url = 'ntlkdata.png')"
   ]
  },
  {
   "cell_type": "code",
   "execution_count": 15,
   "metadata": {},
   "outputs": [],
   "source": [
    "# Lista de stopwords em Inglês \n",
    "stopwords_all = []\n",
    "for word in stopwords.words('english'):\n",
    "  stopwords_all.append(word)\n",
    "  stopwords_all.append(word + '_NEG')"
   ]
  },
  {
   "cell_type": "code",
   "execution_count": 16,
   "metadata": {},
   "outputs": [],
   "source": [
    "# 10.000 tweets do dataset de treino e retorna todas as palavras que não são stopwords\n",
    "dataset_treino_amostra = dataset_treino.take(10000)"
   ]
  },
  {
   "cell_type": "code",
   "execution_count": 17,
   "metadata": {},
   "outputs": [],
   "source": [
    "all_words_neg = sentiment_analyzer.all_words([mark_negation(doc) for doc in dataset_treino_amostra])\n",
    "all_words_neg_nostops = [x for x in all_words_neg if x not in stopwords_all]"
   ]
  },
  {
   "cell_type": "code",
   "execution_count": 18,
   "metadata": {},
   "outputs": [],
   "source": [
    "# Cria um unigram (n-grama) e extrai as features\n",
    "unigram_feats = sentiment_analyzer.unigram_word_feats(all_words_neg_nostops, top_n = 200)\n",
    "sentiment_analyzer.add_feat_extractor(extract_unigram_feats, unigrams = unigram_feats)\n",
    "training_set = sentiment_analyzer.apply_features(dataset_treino_amostra)"
   ]
  },
  {
   "cell_type": "code",
   "execution_count": 19,
   "metadata": {},
   "outputs": [
    {
     "data": {
      "text/plain": [
       "nltk.collections.LazyMap"
      ]
     },
     "execution_count": 19,
     "metadata": {},
     "output_type": "execute_result"
    }
   ],
   "source": [
    "type(training_set)"
   ]
  },
  {
   "cell_type": "code",
   "execution_count": 20,
   "metadata": {},
   "outputs": [
    {
     "name": "stdout",
     "output_type": "stream",
     "text": [
      "[({'contains()': False, 'contains(im)': False, 'contains(_NEG)': False, 'contains(followfriday)': False, 'contains(amp)': False, 'contains(dont)': False, 'contains(day)': False, 'contains(love)': False, 'contains(like)': False, 'contains(cant)': False, 'contains(good)': False, 'contains(get)': False, 'contains(go)': False, 'contains(today)': False, 'contains(got)': False, 'contains(want)': False, 'contains(time)': False, 'contains(going)': False, 'contains(back)': False, 'contains(one)': False, 'contains(sad)': True, 'contains(really)': False, 'contains(miss)': False, 'contains(u)': False, 'contains(work)': False, 'contains(new)': False, 'contains(2)': False, 'contains(last)': False, 'contains(still)': False, 'contains(twitter)': False, 'contains(night)': False, 'contains(great)': False, 'contains(lol)': False, 'contains(follow)': False, 'contains(need)': False, 'contains(see)': False, 'contains(much)': False, 'contains(myweakness)': False, 'contains(get_NEG)': False, 'contains(didnt)': False, 'contains(think)': False, 'contains(hate)': False, 'contains(iremember)': False, 'contains(home)': False, 'contains(feel)': False, 'contains(musicmonday)': False, 'contains(know)': False, 'contains(happy)': False, 'contains(people)': False, 'contains(lt3)': False, 'contains(would)': False, 'contains(bad)': False, 'contains(well)': False, 'contains(right)': False, 'contains(wish)': False, 'contains(oh)': False, 'contains(gonna)': False, 'contains(tomorrow)': False, 'contains(tonight)': False, 'contains(ff)': False, 'contains(ill)': False, 'contains(please)': False, 'contains(hope)': False, 'contains(thanks)': False, 'contains(morning)': False, 'contains(someone)': False, 'contains(never)': False, 'contains(ive)': False, 'contains(make)': False, 'contains(getting)': False, 'contains(im_NEG)': False, 'contains(go_NEG)': False, 'contains(know_NEG)': False, 'contains(awesome)': False, 'contains(like_NEG)': False, 'contains(inaperfectworld)': False, 'contains(thats)': False, 'contains(come)': False, 'contains(squarespace)': False, 'contains(wont)': False, 'contains(haha)': False, 'contains(lt)': False, 'contains(wanna)': False, 'contains(1)': False, 'contains(lost)': False, 'contains(days)': False, 'contains(4)': False, 'contains(makes)': False, 'contains(fun)': False, 'contains(friends)': False, 'contains(life)': False, 'contains(best)': False, 'contains(iphone)': False, 'contains(quoti)': False, 'contains(good_NEG)': False, 'contains(could)': False, 'contains(song)': False, 'contains(school)': False, 'contains(bed)': False, 'contains(better)': False, 'contains(dontyouhate)': False, 'contains(first)': False, 'contains(ever)': False, 'contains(3)': False, 'contains(us)': False, 'contains(haveyouever)': False, 'contains(sick)': False, 'contains(nice)': False, 'contains(man)': False, 'contains(want_NEG)': False, 'contains(doesnt)': False, 'contains(everyone)': False, 'contains(already)': False, 'contains(one_NEG)': False, 'contains(guys)': False, 'contains(show)': False, 'contains(sorry)': False, 'contains(week)': False, 'contains(music)': False, 'contains(things)': False, 'contains(old)': False, 'contains(bgt)': False, 'contains(next)': False, 'contains(made)': False, 'contains(something)': False, 'contains(n)': False, 'contains(way)': False, 'contains(another)': False, 'contains(gt)': False, 'contains(sleep)': False, 'contains(take)': False, 'contains(soon)': False, 'contains(baby)': False, 'contains(isnt)': False, 'contains(work_NEG)': False, 'contains(little)': False, 'contains(away)': False, 'contains(damn)': False, 'contains(quot)': False, 'contains(say)': False, 'contains(always)': False, 'contains(phone)': False, 'contains(left)': False, 'contains(shes)': False, 'contains(see_NEG)': False, 'contains(summer)': False, 'contains(weekend)': False, 'contains(year)': False, 'contains(today_NEG)': False, 'contains(amazing)': False, 'contains(wait_NEG)': False, 'contains(ok)': False, 'contains(long)': False, 'contains(girl)': False, 'contains(world)': False, 'contains(watching)': False, 'contains(movie)': False, 'contains(goodsex)': False, 'contains(feeling)': False, 'contains(ur)': False, 'contains(watch)': False, 'contains(cool)': False, 'contains(found)': False, 'contains(friend)': True, 'contains(mom)': False, 'contains(hes)': False, 'contains(friday)': False, 'contains(done)': False, 'contains(hours)': False, 'contains(said)': False, 'contains(went)': False, 'contains(gone)': False, 'contains(tired)': False, 'contains(house)': False, 'contains(missed)': False, 'contains(give)': False, 'contains(rain)': False, 'contains(leave)': False, 'contains(thing)': False, 'contains(wanted)': False, 'contains(head)': False, 'contains(sucks)': False, 'contains(sleep_NEG)': False, 'contains(ready)': False, 'contains(thank)': False, 'contains(guess)': False, 'contains(nothing)': False, 'contains(talk)': False, 'contains(followers)': False, 'contains(keep)': False, 'contains(tweets)': False, 'contains(look)': False, 'contains(hurts)': False, 'contains(early)': False, 'contains(game)': False, 'contains(two)': False, 'contains(guy)': False, 'contains(cry)': False, 'contains(going_NEG)': False, 'contains(live)': False}, '0'), ({'contains()': False, 'contains(im)': False, 'contains(_NEG)': False, 'contains(followfriday)': False, 'contains(amp)': False, 'contains(dont)': False, 'contains(day)': False, 'contains(love)': False, 'contains(like)': False, 'contains(cant)': False, 'contains(good)': False, 'contains(get)': False, 'contains(go)': False, 'contains(today)': False, 'contains(got)': False, 'contains(want)': False, 'contains(time)': False, 'contains(going)': False, 'contains(back)': False, 'contains(one)': False, 'contains(sad)': False, 'contains(really)': False, 'contains(miss)': False, 'contains(u)': False, 'contains(work)': False, 'contains(new)': True, 'contains(2)': False, 'contains(last)': False, 'contains(still)': False, 'contains(twitter)': False, 'contains(night)': False, 'contains(great)': False, 'contains(lol)': False, 'contains(follow)': False, 'contains(need)': False, 'contains(see)': False, 'contains(much)': False, 'contains(myweakness)': False, 'contains(get_NEG)': False, 'contains(didnt)': False, 'contains(think)': False, 'contains(hate)': False, 'contains(iremember)': False, 'contains(home)': False, 'contains(feel)': False, 'contains(musicmonday)': False, 'contains(know)': False, 'contains(happy)': False, 'contains(people)': False, 'contains(lt3)': False, 'contains(would)': False, 'contains(bad)': False, 'contains(well)': False, 'contains(right)': False, 'contains(wish)': False, 'contains(oh)': False, 'contains(gonna)': False, 'contains(tomorrow)': False, 'contains(tonight)': False, 'contains(ff)': False, 'contains(ill)': False, 'contains(please)': False, 'contains(hope)': False, 'contains(thanks)': False, 'contains(morning)': False, 'contains(someone)': False, 'contains(never)': False, 'contains(ive)': False, 'contains(make)': False, 'contains(getting)': False, 'contains(im_NEG)': False, 'contains(go_NEG)': False, 'contains(know_NEG)': False, 'contains(awesome)': False, 'contains(like_NEG)': False, 'contains(inaperfectworld)': False, 'contains(thats)': False, 'contains(come)': False, 'contains(squarespace)': False, 'contains(wont)': False, 'contains(haha)': False, 'contains(lt)': False, 'contains(wanna)': False, 'contains(1)': False, 'contains(lost)': False, 'contains(days)': False, 'contains(4)': False, 'contains(makes)': False, 'contains(fun)': False, 'contains(friends)': False, 'contains(life)': False, 'contains(best)': False, 'contains(iphone)': False, 'contains(quoti)': False, 'contains(good_NEG)': False, 'contains(could)': False, 'contains(song)': False, 'contains(school)': False, 'contains(bed)': False, 'contains(better)': False, 'contains(dontyouhate)': False, 'contains(first)': False, 'contains(ever)': False, 'contains(3)': False, 'contains(us)': False, 'contains(haveyouever)': False, 'contains(sick)': False, 'contains(nice)': False, 'contains(man)': False, 'contains(want_NEG)': False, 'contains(doesnt)': False, 'contains(everyone)': False, 'contains(already)': False, 'contains(one_NEG)': False, 'contains(guys)': False, 'contains(show)': False, 'contains(sorry)': False, 'contains(week)': False, 'contains(music)': False, 'contains(things)': False, 'contains(old)': False, 'contains(bgt)': False, 'contains(next)': False, 'contains(made)': False, 'contains(something)': False, 'contains(n)': False, 'contains(way)': False, 'contains(another)': False, 'contains(gt)': False, 'contains(sleep)': False, 'contains(take)': False, 'contains(soon)': False, 'contains(baby)': False, 'contains(isnt)': False, 'contains(work_NEG)': False, 'contains(little)': False, 'contains(away)': False, 'contains(damn)': False, 'contains(quot)': False, 'contains(say)': False, 'contains(always)': False, 'contains(phone)': False, 'contains(left)': False, 'contains(shes)': False, 'contains(see_NEG)': False, 'contains(summer)': False, 'contains(weekend)': False, 'contains(year)': False, 'contains(today_NEG)': False, 'contains(amazing)': False, 'contains(wait_NEG)': False, 'contains(ok)': False, 'contains(long)': False, 'contains(girl)': False, 'contains(world)': False, 'contains(watching)': False, 'contains(movie)': False, 'contains(goodsex)': False, 'contains(feeling)': False, 'contains(ur)': False, 'contains(watch)': False, 'contains(cool)': False, 'contains(found)': False, 'contains(friend)': False, 'contains(mom)': False, 'contains(hes)': False, 'contains(friday)': False, 'contains(done)': False, 'contains(hours)': False, 'contains(said)': False, 'contains(went)': False, 'contains(gone)': False, 'contains(tired)': False, 'contains(house)': False, 'contains(missed)': True, 'contains(give)': False, 'contains(rain)': False, 'contains(leave)': False, 'contains(thing)': False, 'contains(wanted)': False, 'contains(head)': False, 'contains(sucks)': False, 'contains(sleep_NEG)': False, 'contains(ready)': False, 'contains(thank)': False, 'contains(guess)': False, 'contains(nothing)': False, 'contains(talk)': False, 'contains(followers)': False, 'contains(keep)': False, 'contains(tweets)': False, 'contains(look)': False, 'contains(hurts)': False, 'contains(early)': False, 'contains(game)': False, 'contains(two)': False, 'contains(guy)': False, 'contains(cry)': False, 'contains(going_NEG)': False, 'contains(live)': False}, '0'), ...]\n"
     ]
    }
   ],
   "source": [
    "print(training_set)"
   ]
  },
  {
   "cell_type": "code",
   "execution_count": 21,
   "metadata": {},
   "outputs": [
    {
     "name": "stdout",
     "output_type": "stream",
     "text": [
      "Training classifier\n"
     ]
    }
   ],
   "source": [
    "# Treinar o modelo\n",
    "trainer = NaiveBayesClassifier.train\n",
    "classifier = sentiment_analyzer.train(trainer, training_set)"
   ]
  },
  {
   "cell_type": "code",
   "execution_count": 22,
   "metadata": {},
   "outputs": [],
   "source": [
    "# Testa o classificador\n",
    "test_sentence1 = [(['this', 'program', 'is', 'bad'], '')]\n",
    "test_sentence2 = [(['tough', 'day', 'at', 'work', 'today'], '')]\n",
    "test_sentence3 = [(['good', 'wonderful', 'amazing', 'awesome'], '')]\n",
    "test_set = sentiment_analyzer.apply_features(test_sentence1)\n",
    "test_set2 = sentiment_analyzer.apply_features(test_sentence2)\n",
    "test_set3 = sentiment_analyzer.apply_features(test_sentence3)"
   ]
  },
  {
   "cell_type": "code",
   "execution_count": 23,
   "metadata": {},
   "outputs": [],
   "source": [
    "# Autenticação do Twitter \n",
    "consumer_key = \"J64Q4eke1WQvkMnsGbqGXY9O4\"\n",
    "consumer_secret = \"ixilMUmAh4Esf3mXf7dEHczazdG227dbnWh1ImfE58KHxBxD1z\"\n",
    "access_token = \"1449972010982023170-AWAd60CKm01lnf4TD2ooBHj7xTd7rl\"\n",
    "access_token_secret = \"xf3kd8GqpB8iUWGmzK1wzAmeuhlyFS1BNUd9LsNNqcRSa\""
   ]
  },
  {
   "cell_type": "code",
   "execution_count": 24,
   "metadata": {},
   "outputs": [],
   "source": [
    "# termo de busca\n",
    "search_term = 'Trump'\n",
    "sample_url = 'https://stream.twitter.com/1.1/statuses/sample.json'\n",
    "filter_url = 'https://stream.twitter.com/1.1/statuses/filter.json?track='+search_term"
   ]
  },
  {
   "cell_type": "code",
   "execution_count": 25,
   "metadata": {},
   "outputs": [],
   "source": [
    "# Criando o objeto de atutenticação para o Twitter\n",
    "auth = requests_oauthlib.OAuth1(consumer_key, consumer_secret, access_token, access_token_secret)"
   ]
  },
  {
   "cell_type": "code",
   "execution_count": 26,
   "metadata": {},
   "outputs": [],
   "source": [
    "# Configurando o Stream\n",
    "rdd = ssc.sparkContext.parallelize([0])\n",
    "stream = ssc.queueStream([], default = rdd)"
   ]
  },
  {
   "cell_type": "code",
   "execution_count": 27,
   "metadata": {},
   "outputs": [
    {
     "data": {
      "text/plain": [
       "pyspark.streaming.dstream.DStream"
      ]
     },
     "execution_count": 27,
     "metadata": {},
     "output_type": "execute_result"
    }
   ],
   "source": [
    "type(stream)"
   ]
  },
  {
   "cell_type": "code",
   "execution_count": 28,
   "metadata": {},
   "outputs": [],
   "source": [
    "# Total de tweets por update\n",
    "NUM_TWEETS = 10"
   ]
  },
  {
   "cell_type": "code",
   "execution_count": 29,
   "metadata": {},
   "outputs": [],
   "source": [
    "# Essa função conecta ao Twitter e retorna um número específico de Tweets (NUM_TWEETS)\n",
    "def tfunc(t, rdd):\n",
    "  return rdd.flatMap(lambda x: stream_twitter_data())\n",
    "\n",
    "def stream_twitter_data():\n",
    "  response = requests.get(filter_url, auth = auth, stream = True)\n",
    "  print(filter_url, response)\n",
    "  count = 0\n",
    "  for line in response.iter_lines():\n",
    "    try:\n",
    "      if count > NUM_TWEETS:\n",
    "        break\n",
    "      post = json.loads(line.decode('utf-8'))\n",
    "      contents = [post['text']]\n",
    "      count += 1\n",
    "      yield str(contents)\n",
    "    except:\n",
    "      result = False"
   ]
  },
  {
   "cell_type": "code",
   "execution_count": 30,
   "metadata": {},
   "outputs": [],
   "source": [
    "stream = stream.transform(tfunc)"
   ]
  },
  {
   "cell_type": "code",
   "execution_count": 31,
   "metadata": {},
   "outputs": [],
   "source": [
    "coord_stream = stream.map(lambda line: ast.literal_eval(line))"
   ]
  },
  {
   "cell_type": "code",
   "execution_count": 32,
   "metadata": {},
   "outputs": [],
   "source": [
    "# Essa função classifica os tweets, aplicando as features do modelo criado anteriormente\n",
    "def classifica_tweet(tweet):\n",
    "  sentence = [(tweet, '')]\n",
    "  test_set = sentiment_analyzer.apply_features(sentence)\n",
    "  print(tweet, classifier.classify(test_set[0][0]))\n",
    "  return(tweet, classifier.classify(test_set[0][0]))"
   ]
  },
  {
   "cell_type": "code",
   "execution_count": 33,
   "metadata": {},
   "outputs": [],
   "source": [
    "# Essa função retorna o texto do Twitter\n",
    "def get_tweet_text(rdd):\n",
    "  for line in rdd:\n",
    "    tweet = line.strip()\n",
    "    translator = str.maketrans({key: None for key in string.punctuation})\n",
    "    tweet = tweet.translate(translator)\n",
    "    tweet = tweet.split(' ')\n",
    "    tweet_lower = []\n",
    "    for word in tweet:\n",
    "      tweet_lower.append(word.lower())\n",
    "    return(classifica_tweet(tweet_lower))"
   ]
  },
  {
   "cell_type": "code",
   "execution_count": 34,
   "metadata": {},
   "outputs": [],
   "source": [
    "# Cria uma lista vazia para os resultados\n",
    "resultados = []"
   ]
  },
  {
   "cell_type": "code",
   "execution_count": 35,
   "metadata": {},
   "outputs": [],
   "source": [
    "# Essa função salva o resultado dos batches de Tweets junto com o timestamp\n",
    "def output_rdd(rdd):\n",
    "  global resultados\n",
    "  pairs = rdd.map(lambda x: (get_tweet_text(x)[1],1))\n",
    "  counts = pairs.reduceByKey(add)\n",
    "  output = []\n",
    "  for count in counts.collect():\n",
    "    output.append(count)\n",
    "  result = [time.strftime(\"%I:%M:%S\"), output]\n",
    "  resultados.append(result)\n",
    "  print(result)"
   ]
  },
  {
   "cell_type": "code",
   "execution_count": 36,
   "metadata": {},
   "outputs": [],
   "source": [
    "# A função foreachRDD() aplica uma função a cada RDD to streaming de dados\n",
    "coord_stream.foreachRDD(lambda t, rdd: output_rdd(rdd))"
   ]
  },
  {
   "cell_type": "code",
   "execution_count": 37,
   "metadata": {
    "scrolled": false
   },
   "outputs": [],
   "source": [
    "# Start streaming\n",
    "ssc.start()\n",
    "# ssc.awaitTermination()"
   ]
  },
  {
   "cell_type": "code",
   "execution_count": 38,
   "metadata": {},
   "outputs": [
    {
     "name": "stderr",
     "output_type": "stream",
     "text": [
      "                                                                                \r"
     ]
    },
    {
     "name": "stdout",
     "output_type": "stream",
     "text": [
      "['06:58:59', []]\n"
     ]
    },
    {
     "name": "stderr",
     "output_type": "stream",
     "text": [
      "https://stream.twitter.com/1.1/statuses/filter.json?track=Trump <Response [200]>\n",
      "['rt', '4theculture', 'remove', 'the', 'judge', 'immediately'] 0    (7 + 1) / 8]\n",
      "['rt', 'palmerreport', 'merrick', 'garland’s', 'doj', 'has', 'criminally', 'indicted', 'steve', 'bannon', 'for', 'contempt', 'bannon', 'is', 'surrendering', 'this', 'was', 'always', 'going', 'to…'] 0\n",
      "['rt', 'fearlesspac', 'trump', 'has', '11', '“wannabe’s”', 'in', 'congress', '\\n\\nwe’re', 'taking', 'them', 'all', 'down', '\\n\\nrt', 'and', 'follow', 'us', 'fearlesspac'] 1\n",
      "['jimjordan', 'you', 'first', 'need', 'to', 'come', 'before', 'congress', 'and', 'explain', 'what', 'you', 'spoke', 'with', 'trump', 'on', 'jan', '6'] 0\n",
      "['there', 'are', '“judges', 'appointed', 'by', 'trump”', 'and', '“trump', 'judges”', 'kyle', 'duncan—she’s', 'a', '“trump', 'judge”'] 0\n",
      "['rt', 'davidcorndc', 'uh', 'when', 'was', 'the', 'last', 'time', 'congress', 'had', 'to', 'investigate', 'a', 'former', 'president', 'and', 'his', 'henchmen', 'for', 'an', 'insurrectionist', 'attack', 'o…'] 0\n",
      "['nudog71', 'all', 'those', 'assholes', 'lost', 'their', 'ability', 'to', 'think', 'when', 'they', 'hooked', 'up', 'with', 'trump'] 0\n",
      "['rt', 'woodruffbets', 'bannons', 'case', 'is', 'assigned', 'to', 'judge', 'carl', 'j', 'nichols', 'a', 'trump', 'appointee', 'he', 'clerked', 'for', 'clarence', 'thomas', '\\n\\nhttpstcok7f6…'] 0\n",
      "['rt', 'lucywithsword', 'we', 'going', 'to', 'let', 'that', 'right', 'wing', 'coup', 'succeed', 'cia\\ncc', 'fbi', 'thejusticedept', 'january6thcmte', ''] 0\n",
      "['lots', 'of', 'firsts', 'with', 'the', 'trump', 'administration'] 0\n",
      "['rt', 'ryanjreilly', 'a', 'defense', 'department', 'contractor', 'with', 'a', 'secret', 'security', 'clearance', 'charged', 'in', 'connection', 'with', 'jan', '6', 'used', 'his', 'work', 'computer…'] 0\n",
      "                                                                                \r"
     ]
    },
    {
     "name": "stdout",
     "output_type": "stream",
     "text": [
      "['06:59:03', [('0', 10), ('1', 1)]]\n"
     ]
    },
    {
     "name": "stderr",
     "output_type": "stream",
     "text": [
      "https://stream.twitter.com/1.1/statuses/filter.json?track=Trump <Response [200]>\n",
      "['rt', 'joncoopertweets', 'no', 'more', 'delays', 'the', 'january6thcmte', 'should', 'immediately', 'subpoena', 'donald', 'trump', '\\n\\nraise', 'your', 'hand', 'if', 'you', 'agree', '✋'] 0\n",
      "['rt', 'stephenking', 'trump', 'is', 'never', 'going', 'to', 'jail', 'he', 'deserves', 'to', 'but', 'he’s', 'rich', 'and', 'powerful', 'instead', 'of', 'poor', 'and', 'black', 'welcome', 'to', 'america'] 0\n",
      "['rt', 'steveschmidtses', 'or', 'has', 'all', 'pretense', 'of', 'reporting', 'reality', 'and', 'facts', 'just', 'completely', 'disappeared', 'is', 'that', 'what', 'conservatism', 'is', 'too', 'you…'] 0\n",
      "['zerohedge', 'trump', 'kept', 'turkey', 'prices', 'low'] 0\n",
      "['seanspicer', 'and', 'what', 'percent', 'took', 'new', 'jobs', 'it', 'seems', 'more', 'than', 'quit', 'them', 'since', 'the', 'jobless', 'rate', 'went', 'down', 'to', '46…', 'httpstcorojygs7ft8'] 0\n",
      "['rt', 'purplerain713', 'media', 'choosing', 'ur', 'candidates', 'for', 'office', 'is', 'the', 'worst', 'idea', 'everthat’s', 'how', 'trump', 'happened', 'in', '2020', 'they', 'dragged', 'amp', 'belittl…'] 0\n",
      "['rt', 'justsecurity', 'top', 'stories', 'from', 'today’s', 'early', 'edition\\n\\nappeals', 'court', 'grants', 'trump’s', 'request', 'to', 'pause', 'release', 'of', 'files', 'to', 'jan', '6', 'commi…'] 0\n",
      "['about', 'time'] 1\n",
      "['perhaps', 'he', 'thinks', 'trump', 'will', 'pardon', 'him', 'again', 'after', 'hell', 'freezes', 'over', '\\n\\nhttpstcorok0y4qph4'] 0\n",
      "['girlsreallyrule', 'i', 'dont', 'understand', 'why', 'folks', 'who', 'interview', 'trump', 'jon', 'karl\\ndont', 'follow', 'up\\nwas', 'it', 'really', 'comm…', 'httpstcoxc3bqinepo'] 1\n",
      "['rt', 'judicialwatch', 'they', 'froze', 'the', 'doj', 'for', 'two', 'years', 'to', 'harass', 'trump', 'based', 'on', 'the', 'steele', 'dossier', 'lie', 'judicial', 'watch', 'president', 'tomfitto…'] 0\n",
      "                                                                                \r"
     ]
    },
    {
     "name": "stdout",
     "output_type": "stream",
     "text": [
      "['06:59:08', [('0', 9), ('1', 2)]]\n"
     ]
    },
    {
     "name": "stderr",
     "output_type": "stream",
     "text": [
      "https://stream.twitter.com/1.1/statuses/filter.json?track=Trump <Response [200]>\n",
      "['rt', 'davidcorndc', 'sincere', 'question', 'trump', 'barely', 'got', 'anything', 'done', 'amp', 'killed', '100ks', 'with', 'his', 'ineptitude', 'rs', 'still', 'love', 'him', 'biden', 'got', 'a', 'handle…'] 1\n",
      "['rt', 'projectlincoln', 'donald', 'trump', 'is', 'a', 'talker', '\\n\\njoe', 'biden', 'is', 'a', 'builder', 'httpstcobjmltogv98'] 0\n",
      "['rt', 'leslibless', 'joe', 'spent', 'last', 'weekend', 'at', 'the', 'beachhe', 'leaves', 'today', 'for', 'camp', 'david', 'every', 'single', 'weekendgone\\ntrump', 'would', 'go', 'away', 'once…'] 0\n",
      "['rt', 'tedlieu', 'no', 'one', 'should', 'be', 'above', 'the', 'law', 'not', 'the', 'former', 'president', 'not', 'his', 'staff', 'not', 'members', 'of', 'congress', 'and', 'not', 'steve', 'bannon'] 0\n",
      "['rt', 'travisbhill5', 'bro', 'what', 'is', 'the', 'onion', 'even', 'supposed', 'to', 'do', 'at', 'this', 'point'] 0\n",
      "['rt', 'vermontgmg', 'not', 'for', 'nothing', 'but', 'steve', 'bannon', 'would', 'probably', 'already', 'be', 'behind', 'bars', 'except', 'for', 'the', 'corrupt', 'pardon', 'trump', 'gave', 'on', 'the', 'way…'] 0\n",
      "['omgi', 'have', 'never', 'seen', 'this', 'many', 'gullible', 'people', 'continuing', 'to', 'give', 'their', 'hard', 'earn', 'money', 'to', 'griftersbigbaby45', 'ban…', 'httpstcopzocybkfea'] 0\n",
      "['rt', 'jimsciutto', 'more', 'steve', 'bannon', 'is', 'expected', 'to', 'selfsurrender', 'on', 'monday', 'and', 'appear', 'in', 'court', 'monday', 'afternoon', 'according', 'a', 'source', 'familia…'] 0\n",
      "['jamiroquom', 'pensá', 'en', 'jefferson', 'y', 'en', 'trump\\nes', 'cierto', 'que', 'hay', 'debates', 'en', 'eeuu', 'que', 'son', 'impensables', 'en', 'la', 'argentina', 'a…', 'httpstcofkxpa2wmk7'] 0\n",
      "['rt', 'judicialwatch', 'they', 'froze', 'the', 'doj', 'for', 'two', 'years', 'to', 'harass', 'trump', 'based', 'on', 'the', 'steele', 'dossier', 'lie', 'judicial', 'watch', 'president', 'tomfitto…'] 0\n",
      "['rt', 'ericgarland', 'guys\\n\\nim', 'starting', 'to', 'think', 'trump', 'wont', 'be', 'reinstalled', 'as', 'president', '😂🖕🤣'] 0\n",
      "                                                                                \r"
     ]
    },
    {
     "name": "stdout",
     "output_type": "stream",
     "text": [
      "['06:59:13', [('1', 1), ('0', 10)]]\n"
     ]
    },
    {
     "name": "stderr",
     "output_type": "stream",
     "text": [
      "https://stream.twitter.com/1.1/statuses/filter.json?track=Trump <Response [200]>\n",
      "['rt', 'natashabertrand', 'breaking', 'on', 'cnn', 'trump', 'adviser', 'steve', 'bannon', 'has', 'been', 'indicted', 'by', 'a', 'federal', 'grand', 'jury'] 0\n",
      "['rt', 'donwinslow', 'dear', 'benniegthompson', '\\n\\nyour', 'committee', 'is', 'losing', 'all', 'credibility\\n\\nyou', 'are', 'directly', 'responsible', 'for', 'wasting', 'almost', 'a', 'year…'] 0\n",
      "['timcast', 'nope', 'because', 'i', 'dont', 'live', 'in', 'some', 'bullshit', 'fantasy', 'world', 'like', 'you', 'tim', 'i', 'love', 'in', 'reality', 'where', 'russian', 'in…', 'httpstcodd59u3vxp6'] 1\n",
      "['billkristol', 'with', 'trump', 'underlining', 'his', 'support', 'for', 'the', 'jan', '6', 'lynch', 'mob', 'targeting', 'v', 'p', 'pence'] 0\n",
      "['rt', 'calltoactivism', 'if', 'you', 'think', 'trump', 'must', 'testify', 'we', 'would', 'be', 'honored', 'by', 'a', 'retweet', 'and', 'a', 'follow', 'as', 'we', 'bring', 'on', 'the', 'pressure', 'to', 'make', 'it', 'h…'] 1\n",
      "['rt', 'galsuburban', 'mattgaetz', 'i', 'dont', 'think', 'stone', 'would', 'appreciate', 'you', 'using', 'his', 'catchphrase', 'by', 'the', 'way', '\\nhttpstco1gml7251is'] 0\n",
      "['rt', 'philarballo', 'devin', 'nunes', 'led', 'the', 'way', 'and', 'opened', 'the', 'door', 'for', 'the', 'most', 'extreme', 'factions', 'of', 'the', 'gqp', 'in', 'congress', 'just', 'ask', 'jim', 'jordan', 'wit…'] 0\n",
      "['rt', 'zeclint', 'l’abandon', 'du', 'nucléaire', 'est', 'à', 'la', 'fois', 'une', 'erreur', 'écologique', 'gravissime', 'mais', 'une', 'erreur', 'stratégique', 'majeure', '…', 'l’europe', 'pas', 'cette…'] 0\n",
      "['rt', 'independent', 'former', 'top', 'trump', 'adviser', 'steve', 'bannon', 'indicted', 'httpstcotnjkescrsc'] 0\n",
      "['sing', 'sing', 'prison', 'has', 'rentfree', 'prison', 'cells', 'for', 'teflon', 'trump', 'and', 'his', 'basket', 'oftreasonous', 'mobsters', 'httpstcomm5bnwsv64'] 0\n",
      "['stevebannon', 'has', 'been', 'indicted', 'or', 'charged', 'as', 'they', 'say', 'in', 'lil', 'ole', 'england', 'on', 'the', 'thames'] 1\n",
      "                                                                                \r"
     ]
    },
    {
     "name": "stdout",
     "output_type": "stream",
     "text": [
      "['06:59:18', [('0', 8), ('1', 3)]]\n"
     ]
    },
    {
     "name": "stderr",
     "output_type": "stream",
     "text": [
      "https://stream.twitter.com/1.1/statuses/filter.json?track=Trump <Response [200]>\n",
      "['cnn', 'shocking…trump', 'made', 'the', 'pandemic', 'about', 'him🙄'] 0 1) / 8]\n",
      "['rt', 'usapolling', 'gop', 'presidential', 'primary\\n\\ntrump', '44\\ndesantis', '21\\nhaley', '5\\npence', '4\\ncarlson', '3\\nrubio', '3\\n\\nyougov', '', 'november', '8', '2021', '…'] 1\n",
      "['rt', 'jennycohn1', '“gettr', 'and', 'parler', 'two', 'twitter', 'clones', 'have', 'grown', 'rapidly', 'in', 'brazil', 'by', 'promising', 'a', 'handsoff', 'approach', 'to', 'people', 'who', 'believe…'] 1\n",
      "['rt', 'johncardillo', 'different', 'rules', 'apply', 'to', 'democrats\\n\\nour', 'side', 'gets', 'indicted', 'they', 'make', 'millions', 'in', 'the', 'private', 'sector', '\\n\\nthe', 'next', 'gop', 'pot…'] 0\n",
      "['rt', 'jordanonrecord', '🚨', 'breaking', 'a', 'federal', 'grand', 'jury', 'has', 'indicted', 'former', 'president', 'donald', 'trumps', 'onetime', 'chief', 'strategist', 'and', 'counselor', 's…'] 0\n",
      "['rt', 'resistersis20', 'trump', 'defends', 'the', '“hang', 'mike', 'pence”', 'chants', 'from', 'january', '6', 'asking', '‘how', 'can', 'you', 'pass', 'on', 'a', 'fraudulent', 'vote…50', 'of', 'scholar…'] 0\n",
      "['aaronparnas', 'a', 'good', 'way', 'to', 'say', 'fuck', 'trump', 'lmao'] 1\n",
      "['rt', 'woodruffbets', 'bannons', 'case', 'is', 'assigned', 'to', 'judge', 'carl', 'j', 'nichols', 'a', 'trump', 'appointee', 'he', 'clerked', 'for', 'clarence', 'thomas', '\\n\\nhttpstcok7f6…'] 0\n",
      "['rt', 'joycewhitevance', 'sounds', 'like', 'the', 'jan', '6', 'comm', 'doesnt', 'believe', 'former', 'trump', 'chief', 'of', 'staff', 'mark', 'meadows', 'has', 'been', 'negotiating', 'with', 'them', 'in…'] 0\n",
      "['rt', 'therickwilson', 'at', 'least', 'bannon', 'can', 'count', 'on', 'trump', 'to', 'pardon', 'him', 'for\\n\\nohwait'] 0\n",
      "['rt', 'chipfranklin', 'if', 'you', 'want', 'merrick', 'garland', 'to', 'be', 'tougher', 'on', 'trump', 'and', 'finally', 'hold', 'him', 'accountable', 'retweet', 'this', 'and', 'follow', 'calltoactiv…'] 1\n",
      "                                                                                \r"
     ]
    },
    {
     "name": "stdout",
     "output_type": "stream",
     "text": [
      "['06:59:22', [('0', 7), ('1', 4)]]\n"
     ]
    },
    {
     "name": "stderr",
     "output_type": "stream",
     "text": [
      "https://stream.twitter.com/1.1/statuses/filter.json?track=Trump <Response [200]>\n",
      "['rt', 'ddiamond', 'trump', 'appointees', 'repeatedly', 'interfered', 'with', 'cdc’s', 'attempts', 'to', 'issue', 'warnings', 'and', 'guidance', 'nancy', 'messonnier', 'deborah', 'birx', 'and…'] 0\n",
      "['weirdrick', 'carai', 'só', 'falta', 'o', 'bronzeamento', 'artificial', 'e', 'vc', 'pode', 'trabalhar', 'como', 'segurança', 'do', 'trump'] 0\n",
      "['trumpadviseur', 'bannon', 'vervolgd', 'voor', 'minachting', 'parlement\\n\\njakkes', 'is', 'dat', 'hier', 'ook', 'strafbaar'] 0\n",
      "['former', 'president', 'trump’s', 'one', 'time', 'attorney', 'and', 'fixer', 'michael', 'cohen', 'lost', 'his', 'attempt', 'to', 'get', 'his', 'exboss', 'to', 'pay', 'his', 'l…', 'httpstcovd56o3uzpq'] 0\n",
      "['appeals', 'court', 'grants', 'trump', 'delay', 'in', 'releasing', 'records', 'to', 'jan', '6', 'probe\\n\\nhttpstcoxm65pzpw5z'] 0\n",
      "['tribelaw', 'glennkirschner2\\ntrump', 'tries', 'to', 'block', 'records', 'from', 'jan', '6', 'capitol', 'riot', 'probe', 'in', 'congress\\n\\nhttpstcodjd4s1vq3f'] 0\n",
      "['rt', 'gumboqueen3030', 'not', 'invited', 'to', 'general', 'colin', 'powells', 'funeral', '\\n\\nthats', 'how', 'pathetic', 'the', 'rest', 'of', 'us', 'see', 'trump', '', 'unworthy', 'of', 'even', 'attendi…'] 1\n",
      "['rt', 'joncoopertweets', 'newsmax', 'and', 'oan', 'have', 'been', 'sued', '—', 'potentially', 'for', 'billions', 'of', 'dollars', '—', 'for', 'spreading', 'false', 'conspiracy', 'theories', 'that', 'vo…'] 0\n",
      "['rt', 'joncoopertweets', 'who', 'else', 'thinks', 'merrick', 'garland', 'needs', 'to', 'be', 'tougher', 'on', 'trumps', 'goons', 'when', 'they', 'ignore', 'subpoenas', '✋'] 0\n",
      "['bannon', 'indicted\\n\\nmeadows', 'amp', 'miller', 'next\\n\\nyour', 'turn', 'is', 'coming', 'trump\\n\\ntreasonous', 'asshole\\n\\nmaddow', 'theview…', 'httpstcoqzpawplja0'] 1\n",
      "['rt', 'stephenking', 'trump', 'is', 'never', 'going', 'to', 'jail', 'he', 'deserves', 'to', 'but', 'he’s', 'rich', 'and', 'powerful', 'instead', 'of', 'poor', 'and', 'black', 'welcome', 'to', 'america'] 0\n",
      "                                                                                \r"
     ]
    },
    {
     "name": "stdout",
     "output_type": "stream",
     "text": [
      "['06:59:27', [('0', 9), ('1', 2)]]\n"
     ]
    },
    {
     "name": "stderr",
     "output_type": "stream",
     "text": [
      "https://stream.twitter.com/1.1/statuses/filter.json?track=Trump <Response [420]>\n"
     ]
    },
    {
     "name": "stdout",
     "output_type": "stream",
     "text": [
      "['06:59:31', []]\n"
     ]
    },
    {
     "name": "stderr",
     "output_type": "stream",
     "text": [
      "https://stream.twitter.com/1.1/statuses/filter.json?track=Trump <Response [420]>\n"
     ]
    },
    {
     "name": "stdout",
     "output_type": "stream",
     "text": [
      "['06:59:36', []]\n"
     ]
    },
    {
     "name": "stderr",
     "output_type": "stream",
     "text": [
      "https://stream.twitter.com/1.1/statuses/filter.json?track=Trump <Response [420]>\n",
      "                                                                                \r"
     ]
    },
    {
     "name": "stdout",
     "output_type": "stream",
     "text": [
      "['06:59:42', []]\n"
     ]
    },
    {
     "name": "stderr",
     "output_type": "stream",
     "text": [
      "https://stream.twitter.com/1.1/statuses/filter.json?track=Trump <Response [420]>\n"
     ]
    },
    {
     "name": "stdout",
     "output_type": "stream",
     "text": [
      "['06:59:46', []]\n"
     ]
    },
    {
     "name": "stderr",
     "output_type": "stream",
     "text": [
      "https://stream.twitter.com/1.1/statuses/filter.json?track=Trump <Response [420]>\n",
      "                                                                                \r"
     ]
    },
    {
     "name": "stdout",
     "output_type": "stream",
     "text": [
      "['06:59:52', []]\n"
     ]
    },
    {
     "name": "stderr",
     "output_type": "stream",
     "text": [
      "https://stream.twitter.com/1.1/statuses/filter.json?track=Trump <Response [420]>\n"
     ]
    },
    {
     "name": "stdout",
     "output_type": "stream",
     "text": [
      "['06:59:57', []]\n"
     ]
    },
    {
     "name": "stderr",
     "output_type": "stream",
     "text": [
      "https://stream.twitter.com/1.1/statuses/filter.json?track=Trump <Response [200]>\n",
      "['departamento', 'de', 'justiça', 'dos', 'eua', 'anuncia', 'que', 'steve', 'bannon', 'exconselheiro', 'de', 'donald', 'trump', 'foi', 'formalmente', 'denunciad…', 'httpstcoxgajvfasfm'] 0\n",
      "['rt', 'hillreporter', 'mark', 'meadows', 'follows', 'trump’s', 'orders', 'by', 'defying', 'jan', '6th', 'subpoena', 'httpstcokykg691moo'] 0\n",
      "['rt', 'palazzo214', 'ronfilipkowski', 'trump', 'presidency', 'was', 'not', 'possible', 'without', 'steve', 'bannon\\n\\nresurgence', 'of', 'white', 'supremacy', 'was', 'not', 'possible', 'wit…'] 0\n",
      "['time', 'and', 'again', 'we', 'learn', 'about', 'the', 'trump', 'gop', 'law', 'and', 'order', 'except', 'for', 'us'] 1\n",
      "['rt', 'ahmedbaba', 'paul', 'gosar’s', 'siblings', 'just', 'dropped', 'an', 'oped', 'in', 'independent', 'calling', 'for', 'accountability', 'httpstcokvnsbpg2ft'] 0\n",
      "['rt', 'chipfranklin', 'if', 'you', 'want', 'merrick', 'garland', 'to', 'be', 'tougher', 'on', 'trump', 'and', 'finally', 'hold', 'him', 'accountable', 'retweet', 'this', 'and', 'follow', 'calltoactiv…'] 1\n",
      "['rt', 'occupydemocrats', 'breaking', 'trumps', 'former', 'chief', 'of', 'staff', 'mark', 'meadows', 'refuses', 'to', 'show', 'up', 'for', 'his', 'jan', '6th', 'committee', 'deposition', 'after', 'th…'] 1\n",
      "['kagsnews', 'mikepence', 'i', 'agree', 'because', 'we', 'lost', 'a', 'lot', 'of', 'freedom', 'with', 'former', 'president', 'trump', 'so', 'we', 'must', 'defend', 'or', 'constitution', 'and', 'democracy'] 0\n",
      "['rt', 'blukryptonian', 'politico', 'emails', 'reveal', 'new', 'details', 'of', 'trump', 'white', 'house', 'interference', 'in', 'cdc', 'covid', 'planning\\nhttpstcoxtqrvxvwzj\\n\\nv…'] 0\n",
      "['rt', 'sarahkendzior', 'old', 'thread', 'on', 'lax', 'consequences', 'for', 'members', 'of', 'the', 'trump', 'crime', 'cult', 'following', 'indictments', 'for', 'those', 'who', 'have', 'the', 'memory…'] 0\n",
      "['rt', 'judicialwatch', 'they', 'froze', 'the', 'doj', 'for', 'two', 'years', 'to', 'harass', 'trump', 'based', 'on', 'the', 'steele', 'dossier', 'lie', 'judicial', 'watch', 'president', 'tomfitto…'] 0\n",
      "                                                                                \r"
     ]
    },
    {
     "name": "stdout",
     "output_type": "stream",
     "text": [
      "['07:00:03', [('0', 8), ('1', 3)]]\n"
     ]
    },
    {
     "name": "stderr",
     "output_type": "stream",
     "text": [
      "https://stream.twitter.com/1.1/statuses/filter.json?track=Trump <Response [200]>\n",
      "['hillary', 'clinton’s', 'russian', 'helpers', 'by', 'kimstrassel', 'httpstcoqwhfzmqezp', 'via', 'wsjopinion'] 0\n",
      "['steve', 'bannon', 'former', 'president', 'donald', 'trump’s', 'political', 'strategist', 'was', 'indicted', 'by', 'federal', 'grand', 'jury', 'on', 'friday', 'c…', 'httpstcogkj6gnwxfd'] 1\n",
      "['rt', 'wkyc', 'steve', 'bannon', 'indicted', 'on', 'contempt', 'charges', 'for', 'defying', 'jan', '6', 'subpoena', 'httpstcorc3ubb9grv'] 0\n",
      "['rt', 'ashoutoutfrommn', 'blukryptonian', 'googlenews', 'all', 'of', 'the', 'times', 'president', 'trump', 'said', 'covid19', 'will', 'disappear', 'httpstcojsxfktbzq2'] 1\n",
      "['rt', 'costareports', 'why', 'bannon', 'matters', '\\n\\nkey', 'confidant', 'to', 'eastman', 'as', 'eastman', 'writes', 'his', 'memo', 'and', 'circulates', 'it\\n\\nrallies', 'trump', 'supporters', 't…'] 0\n",
      "['icymi', 'the', 'trade', 'guys', 'discuss', 'us', 'trade', 'policy', 'in', 'the', 'trump', 'and', 'biden', 'administrations', 'with', 'ed', 'gresser', 'from', 'the', 'pro…', 'httpstcobkskdmlafv'] 0\n",
      "['rt', 'amoneyresists', 'biden', 'has', 'accomplished', 'more', 'in', '10', 'months', 'than', 'trump', 'did', 'in', '4', 'years\\n✅', 'highest', 'production', 'amp', 'distribution', 'of', 'vaccines\\n✅', 'st…'] 1\n",
      "['rt', 'meidastouch', 'donald', 'trump', 'tried', 'to', 'overthrow', 'the', 'government', 'and', 'assassinate', 'the', 'vice', 'president', 'and', 'he', 'is', 'still', 'roaming', 'free'] 0\n",
      "['201pm', 'donald', 'trump', 'is', 'still', 'kicking'] 0\n",
      "['cnn', 'federal', 'grand', 'jury', 'indicts', 'former', 'trump', 'adviser', 'steve', 'bannon', 'for', 'contempt', 'of', 'congress…', 'httpstcoo5zybvwcdx'] 0\n",
      "['httpstcoicnomjslgn', 'market', 'news', 'search\\n\\nalert', 'trump\\n', '', '', '', '', '', '', '', '', '', '', '', '', '', '', '', '\\ntrump', 'wh', 'chief', 'of', 'staff', 'meadows', 'blows', 'off…', 'httpstco4jdiryp91z'] 1\n",
      "                                                                                \r"
     ]
    },
    {
     "name": "stdout",
     "output_type": "stream",
     "text": [
      "['07:00:07', [('0', 7), ('1', 4)]]\n"
     ]
    },
    {
     "name": "stderr",
     "output_type": "stream",
     "text": [
      "https://stream.twitter.com/1.1/statuses/filter.json?track=Trump <Response [200]>\n",
      "['rt', 'renewamerica', 'there', 'are', 'consequences', 'for', 'criminals', 'this', 'isnt', 'the', 'trump', 'administration', 'httpstco8chgljmmn2'] 0\n",
      "['rt', 'bronsays', 'steve', 'bannon', 'indicted', 'for', 'refusing', 'to', 'comply', 'with', 'capitol', 'attack', 'subpoena', '', 'live', 'httpstcoiaagkemxeb\\n\\nyes', 'yes', 'yes'] 1\n",
      "['rt', 'ahmedbaba', 'we’ve', 'seen', 'trump', 'insult', 'almost', 'every', 'republican', 'member', 'of', 'congress', 'diss', 'the', 'wife', 'of', 'ted', 'cruz', 'literally', 'incite', 'a', 'violent', 'm…'] 0\n",
      "['rt', 'natashabertrand', 'breaking', 'on', 'cnn', 'trump', 'adviser', 'steve', 'bannon', 'has', 'been', 'indicted', 'by', 'a', 'federal', 'grand', 'jury'] 0\n",
      "['rt', 'judicialwatch', 'they', 'froze', 'the', 'doj', 'for', 'two', 'years', 'to', 'harass', 'trump', 'based', 'on', 'the', 'steele', 'dossier', 'lie', 'judicial', 'watch', 'president', 'tomfitto…'] 0\n",
      "['rt', 'leandroruschel', 'volto', 'a', 'afirmar', 'esse', 'é', 'o', 'maior', 'escândalo', 'político', 'da', 'história', 'americana', 'deep', 'state', 'em', 'conluio', 'com', 'o', 'partido', 'democrat…'] 0\n",
      "['rt', 'sarahkendzior', 'old', 'thread', 'on', 'lax', 'consequences', 'for', 'members', 'of', 'the', 'trump', 'crime', 'cult', 'following', 'indictments', 'for', 'those', 'who', 'have', 'the', 'memory…'] 0\n",
      "['rt', 'chipfranklin', 'if', 'you', 'want', 'merrick', 'garland', 'to', 'be', 'tougher', 'on', 'trump', 'and', 'finally', 'hold', 'him', 'accountable', 'retweet', 'this', 'and', 'follow', 'calltoactiv…'] 1\n",
      "['rt', 'jimsciutto', 'more', 'steve', 'bannon', 'is', 'expected', 'to', 'selfsurrender', 'on', 'monday', 'and', 'appear', 'in', 'court', 'monday', 'afternoon', 'according', 'a', 'source', 'familia…'] 0\n",
      "['rt', 'leandroruschel', 'volto', 'a', 'afirmar', 'esse', 'é', 'o', 'maior', 'escândalo', 'político', 'da', 'história', 'americana', 'deep', 'state', 'em', 'conluio', 'com', 'o', 'partido', 'democrat…'] 0\n",
      "['jimjordan', 'how', 'about', 'telling', 'us', 'all', 'about', 'the', 'communications', 'you', 'had', 'with', 'trump', 'on', 'jan', '6th', 'gymbo', 'preferably', 'under', 'oath'] 1\n",
      "                                                                                \r"
     ]
    },
    {
     "name": "stdout",
     "output_type": "stream",
     "text": [
      "['07:00:12', [('0', 8), ('1', 3)]]\n"
     ]
    },
    {
     "name": "stderr",
     "output_type": "stream",
     "text": [
      "https://stream.twitter.com/1.1/statuses/filter.json?track=Trump <Response [200]>\n",
      "['borisep', 'dont', 'worry', 'president', 'trump', 'will', 'grant', 'him', 'a', 'pardon', 'i', 'mean', 'if', 'he', 'can', 'assert', 'executive', 'privilege', 'he', 'sho…', 'httpstcowbge7uhcrf'] 0\n",
      "['rt', 'natashabertrand', 'breaking', 'on', 'cnn', 'trump', 'adviser', 'steve', 'bannon', 'has', 'been', 'indicted', 'by', 'a', 'federal', 'grand', 'jury'] 0\n",
      "['crowdpac', 'news', '🗞️\\n\\ntrump', 'thought', 'it', 'was', 'totally', 'fine', 'capitol', 'rioters', 'chanted', '‘hang', 'mike', 'pence’', 'per', 'vice', '\\n\\nread', 'mor…', 'httpstcohv9b4wxqwu'] 0\n",
      "['rt', 'tribelaw', 'it', 'sounds', 'as', 'though', 'trump', 'admits', 'that', 'he', 'spoke', 'to', 'someone', 'familiar', 'with', 'the', 'overall', 'security', 'situation', 'at', 'a', 'pivotal', 'point…'] 0\n",
      "['rt', 'natashabertrand', 'breaking', 'on', 'cnn', 'trump', 'adviser', 'steve', 'bannon', 'has', 'been', 'indicted', 'by', 'a', 'federal', 'grand', 'jury'] 0\n",
      "['rt', 'wsj', 'breaking', 'former', 'trump', 'strategist', 'steve', 'bannon', 'was', 'charged', 'with', 'criminal', 'contempt', 'of', 'congress', 'for', 'defying', 'a', 'subpoena', 'from', 'a', 'house…'] 0\n",
      "['rt', 'judicialwatch', 'they', 'froze', 'the', 'doj', 'for', 'two', 'years', 'to', 'harass', 'trump', 'based', 'on', 'the', 'steele', 'dossier', 'lie', 'judicial', 'watch', 'president', 'tomfitto…'] 0\n",
      "['steve', 'bannon', 'a', 'longtime', 'ally', 'to', 'former', 'president', 'donald', 'trump', 'was', 'indicted', 'friday', 'on', 'two', 'counts', 'of', 'contempt', 'of', 'co…', 'httpstcoz1qxuzyyij'] 0\n",
      "['steve', 'bannon', 'a', 'longtime', 'ally', 'to', 'former', 'president', 'donald', 'trump', 'was', 'indicted', 'friday', 'on', 'two', 'counts', 'of', 'contempt', 'of', 'co…', 'httpstcooufjtfhxwo'] 0\n",
      "['rt', 'bigredwavenow2', 'good', 'morning', 'roomproof', 'hohoho', 'scotus', 'presidentt', 'merrychristmas', 'realdonaldtrump', 'danscavino', 'reallizusa', 'https…'] 1\n",
      "['new', 'source', 'close', 'to', 'us', 'attorney’s', 'office', 'tells', 'me', 'now', 'that', 'former', 'trump', 'chief', 'strategist', 'steve', 'bannon', 'is', 'expected…', 'httpstcoyadlwm6l4k'] 1\n",
      "                                                                                \r"
     ]
    },
    {
     "name": "stdout",
     "output_type": "stream",
     "text": [
      "['07:00:17', [('0', 9), ('1', 2)]]\n"
     ]
    },
    {
     "name": "stderr",
     "output_type": "stream",
     "text": [
      "https://stream.twitter.com/1.1/statuses/filter.json?track=Trump <Response [200]>\n",
      "['rt', 'palmerreport', 'merrick', 'garland’s', 'doj', 'has', 'criminally', 'indicted', 'steve', 'bannon', 'for', 'contempt', 'bannon', 'is', 'surrendering', 'this', 'was', 'always', 'going', 'to…'] 0\n",
      "['rt', 'bolsoregrets', 'fridayou', '🍷'] 0\n",
      "['sstaedtler98', 'gregprice11', 'trump', 'failed', 'to', 'fix', 'it'] 0\n",
      "['a', 'federal', 'grand', 'jury', 'has', 'indicted', 'steve', 'bannon', 'on', 'two', 'counts', 'of', 'contempt', 'of', 'congress\\n\\na', 'lesson', 'for', 'other', 'skeptics…', 'httpstcouunmfzgelw'] 0\n",
      "['rt', 'rebeladele', 'jimjordan', 'this', 'isnt', 'bidens', 'doj', 'like', 'trump', 'thought', 'doj', 'was', 'his', 'amp', 'his', 'alone', 'to', 'do', 'with', 'what', 'he', 'wanted', 'the', 'doj', 'represen…'] 0\n",
      "['rt', 'faithov14406694', 'i', 'have', 'in', 'fact', 'heard', 'president', 'trump', 'speak', 'against', 'white', 'supremacy', 'multiple', 'times', 'just', 'because', 'you', 'choose', 'to', 'ignore…'] 0\n",
      "['rt', 'bluepatriotnews', 'imagine', 'trump', 'locked', 'up', 'in', 'prison', 'for', 'the', 'rest', 'of', 'his', 'life\\nthat', 'would', 'be', 'reason', 'for', 'the', 'biggest', 'celebration', 'in', 'modern…'] 0\n",
      "['rt', 'travisbhill5', 'bro', 'what', 'is', 'the', 'onion', 'even', 'supposed', 'to', 'do', 'at', 'this', 'point'] 0\n",
      "['rt', 'simmiesaid', 'are', 'those', 'lil', 'wayne’s', 'missing', 'locs'] 0\n",
      "['this', '', 'this', '', 'this', ''] 1\n",
      "['rt', 'glennkirschner2', 'justice', 'on', 'life', 'support', '', '', ''] 1\n",
      "                                                                                \r"
     ]
    },
    {
     "name": "stdout",
     "output_type": "stream",
     "text": [
      "['07:00:22', [('0', 9), ('1', 2)]]\n"
     ]
    },
    {
     "name": "stderr",
     "output_type": "stream",
     "text": [
      "https://stream.twitter.com/1.1/statuses/filter.json?track=Trump <Response [200]>\n",
      "['rt', 'sethabramson', '🔒', 'icymi', 'if', 'you', 'know', 'who', 'steve', 'bannons', 'lawyer', 'is', 'you', 'understand', 'how', 'closely', 'trump', 'is', 'linked', 'to', 'the', 'coverup', 'of', 'his', 'o…'] 0\n",
      "['rt', 'repjimmygomez', 'a', 'federal', 'grand', 'jury', 'has', 'indicted', 'steve', 'bannon', 'on', 'two', 'counts', 'of', 'contempt', 'of', 'congress\\n\\na', 'lesson', 'for', 'other', 'skeptics', 'who', 'd…'] 0\n",
      "['good', 'god', 'dcreportmedia', 'theiving', 'realdonaldtrump', 'is', 'fired', 'trump', 'maga', 'racistinchief', 'rapistinchief', 'cult45…', 'httpstcompt0awy8nw'] 1\n",
      "['bleacherreport', 'totalsoccershow', 'don’t', 'care', '', 'trump', 'better'] 0\n",
      "['rt', 'davidcorndc', 'uh', 'when', 'was', 'the', 'last', 'time', 'congress', 'had', 'to', 'investigate', 'a', 'former', 'president', 'and', 'his', 'henchmen', 'for', 'an', 'insurrectionist', 'attack', 'o…'] 0\n",
      "['rt', 'donwinslow', 'please', 'understand', 'that', 'steve', 'bannons', 'indictment', 'only', 'begins', 'a', 'legal', 'process\\n\\neven', 'when', 'arrested', 'he', 'will', 'likely', 'be', 'immedia…'] 0\n",
      "['rt', 'hugolowell', 'new', 'source', 'close', 'to', 'us', 'attorney’s', 'office', 'tells', 'me', 'now', 'that', 'former', 'trump', 'chief', 'strategist', 'steve', 'bannon', 'is', 'expected', 'to', 'surre…'] 1\n",
      "['rt', 'kylegriffin1', 'breaking', 'extrump', 'chief', 'of', 'staff', 'mark', 'meadows', 'failed', 'to', 'appear', 'for', 'deposition', 'testimony', 'before', 'the', 'jan', '6', 'select', 'committ…'] 0\n",
      "['rt', 'palazzo214', 'ronfilipkowski', 'trump', 'presidency', 'was', 'not', 'possible', 'without', 'steve', 'bannon\\n\\nresurgence', 'of', 'white', 'supremacy', 'was', 'not', 'possible', 'wit…'] 0\n",
      "['rt', 'projectlincoln', 'donald', 'trump', 'is', 'a', 'talker', '\\n\\njoe', 'biden', 'is', 'a', 'builder', 'httpstcobjmltogv98'] 0\n",
      "['he', 'is', 'a', 'murderous', 'traitor', 'january6thcmte', 'housedemocrats', 'senatedems\\n\\ntrump', 'defended', 'rioters', 'who', 'threatened', 'to', '‘…', 'httpstcoacmqud7zvp'] 0\n",
      "                                                                                \r"
     ]
    },
    {
     "name": "stdout",
     "output_type": "stream",
     "text": [
      "['07:00:28', [('0', 9), ('1', 2)]]\n"
     ]
    },
    {
     "name": "stderr",
     "output_type": "stream",
     "text": [
      "https://stream.twitter.com/1.1/statuses/filter.json?track=Trump <Response [420]>\n"
     ]
    },
    {
     "name": "stdout",
     "output_type": "stream",
     "text": [
      "['07:00:31', []]\n"
     ]
    },
    {
     "name": "stderr",
     "output_type": "stream",
     "text": [
      "https://stream.twitter.com/1.1/statuses/filter.json?track=Trump <Response [420]>\n"
     ]
    },
    {
     "name": "stdout",
     "output_type": "stream",
     "text": [
      "['07:00:36', []]\n"
     ]
    },
    {
     "name": "stderr",
     "output_type": "stream",
     "text": [
      "https://stream.twitter.com/1.1/statuses/filter.json?track=Trump <Response [420]>\n"
     ]
    },
    {
     "name": "stdout",
     "output_type": "stream",
     "text": [
      "['07:00:42', []]\n"
     ]
    },
    {
     "name": "stderr",
     "output_type": "stream",
     "text": [
      "https://stream.twitter.com/1.1/statuses/filter.json?track=Trump <Response [420]>\n"
     ]
    },
    {
     "name": "stdout",
     "output_type": "stream",
     "text": [
      "['07:00:46', []]\n"
     ]
    },
    {
     "name": "stderr",
     "output_type": "stream",
     "text": [
      "https://stream.twitter.com/1.1/statuses/filter.json?track=Trump <Response [420]>\n"
     ]
    },
    {
     "name": "stdout",
     "output_type": "stream",
     "text": [
      "['07:00:52', []]\n"
     ]
    },
    {
     "name": "stderr",
     "output_type": "stream",
     "text": [
      "https://stream.twitter.com/1.1/statuses/filter.json?track=Trump <Response [420]>\n"
     ]
    },
    {
     "name": "stdout",
     "output_type": "stream",
     "text": [
      "['07:00:56', []]\n"
     ]
    },
    {
     "name": "stderr",
     "output_type": "stream",
     "text": [
      "https://stream.twitter.com/1.1/statuses/filter.json?track=Trump <Response [200]>\n",
      "['rt', 'saftyinnumbers', 'robreiner', 'federal', 'grand', 'jury', 'has', 'indicted', 'former', 'trump', 'adviser', 'steve', 'bannon', 'httpstco1zsm2xmpnf'] 0\n",
      "['rt', 'dempseytwo', 'that’s', 'the', 'same', 'cambridge', 'analytica', 'that', 'steve', 'bannon', 'used', 'to', 'help', 'putin', 'trump', 'in', '2016', 'btw', '', 'you', 'can', 'read', 'all', 'about', 'that', 'h…'] 1\n",
      "['this', 'is', 'a', 'grand', 'day'] 0\n",
      "['great', 'news', '👏', '👍'] 1\n",
      "['rt', 'resistersis20', 'trump', 'defends', 'the', '“hang', 'mike', 'pence”', 'chants', 'from', 'january', '6', 'asking', '‘how', 'can', 'you', 'pass', 'on', 'a', 'fraudulent', 'vote…50', 'of', 'scholar…'] 0\n",
      "['rt', 'anacabrera', 'breaking', 'federal', 'grand', 'jury', 'has', 'indicted', 'former', 'trump', 'adviser', 'steve', 'bannon', 'httpstco9cfpqqzutc'] 0\n",
      "['rt', 'yorbaee', 'this', 'reminds', 'me', 'of', 'trump', 'lol'] 1\n",
      "['rt', 'sarahkendzior', 'old', 'thread', 'on', 'lax', 'consequences', 'for', 'members', 'of', 'the', 'trump', 'crime', 'cult', 'following', 'indictments', 'for', 'those', 'who', 'have', 'the', 'memory…'] 0\n",
      "['rt', 'johncardillo', 'different', 'rules', 'apply', 'to', 'democrats\\n\\nour', 'side', 'gets', 'indicted', 'they', 'make', 'millions', 'in', 'the', 'private', 'sector', '\\n\\nthe', 'next', 'gop', 'pot…'] 0\n",
      "['rt', 'palmerreport', 'merrick', 'garland’s', 'doj', 'has', 'criminally', 'indicted', 'steve', 'bannon', 'for', 'contempt', 'bannon', 'is', 'surrendering', 'this', 'was', 'always', 'going', 'to…'] 0\n",
      "['trump', 'gives', 'interviews', 'admitting', 'freely', 'without', 'any', 'regard', 'that', 'he', 'was', 'in', 'full', 'support', 'of', 'the', 'insurrection', 'and', 'harm…', 'httpstcoc2vyj3vnjy'] 0\n",
      "                                                                                \r"
     ]
    },
    {
     "name": "stdout",
     "output_type": "stream",
     "text": [
      "['07:01:02', [('0', 8), ('1', 3)]]\n"
     ]
    },
    {
     "name": "stderr",
     "output_type": "stream",
     "text": [
      "https://stream.twitter.com/1.1/statuses/filter.json?track=Trump <Response [200]>\n",
      "['rt', 'billkristol', 'trump', '“i', 'heard', 'that', 'pence', 'was', 'in', 'very', 'good', 'shape”\\n\\ncrimes', 'were', 'committed', 'at', 'the', 'capitol', 'on', 'jan', '6', 'trump', 'suggests', 'he', 'w…'] 1\n",
      "['rt', 'caslernoel', 'the', 'fact', 'that', 'harold', 'bornstein', 'was', 'trump’s', 'physician', 'dr', 'feelgood', 'since', 'the', '80’s', 'had', 'been', 'sued', 'for', 'overprescribing', 'had', 'h…'] 0\n",
      "['rt', 'sarahkendzior', 'old', 'thread', 'on', 'lax', 'consequences', 'for', 'members', 'of', 'the', 'trump', 'crime', 'cult', 'following', 'indictments', 'for', 'those', 'who', 'have', 'the', 'memory…'] 0\n",
      "['rt', 'greggsmith0351', 'seriously', 'the', 'pace', 'at', 'which', 'the', 'doj', 'moves', 'why', 'wouldnt', 'all', 'trump', 'associates', 'tell', 'the', 'house', 'select', 'ctee', 'to', 'fuck', 'off…'] 0\n",
      "['repfitzgerald', 'judiciarygop', 'gopleader', 'httpstcod7gcnjupxq'] 0\n",
      "['rt', 'brendonleslie', 'president', 'donald', 'j', 'trump', 'created', 'recordlow', 'unemployment', 'for', 'african', 'americans\\n\\nyesterday', 'joe', 'biden', 'called', 'an', 'african…'] 0\n",
      "['rt', 'josephfordcotto', 'spoton'] 0\n",
      "['rt', 'b52malmet', 'with', 'regard', 'to', 'the', 'blatant', 'disregard', 'of', 'congressional', 'subpoenas', 'by', 'bannon', 'and', 'meadows', 'suffice', 'to', 'say', 'trump', 'is', 'no', 'longer', 'pre…'] 1\n",
      "['rt', 'cnnbrk', 'a', 'federal', 'grand', 'jury', 'has', 'returned', 'an', 'indictment', 'against', 'former', 'trump', 'adviser', 'steve', 'bannon', 'cnn', 'has', 'learned\\nhttpstco40xfdqr…'] 0\n",
      "['rnmitch2020', 'jimjordan', 'httpstcoxg5wjevbru'] 0\n",
      "['rt', 'emptywheel', 'there', 'is', 'abundant', 'reason', 'to', 'believe', 'that', 'trumps', 'pardons', 'were', 'for', 'services', 'rendered', 'stone', 'flynn', 'papadopoulos', 'and', 'manafo…'] 0\n",
      "                                                                                \r"
     ]
    },
    {
     "name": "stdout",
     "output_type": "stream",
     "text": [
      "['07:01:08', [('1', 2), ('0', 9)]]\n"
     ]
    },
    {
     "name": "stderr",
     "output_type": "stream",
     "text": [
      "https://stream.twitter.com/1.1/statuses/filter.json?track=Trump <Response [200]>\n",
      "['and', 'a', 'terrible', 'horrible', 'no', 'good', 'very', 'bad', 'week', 'for', 'tfg'] 0\n",
      "['rt', 'ternivalentine', 'robin', 'williams', 'on', 'donald', 'trump', 'httpstcosj6noeg5id'] 0\n",
      "['mikepompeo', 'libertyu', 'freedomcenterlu', 'wheres', 'the', 'outrage', 'in', 'the', 'gop', '', 'trump', 'rationalizes', 'insurrection', 'coup', 'attem…', 'httpstcodol17hcdnd'] 1\n",
      "['rt', 'grandpasnarky', 'trump', 'needs', 'to', 'be', 'arrested', 'as', 'he', 'is', 'now', 'illegally', 'conducting', 'us', 'foreign', 'policy\\nspeakerpelosi', 'senschumer', 'senatedems', '…'] 1\n",
      "['mattgaetz', 'trump', 'once', 'said', 'those', 'that', 'take', 'the', '5th', 'amendment', 'in', 'court', 'are', 'guilty', 'same', 'with', 'disobeying', 'a', 'subpoena'] 0\n",
      "['im', 'not', 'sorry', '', 'if', 'you', 'claim', 'to', 'be', 'a', 'christian', 'and', 'still', 'believe', 'in', 'the', 'cult', 'of', 'qanon', 'and', 'that', 'trump', 'and', 'the', 'milita…', 'httpstcoy7aslwvzao'] 0\n",
      "['and', 'for', 'the', 'record', 'ericholder\\nis', 'still', 'in', 'contempt', 'of', 'congress', '\\nhttpstcouydr9af4kx\\n\\nsteve', 'bannon', 'a', 'longtim…', 'httpstco9wnal235ds'] 0\n",
      "['rt', 'therickwilson', 'at', 'least', 'bannon', 'can', 'count', 'on', 'trump', 'to', 'pardon', 'him', 'for\\n\\nohwait'] 0\n",
      "['i', 'found', 'this', 'on', 'newsbreak', '–', 'the', '1', 'local', 'news', 'app', 'used', 'by', '45', 'million', 'people', 'trump', 'strategist', 'steve', 'bannon', 'indicte…', 'httpstcoryy6x2cetb'] 1\n",
      "['rt', 'charliekirk11', 'if', 'tony', 'evers', 'had', 'accepted', 'trumps', 'offer', 'to', 'send', 'in', 'the', 'national', 'guard', 'during', 'last', 'summers', 'riots', 'there', 'would', 'not', 'be', 'a…'] 0\n",
      "['rt', 'spenolpalinusa', 'mr', 'trump', 'whom', 'i', 'dactually', 'did', 'support', 'httpstco9u3aqwz1ln'] 0\n",
      "                                                                                \r"
     ]
    },
    {
     "name": "stdout",
     "output_type": "stream",
     "text": [
      "['07:01:12', [('0', 8), ('1', 3)]]\n"
     ]
    },
    {
     "name": "stderr",
     "output_type": "stream",
     "text": [
      "https://stream.twitter.com/1.1/statuses/filter.json?track=Trump <Response [200]>\n",
      "['rt', 'madridmike', 'welp', 'it', 'was', 'fun', 'while', 'it', 'lasted'] 1 / 8]\n",
      "['rt', 'donwinslow', 'please', 'understand', 'that', 'steve', 'bannons', 'indictment', 'only', 'begins', 'a', 'legal', 'process\\n\\neven', 'when', 'arrested', 'he', 'will', 'likely', 'be', 'immedia…'] 0\n",
      "['preetbharara', 'i', 'would', 'feel', '', 'better', 'if', 'the', 'doj', 'had', 'a', 'grand', 'jury', 'investigating', 'trump', 'for', 'jan', '6', 'and', 'were', 'issuing', 'subp…', 'httpstcobiweyxiaff'] 0\n",
      "['rt', 'tweetmalena', 'finally', 'this', 'monster', 'will', 'be', 'served', 'some', 'justice', 'perhaps', '\\nsadly', 'hell', 'use', 'it', 'to', 'gain', 'martyrdom', 'nevertheless', '', 'prisonja…'] 1\n",
      "['rt', 'travisbhill5', 'bro', 'what', 'is', 'the', 'onion', 'even', 'supposed', 'to', 'do', 'at', 'this', 'point'] 0\n",
      "['republicans', 'who', 'backed', 'infrastructure', 'bill', 'divided', 'over', 'whether', 'to', 'join', 'biden', 'at', 'white', 'house', 'signing', 'ceremony', '', 'via…', 'httpstcokwheezrfby'] 0\n",
      "['a', 'reminder', 'to', 'voteblue2022', 'voteblue', '\\nthese', 'people', 'dont', 'have', 'your', 'best', 'interest', 'in', 'mind\\n\\nhttpstco352naygxpq'] 1\n",
      "['🤣🤣🤣🤣🤣', 'rnesrudin', 'poking', 'the', 'dcaddis', 'liberal', 'crowd', 'in', 'the', 'eye', 'it', 'was', 'a', 'puzzling', 'political', 'mixup', 'that', 'historians…', 'httpstcoykj1gg8kmu'] 0\n",
      "['rt', 'therickwilson', 'at', 'least', 'bannon', 'can', 'count', 'on', 'trump', 'to', 'pardon', 'him', 'for\\n\\nohwait'] 0\n",
      "['partymanrandy', 'this', 'is', 'a', 'repeat', 'of', 'the', 'russia', 'hoax', 'fabricate', 'a', 'crime', 'by', 'trump', 'and', 'his', 'allies', 'its', 'even', 'more', 'laugh…', 'httpstcogowtrywvyd'] 0\n",
      "['good', 'piece\\nhttpstcovw6sq2iqbc'] 1\n",
      "                                                                                \r"
     ]
    },
    {
     "name": "stdout",
     "output_type": "stream",
     "text": [
      "['07:01:17', [('1', 4), ('0', 7)]]\n"
     ]
    },
    {
     "name": "stderr",
     "output_type": "stream",
     "text": [
      "https://stream.twitter.com/1.1/statuses/filter.json?track=Trump <Response [200]>\n",
      "['rt', 'donwinslow', 'watch', 'kevin', 'mccarthy', 'brag', 'about', 'he', 'used', 'the', 'benghazi', 'hearings', 'to', 'tear', 'down', 'an', 'innocent', 'hillaryclinton\\n\\nhe', 'literally', 'bragg…'] 0\n",
      "['rt', 'travisbhill5', 'bro', 'what', 'is', 'the', 'onion', 'even', 'supposed', 'to', 'do', 'at', 'this', 'point'] 0\n",
      "['rt', 'twwgifs', 'httpstcolt2yvtrwxe'] 0\n",
      "['ronfilipkowski', '“wounded…ready', 'to', 'strike', 'out', 'democrats', 'for', 'angry', 'man', 'biden', 'that’s', 'why', 'trump’s', 'storm', 'troopers', 'wea…', 'httpstcodq7t4ddmc8'] 0\n",
      "['rt', 'palmerreport', 'merrick', 'garland’s', 'doj', 'has', 'criminally', 'indicted', 'steve', 'bannon', 'for', 'contempt', 'bannon', 'is', 'surrendering', 'this', 'was', 'always', 'going', 'to…'] 0\n",
      "['rt', 'ryanjreilly', 'new', 'an', 'exceo', 'who', 'donated', '25k', 'to', 'trump', 'and', 'gop', 'committees', 'last', 'year', 'before', 'he', 'stormed', 'the', 'capitol', 'and', 'tossed', 'a', 'chair', 'tow…'] 0\n",
      "['rt', 'nickadamsinusa', 'we', 'had', 'a', 'great', 'country', 'and', 'economy', 'under', 'president', 'trump\\n\\nwhat', 'the', 'hell', 'happened'] 1\n",
      "['rt', 'anacabrera', 'just', 'in', 'federal', 'appeals', 'court', 'has', 'granted', 'trump’s', 'request', 'to', 'pause', 'release', 'of', 'documents', 'to', 'january', '6', 'committee'] 0\n",
      "['truefactsstated', 'trump', 'doesnt', 'care', 'because', 'bannon', 'wont', 'testify', 'anyways'] 0\n",
      "['rt', 'richardgrenell', 'and', 'a', 'biden', 'appointee', 'at', 'doj', 'is', 'pushing', 'this…did', 'you', 'tweet', 'about', 'the', 'biden', 'appointee\\n\\nand', 'why', 'do', 'you', 'keep', 'protectin…'] 0\n",
      "['rt', 'davetroy', 'best', 'news', 'all', 'day'] 1\n",
      "                                                                                \r"
     ]
    },
    {
     "name": "stdout",
     "output_type": "stream",
     "text": [
      "['07:01:23', [('0', 9), ('1', 2)]]\n"
     ]
    },
    {
     "name": "stderr",
     "output_type": "stream",
     "text": [
      "https://stream.twitter.com/1.1/statuses/filter.json?track=Trump <Response [200]>\n",
      "['rt', 'lilirosea', 'j’ai', 'beau', 'vouloir', 'détester', 'trump', 'mais', 'je', 'n’y', 'arrive', 'pas', 'et', 'comme', 'plusieurs', 'j’aurais', 'de', 'bonnes', 'raisons', 'de', 'vouloir', 'le', 'déte…'] 0\n",
      "['trump’s', 'former', 'chief', 'of', 'staff', 'didn’t', 'show', 'up', 'to', 'testify', 'before', 'panel', 'investigating', 'attack', 'on', 'congress', 'raising', 'poss…', 'httpstcosxijicpqpb'] 1\n",
      "['rt', 'ap', 'breaking', 'exdonald', 'trump', 'aide', 'steve', 'bannon', 'has', 'been', 'indicted', 'on', 'contempt', 'of', 'congress', 'charges', 'after', 'defying', 'jan', '6', 'committee', 'subpoe…'] 0\n",
      "['rt', 'donwinslow', 'watch', 'kevin', 'mccarthy', 'brag', 'about', 'he', 'used', 'the', 'benghazi', 'hearings', 'to', 'tear', 'down', 'an', 'innocent', 'hillaryclinton\\n\\nhe', 'literally', 'bragg…'] 0\n",
      "['rt', 'nbcnews', 'breaking', 'former', 'trump', 'adviser', 'steve', 'bannon', 'indicted', 'by', 'federal', 'grand', 'jury', 'charged', 'with', 'contempt', 'of', 'congress', 'for', 'refusing', 'to…'] 0\n",
      "['hbomb143', 'occupydemocrats', 'economy', 'was', 'bad', 'when', 'trump', 'was', 'running', 'it'] 0\n",
      "['rt', 'patriotwyniv', 'so', 'for', 'over', 'the', 'last', '4', 'yrs', 'they', 'had', 'been', 'accused', 'trumps', 'a', 'puppet', 'for', 'putin', 'in', 'reality', 'trump', 'drove', 'russia', 'into', 'recess…'] 0\n",
      "['rt', 'grandpasnarky', 'trump', 'needs', 'to', 'be', 'arrested', 'as', 'he', 'is', 'now', 'illegally', 'conducting', 'us', 'foreign', 'policy\\nspeakerpelosi', 'senschumer', 'senatedems', '…'] 1\n",
      "['rt', 'stevehiltonx', 'the', 'most', 'shameful', 'thing', 'about', 'the', 'medias', 'false', 'russia', 'collusion', 'conspiracy\\n\\nnot', 'only', 'is', 'the', 'evidence', 'showing', 'that', 'trump…'] 0\n",
      "['rt', 'marshablackburn', 'hunter', 'biden', 'was', 'never', 'investigated', 'because', 'the', 'fbi', 'was', 'too', 'busy', 'framing', 'president', 'trump'] 0\n",
      "['trump', 'strategist', 'steve', 'bannon', 'indicted', 'on', 'contempt', 'charges', 'in', 'jan', '6', 'investigation', 'smartnews', '', '', '', '', '', '', '', '', '', '', '', '', 'httpstcof2fqxamqjh'] 1\n",
      "                                                                                \r"
     ]
    },
    {
     "name": "stdout",
     "output_type": "stream",
     "text": [
      "['07:01:27', [('0', 8), ('1', 3)]]\n"
     ]
    },
    {
     "name": "stderr",
     "output_type": "stream",
     "text": [
      "https://stream.twitter.com/1.1/statuses/filter.json?track=Trump <Response [420]>\n"
     ]
    },
    {
     "name": "stdout",
     "output_type": "stream",
     "text": [
      "['07:01:32', []]\n"
     ]
    },
    {
     "name": "stderr",
     "output_type": "stream",
     "text": [
      "https://stream.twitter.com/1.1/statuses/filter.json?track=Trump <Response [420]>\n"
     ]
    },
    {
     "name": "stdout",
     "output_type": "stream",
     "text": [
      "['07:01:36', []]\n"
     ]
    },
    {
     "name": "stderr",
     "output_type": "stream",
     "text": [
      "https://stream.twitter.com/1.1/statuses/filter.json?track=Trump <Response [420]>\n"
     ]
    },
    {
     "name": "stdout",
     "output_type": "stream",
     "text": [
      "['07:01:42', []]\n"
     ]
    },
    {
     "name": "stderr",
     "output_type": "stream",
     "text": [
      "https://stream.twitter.com/1.1/statuses/filter.json?track=Trump <Response [420]>\n"
     ]
    },
    {
     "name": "stdout",
     "output_type": "stream",
     "text": [
      "['07:01:46', []]\n"
     ]
    },
    {
     "name": "stderr",
     "output_type": "stream",
     "text": [
      "https://stream.twitter.com/1.1/statuses/filter.json?track=Trump <Response [420]>\n"
     ]
    },
    {
     "name": "stdout",
     "output_type": "stream",
     "text": [
      "['07:01:52', []]\n"
     ]
    },
    {
     "name": "stderr",
     "output_type": "stream",
     "text": [
      "https://stream.twitter.com/1.1/statuses/filter.json?track=Trump <Response [420]>\n"
     ]
    },
    {
     "name": "stdout",
     "output_type": "stream",
     "text": [
      "['07:01:56', []]\n"
     ]
    },
    {
     "name": "stderr",
     "output_type": "stream",
     "text": [
      "https://stream.twitter.com/1.1/statuses/filter.json?track=Trump <Response [200]>\n",
      "['msnbc', 'because', 'you', 'know', 'that', 'trump', 'is', 'going', 'to', 'appeal', 'to', 'supreme', 'court', 'they', 'need', 'to', 'refuse', 'to', 'hear', 'it', 'and', 'stop', 'tru…', 'httpstcoqgantq3ii7'] 0\n",
      "['stevena19016642', 'wowt6news', 'you', 'will', 'cry', 'one', 'day', 'if', 'this', 'one', 'sided', 'type', '“justice”', 'continues', 'it’s', 'called', 'tyranny', 'amp…', 'httpstcowoxnx1yjln'] 0\n",
      "['rt', 'hugolowell', 'new', 'source', 'close', 'to', 'us', 'attorney’s', 'office', 'tells', 'me', 'now', 'that', 'former', 'trump', 'chief', 'strategist', 'steve', 'bannon', 'is', 'expected', 'to', 'surre…'] 1\n",
      "['simione', 'mogilovich', 'is', 'putins', 'bosshes', 'in', 'his', 'own', 'league', 'with', 'httpstcok8cehejai5the', 'biggest', 'hilary', 'hater', 'n…', 'httpstcold60tr1nhd'] 0\n",
      "['rt', 'jennaellisesq', 'mediaite', 'amazing', 'how', 'mediaite', 'can', 'bend', 'itself', 'into', 'pretzels', 'to', 'parse', 'what', 'they', 'think', 'was', 'biden’s', 'intent', 'in', 'using', 'a', 'raci…'] 1\n",
      "['rt', '4theculture', 'remove', 'the', 'judge', 'immediately'] 0\n",
      "['walshfreedom', 'you', 'really', 'expect', 'a', 'guy', 'like', 'mccarthy', 'who', 'isnt', 'a', 'leader', 'to', 'do', 'anything', 'to', 'discipline', 'his', 'people', '', 'he…', 'httpstcofy2tvbcn9q'] 0\n",
      "['rt', 'davetroy', 'best', 'news', 'all', 'day'] 1\n",
      "['rt', 'danielsgoldman', 'the', 'house', 'smartly', 'consented', 'to', 'the', 'temporary', 'stay', 'of', 'the', 'trump', 'docs', 'in', 'the', 'dc', 'circuit', 'in', 'order', 'to', 'get', 'an', 'expedited', 'sche…'] 0\n",
      "['thegamingrevo3', 'bri', 'ish', 'trump'] 0\n",
      "['rt', 'palmerreport', 'merrick', 'garland’s', 'doj', 'has', 'criminally', 'indicted', 'steve', 'bannon', 'for', 'contempt', 'bannon', 'is', 'surrendering', 'this', 'was', 'always', 'going', 'to…'] 0\n",
      "                                                                                \r"
     ]
    },
    {
     "name": "stdout",
     "output_type": "stream",
     "text": [
      "['07:02:02', [('0', 8), ('1', 3)]]\n"
     ]
    },
    {
     "name": "stderr",
     "output_type": "stream",
     "text": [
      "https://stream.twitter.com/1.1/statuses/filter.json?track=Trump <Response [200]>\n",
      "['buried', 'story', '', 'trump', 'ridicule', 'is', 'expected', 'soon'] 0 1) / 8]\n",
      "['rt', 'wendymeer11', 'meanwhile', 'reality', 'winner', 'is', 'denied', 'running', 'a', 'marathon', 'in', 'san', 'antonio', 'for', 'st', 'judes', 'to', 'raise', 'money', 'for', 'sick', 'children', 'after…'] 0\n",
      "['rt', 'simmiesaid', 'are', 'those', 'lil', 'wayne’s', 'missing', 'locs'] 0\n",
      "['fox', 'news\\n\\nlets', 'go', 'brandon', '\\n\\nliberals', 'spent', 'years', 'applauding', 'and', 'celebrating', 'vulgar', 'rhetoric', 'aimed', 'at', 'former', 'preside…', 'httpstcoj0mzkaxifz'] 0\n",
      "['rt', 'angelainky502', 'steve', 'bannon', 'trump', 'ally', 'indicted', 'for', 'igonoring', 'subpoena', 'from', 'house', 'january', '6', 'committee', '', 'cnnpolitics', 'httpstcolbtb2…'] 0\n",
      "['bsoliver4057', 'jayceenada', 'katvshelby', 'katvnews', 'but', 'it', 'looks', 'like', 'trump', 'got', 'to', 'years', 'ago', 'and', 'your', 'mind', 'cannot', 'be', 'ch…', 'httpstcos2qskewzhi'] 0\n",
      "['rt', 'calltoactivism', 'just', 'this', '—', 'congressman', 'bennie', 'thompson', 'who', 'chairs', 'the', 'january', '6', 'committee', 'is', 'still', 'considering', 'bringing', 'trump', 'befor…'] 0\n",
      "['rt', 'sethabramson', 'meadows', 'is', 'lawless', 'trump', 'is', 'lawless', 'im', 'astounded', 'as', 'an', 'attorney', 'that', 'there', 'are', 'attorneys', 'willing', 'to', 'so', 'flagrantly', 'ig…'] 0\n",
      "['rt', 'hillreporter', 'mark', 'meadows', 'follows', 'trump’s', 'orders', 'by', 'defying', 'jan', '6th', 'subpoena', 'httpstcokykg691moo'] 0\n",
      "['rt', 'lqlana', 'the', 'fact', 'that', 'a', 'judge’s', 'phone', 'rings', 'in', 'the', 'middle', 'of', 'a', 'murder', 'trial', 'is', 'unacceptable', 'the', 'fact', 'that', 'the', 'ring', 'tone', 'is', 'a', 'trump', 'ral…'] 0\n",
      "['rt', 'anacabrera', 'breaking', 'federal', 'grand', 'jury', 'has', 'indicted', 'former', 'trump', 'adviser', 'steve', 'bannon', 'httpstco9cfpqqzutc'] 0\n",
      "                                                                                \r"
     ]
    },
    {
     "name": "stdout",
     "output_type": "stream",
     "text": [
      "['07:02:08', [('0', 11)]]\n"
     ]
    },
    {
     "name": "stderr",
     "output_type": "stream",
     "text": [
      "https://stream.twitter.com/1.1/statuses/filter.json?track=Trump <Response [200]>\n",
      "['rt', 'palmerreport', 'merrick', 'garland’s', 'doj', 'has', 'criminally', 'indicted', 'steve', 'bannon', 'for', 'contempt', 'bannon', 'is', 'surrendering', 'this', 'was', 'always', 'going', 'to…'] 0\n",
      "['rt', 'herbermax', 'l’ex', 'stratega', 'di', 'trump', 'steve', 'bannon', 'è', 'stato', 'incriminato', 'per', 'essersi', 'rifiutato', 'di', 'testimoniare', 'alla', 'commissione', 'di', 'inchies…'] 0\n",
      "['rt', 'jasonmillerindc', 'a', 'rising', 'tide', 'lifts', 'all', 'ships', 'gettr\\n\\n“true', 'trump’s', '‘truth’', 'has', 'bolstered', 'gettr”', 'httpstcodum0pt3iqq'] 0\n",
      "['rt', 'wendymeer11', 'meanwhile', 'reality', 'winner', 'is', 'denied', 'running', 'a', 'marathon', 'in', 'san', 'antonio', 'for', 'st', 'judes', 'to', 'raise', 'money', 'for', 'sick', 'children', 'after…'] 0\n",
      "['rt', 'tomthunkitsmind', 'some', 'republican', 'faithful', 'are', 'true', 'believers', 'that', 'jfk', 'jr', 'will', 'be', 'resurrected', 'to', 'become', 'trumps', 'running', 'mate', 'in', '2024\\nh…'] 0\n",
      "['adamkinzinger', 'trump', 'only', 'says', 'things', 'that', 'make', 'his', 'idiot', 'followers', 'feel', 'good', 'about', 'themselves', 'trump', 'is', 'the', 'true', 'snake', 'oil', 'salesman'] 0\n",
      "['cajsa', 'thats', 'because', 'the', 'trump', 'administration', 'cared', 'about', 'winning', 'the', 'court', 'of', 'public', 'opinion', 'this', 'administration', 'wants', 'to', 'win', 'at', 'court'] 1\n",
      "['rt', 'eldiarioes', '‼️', 'steve', 'bannon', 'ideólogo', 'de', 'trump', 'acusado', 'de', 'desacato', 'por', 'no', 'responder', 'a', 'una', 'citación', 'sobre', 'el', 'asalto', 'al', 'capitolio\\nhttps…'] 0\n",
      "['get', 'your', 'facts', 'straight', 'little', 'girl'] 1\n",
      "['rt', 'mattgaetz', 'the', 'fbi', 'is', 'the', 'enforcement', 'arm', 'of', 'the', 'mainstream', 'media'] 0\n",
      "['rt', 'palmerreport', 'merrick', 'garland’s', 'doj', 'has', 'criminally', 'indicted', 'steve', 'bannon', 'for', 'contempt', 'bannon', 'is', 'surrendering', 'this', 'was', 'always', 'going', 'to…'] 0\n",
      "                                                                                \r"
     ]
    },
    {
     "name": "stdout",
     "output_type": "stream",
     "text": [
      "['07:02:12', [('0', 9), ('1', 2)]]\n"
     ]
    },
    {
     "name": "stderr",
     "output_type": "stream",
     "text": [
      "https://stream.twitter.com/1.1/statuses/filter.json?track=Trump <Response [200]>\n",
      "['friseal', 'thesnp', 'borisjohnson', 'the', 'reason', 'donald', 'trump', 'was', 'desperate', 'to', 'buy', 'greenland', 'along', 'with', 'westminster\\njust…', 'httpstco04jkix7soj'] 0\n",
      "['rt', 'cnn', 'a', 'federal', 'grand', 'jury', 'has', 'returned', 'an', 'indictment', 'against', 'former', 'trump', 'adviser', 'steve', 'bannon', 'for', 'contempt', 'of', 'congress', 'the', 'justice', 'de…'] 0\n",
      "['are', 'you', 'aiming', 'to', 'get', 'the', 'online', 'course', 'website', '', 'kajabi', 'thinkific', 'teacheable', 'podia', 'etc', '', 'ideas', 'click', 'the', 'link…', 'httpstco2ay5skwczp'] 0\n",
      "['rt', 'delavegalaw', 'and', 'a', 'terrible', 'horrible', 'no', 'good', 'very', 'bad', 'week', 'for', 'tfg'] 0\n",
      "['rt', 'joncoopertweets', 'if', 'you', 'think', 'merrick', 'garland', 'must', 'be', 'tougher', 'on', 'trump', 'and', 'finally', 'hold', 'him', 'accountable', 'retweet', 'this', 'and', 'follow', 'callt…'] 1\n",
      "['rt', 'natashabertrand', 'breaking', 'on', 'cnn', 'trump', 'adviser', 'steve', 'bannon', 'has', 'been', 'indicted', 'by', 'a', 'federal', 'grand', 'jury'] 0\n",
      "['rt', '4theculture', 'remove', 'the', 'judge', 'immediately'] 0\n",
      "['rt', 'nealkatyal', 'if', 'we', 'weren’t', 'clear', 'what', 'the', 'doj’s', 'position', 'on', 'executive', 'privilege', 'was', 'we', 'sure', 'are', 'now', 'as', 'predicted', 'they', 'confirmed', 'what…'] 0\n",
      "['sueonea85543458', 'cj12jackson', 'townhallcom', 'presssec', 'that’s', 'right', 'biden', 'has', 'approved', 'over', '4600', 'new', 'drilling', 'permit…', 'httpstcomgatrqjgyh'] 0\n",
      "['fuck'] 0\n",
      "['rt', 'ericgarland', 'guys\\n\\nim', 'starting', 'to', 'think', 'trump', 'wont', 'be', 'reinstalled', 'as', 'president', '😂🖕🤣'] 0\n",
      "                                                                                \r"
     ]
    },
    {
     "name": "stdout",
     "output_type": "stream",
     "text": [
      "['07:02:17', [('0', 10), ('1', 1)]]\n"
     ]
    },
    {
     "name": "stderr",
     "output_type": "stream",
     "text": [
      "https://stream.twitter.com/1.1/statuses/filter.json?track=Trump <Response [200]>\n",
      "['rt', 'anacabrera', 'breaking', 'federal', 'grand', 'jury', 'has', 'indicted', 'former', 'trump', 'adviser', 'steve', 'bannon', 'httpstco9cfpqqzutc'] 0\n",
      "['rt', 'safetypindaily', 'explainer', 'who', 'has', 'the', 'jan', '6', 'panel', 'subpoenaed', '', 'and', 'why', '', 'via', 'ap', 'httpstcotxnlr1yqk1'] 1\n",
      "['😡😡😡'] 0\n",
      "['rt', 'jentaub', 'the', 'legal', 'expression', 'is', 'fuck', 'around', 'and', 'find', 'out'] 0\n",
      "['rt', 'danielsgoldman', 'the', 'house', 'smartly', 'consented', 'to', 'the', 'temporary', 'stay', 'of', 'the', 'trump', 'docs', 'in', 'the', 'dc', 'circuit', 'in', 'order', 'to', 'get', 'an', 'expedited', 'sche…'] 0\n",
      "['rt', 'davidcorndc', 'sincere', 'question', 'trump', 'barely', 'got', 'anything', 'done', 'amp', 'killed', '100ks', 'with', 'his', 'ineptitude', 'rs', 'still', 'love', 'him', 'biden', 'got', 'a', 'handle…'] 1\n",
      "['rt', 'donwinslow', 'please', 'understand', 'that', 'steve', 'bannons', 'indictment', 'only', 'begins', 'a', 'legal', 'process\\n\\neven', 'when', 'arrested', 'he', 'will', 'likely', 'be', 'immedia…'] 0\n",
      "['time', 'for', 'trump', 'to', 'be', 'held', 'accountable', '😡🇺🇸😡🇺🇸'] 1\n",
      "['i', 'like', 'how', 'giddy', 'twitter', 'is', 'right', 'now', 'it’s', 'like', 'a', 'little', 'party'] 0\n",
      "['washingtonpost', 'good', 'for', 'him', 'not', 'to', 'continue', 'in', 'the', 'footsteps', 'of', 'you', 'know', 'who', 'more', 'honourable', 'than', 'trump', 'who', 'will…', 'httpstcoq9pdpe1qyk'] 1\n",
      "['👇'] 0\n",
      "                                                                                \r"
     ]
    },
    {
     "name": "stdout",
     "output_type": "stream",
     "text": [
      "['07:02:22', [('0', 7), ('1', 4)]]\n"
     ]
    },
    {
     "name": "stderr",
     "output_type": "stream",
     "text": [
      "https://stream.twitter.com/1.1/statuses/filter.json?track=Trump <Response [200]>\n",
      "['i', 'cant', 'wait', 'to', 'see', 'the', 'rest', 'of', 'trumps', 'cronies', 'get', 'locked', 'up'] 0\n",
      "['rt', 'joncoopertweets', 'no', 'more', 'delays', 'the', 'january6thcmte', 'should', 'immediately', 'subpoena', 'donald', 'trump', '\\n\\nraise', 'your', 'hand', 'if', 'you', 'agree', '✋'] 0\n",
      "['rt', 'calltoactivism', 'just', 'this', '—', 'congressman', 'bennie', 'thompson', 'who', 'chairs', 'the', 'january', '6', 'committee', 'is', 'still', 'considering', 'bringing', 'trump', 'befor…'] 0\n",
      "['good', 'lord\\n\\nthe', 'award', 'for', 'dumbest', 'tweet', 'today', 'goes', 'to', 'jon', 'here\\n\\nthere', 'is', 'me', 'thinking', 'the', 'stupidity', 'of', 'trump', 'was', 'of…', 'httpstcosqpnysmj6a'] 1\n",
      "['rt', 'natashabertrand', 'breaking', 'on', 'cnn', 'trump', 'adviser', 'steve', 'bannon', 'has', 'been', 'indicted', 'by', 'a', 'federal', 'grand', 'jury'] 0\n",
      "['this', 'rittenhouse', 'case', 'is', 'the', 'saddest', 'shit', 'i’ve', 'ever', 'seen', 'the', 'judge', 'is', 'literally', 'prejudice', 'and', 'a', 'trump', 'supporter', 'h…', 'httpstcook6dynj5pv'] 0\n",
      "['random', 'trump', 'httpstcooxy4v0qwn5', '', 'randomtrump', 'trump', 'donaldtrump', 'giphy', 'gif', 'gifs', 'httpstcogana9zmlpj'] 1\n",
      "['rt', 'p4boxers', 'guess', 'who', 'else', 'is', 'gonna', 'get', 'served', 'by', 'the', 'doj\\nmark', 'meadows', 'defies', 'subpoena', 'is', 'a', 'noshow', 'at', 'jan', '6', 'committee', 'hearing', 'https…'] 0\n",
      "['rt', 'johncardillo', 'different', 'rules', 'apply', 'to', 'democrats\\n\\nour', 'side', 'gets', 'indicted', 'they', 'make', 'millions', 'in', 'the', 'private', 'sector', '\\n\\nthe', 'next', 'gop', 'pot…'] 0\n",
      "['mark', 'must', 'be', 'a', 'little', 'worried', 'about', 'now'] 0\n",
      "['rt', 'natashabertrand', 'breaking', 'on', 'cnn', 'trump', 'adviser', 'steve', 'bannon', 'has', 'been', 'indicted', 'by', 'a', 'federal', 'grand', 'jury'] 0\n",
      "                                                                                \r"
     ]
    },
    {
     "name": "stdout",
     "output_type": "stream",
     "text": [
      "['07:02:28', [('0', 9), ('1', 2)]]\n"
     ]
    },
    {
     "name": "stderr",
     "output_type": "stream",
     "text": [
      "https://stream.twitter.com/1.1/statuses/filter.json?track=Trump <Response [420]>\n"
     ]
    },
    {
     "name": "stdout",
     "output_type": "stream",
     "text": [
      "['07:02:31', []]\n"
     ]
    },
    {
     "name": "stderr",
     "output_type": "stream",
     "text": [
      "https://stream.twitter.com/1.1/statuses/filter.json?track=Trump <Response [420]>\n"
     ]
    },
    {
     "name": "stdout",
     "output_type": "stream",
     "text": [
      "['07:02:36', []]\n"
     ]
    },
    {
     "name": "stderr",
     "output_type": "stream",
     "text": [
      "https://stream.twitter.com/1.1/statuses/filter.json?track=Trump <Response [420]>\n"
     ]
    },
    {
     "name": "stdout",
     "output_type": "stream",
     "text": [
      "['07:02:41', []]\n"
     ]
    },
    {
     "name": "stderr",
     "output_type": "stream",
     "text": [
      "https://stream.twitter.com/1.1/statuses/filter.json?track=Trump <Response [420]>\n"
     ]
    },
    {
     "name": "stdout",
     "output_type": "stream",
     "text": [
      "['07:02:46', []]\n"
     ]
    },
    {
     "name": "stderr",
     "output_type": "stream",
     "text": [
      "https://stream.twitter.com/1.1/statuses/filter.json?track=Trump <Response [420]>\n"
     ]
    },
    {
     "name": "stdout",
     "output_type": "stream",
     "text": [
      "['07:02:51', []]\n"
     ]
    },
    {
     "name": "stderr",
     "output_type": "stream",
     "text": [
      "https://stream.twitter.com/1.1/statuses/filter.json?track=Trump <Response [420]>\n"
     ]
    },
    {
     "name": "stdout",
     "output_type": "stream",
     "text": [
      "['07:02:57', []]\n"
     ]
    },
    {
     "name": "stderr",
     "output_type": "stream",
     "text": [
      "https://stream.twitter.com/1.1/statuses/filter.json?track=Trump <Response [200]>\n",
      "['rt', 'prezlives2022', 'while', 'trump', 'defending', 'the', 'chants', 'of', '“hang', 'mike', 'pence”', 'is', 'a', 'problem', 'it’s', 'not', 'the', 'biggesttrump', 'continues', 'to', 'act', 'like', 'no…'] 0\n",
      "['that', 'should', 'go', 'well'] 0\n",
      "['rt', 'woodruffbets', 'bannons', 'case', 'is', 'assigned', 'to', 'judge', 'carl', 'j', 'nichols', 'a', 'trump', 'appointee', 'he', 'clerked', 'for', 'clarence', 'thomas', '\\n\\nhttpstcok7f6…'] 0\n",
      "['rt', 'davidcorndc', 'this', 'is', 'kind', 'of', 'cute', 'given', 'what', 'barr', 'did', 'and', 'trump’s', 'pardon', 'of', 'bannon', 'have', 'a', 'nice', 'evening'] 1\n",
      "['rt', 'ryanjreilly', 'there', 'were', 'signs', 'of', 'a', 'violent', 'riot', 'everywhere', 'and', 'he', 'willingly', 'joined', 'it”', 'httpstcombr8dq2os0'] 0\n",
      "['rt', 'novashpakova', 'calebmaupin', 'hugoturner1969', 'corderoenvivo', 'earwulf', 'all', 'capitalist', 'candidates', 'are', 'on', 'the', 'same', 'parthey', 'all', 'serve', 'bourg…'] 0\n",
      "['rt', 'jungsvisions', 'benfranklin2018', 'httpstcojvv4qxrlrb'] 0\n",
      "['rt', 'marshablackburn', 'hunter', 'biden', 'was', 'never', 'investigated', 'because', 'the', 'fbi', 'was', 'too', 'busy', 'framing', 'president', 'trump'] 0\n",
      "['if', 'trump', 'had', 'said', '“ngro”', 'in', 'a', 'televised', 'speech', 'would', 'the', 'media', 'talk', 'about', 'it', 'for', 'months'] 0\n",
      "['rt', 'elisestefanik', 'for', 'years', 'democrats', 'baselessly', 'accused', 'president', 'trump', 'of', 'weaponizing', 'the', 'doj', '\\n\\nin', 'reality', 'it', 'is', 'the', 'left', 'that', 'has…'] 0\n",
      "['rt', 'caslernoel', 'the', 'fact', 'that', 'harold', 'bornstein', 'was', 'trump’s', 'physician', 'dr', 'feelgood', 'since', 'the', '80’s', 'had', 'been', 'sued', 'for', 'overprescribing', 'had', 'h…'] 0\n",
      "                                                                                \r"
     ]
    },
    {
     "name": "stdout",
     "output_type": "stream",
     "text": [
      "['07:03:03', [('0', 10), ('1', 1)]]\n"
     ]
    },
    {
     "name": "stderr",
     "output_type": "stream",
     "text": [
      "https://stream.twitter.com/1.1/statuses/filter.json?track=Trump <Response [200]>\n",
      "['rt', 'shelldman', 'on', 'msnbc', 'carol', 'leonnig', 'of', 'wapo', 'seemed', 'near', 'tears', 'as', 'she', 'and', 'fellow', 'media', 'members', 'were', 'exhorted', 'by', 'nicole', 'wallace', 'not', 'to', 'ign…'] 0\n",
      "['donwinslow', 'the', 'first', 'four', 'months', 'of', 'the', 'lockdownyou', 'know', 'when', 'spraytan', 'mccombover', 'wanted', 'to', 'reopen', 'by', 'easter…', 'httpstcouxatijp05r'] 0\n",
      "['rt', 'stephenking', 'trump', 'is', 'never', 'going', 'to', 'jail', 'he', 'deserves', 'to', 'but', 'he’s', 'rich', 'and', 'powerful', 'instead', 'of', 'poor', 'and', 'black', 'welcome', 'to', 'america'] 0\n",
      "['rt', 'jimsciutto', 'more', 'steve', 'bannon', 'is', 'expected', 'to', 'selfsurrender', 'on', 'monday', 'and', 'appear', 'in', 'court', 'monday', 'afternoon', 'according', 'a', 'source', 'familia…'] 0\n",
      "['rt', 'carolechols', 'stellaparton', 'stella', 'i', 'dont', 'remember', 'things', 'being', 'anywhere', 'near', 'this', 'bad', 'up', 'until', 'trump', 'got', 'in', 'office'] 0\n",
      "['repraskin', 'dergrexxie', 'ripping', 'off', 'document', 'in', 'the', 'congress', 'where', 'is', 'that', 'law', '', 'no', 'one', 'talk', 'about', 'that', 'which', 'seriou…', 'httpstcodormzwg1vz'] 0\n",
      "['rt', 'caslernoel', 'if', 'you’re', 'shocked', 'that', 'trump', 'defended', 'folks', 'wanting', 'to', 'hang', 'pence', 'you', 'haven’t', 'been', 'paying', 'attention', 'mike', 'was', 'his', 'most', 'loya…'] 0\n",
      "['rt', 'blueboxdave', '“americans', 'wont', 'be', 'shamed', 'into', 'ignoring', 'the', 'excesses', 'of', 'wokeness', 'ever', 'again', 'and', 'trump', 'absolutely', 'gets', 'the', 'credit', 'for', 'tha…'] 0\n",
      "['trump', 'is', 'going', 'to', 'issue', 'a', 'four', 'seasons', 'total', 'landscaping', 'pardon', 'to', 'bannon', 'getoutofjailfree', 'and', '', 'or', '50', 'off', 'yo…', 'httpstcosc5mqbfeev'] 0\n",
      "['rt', 'donwinslow', 'please', 'understand', 'that', 'steve', 'bannons', 'indictment', 'only', 'begins', 'a', 'legal', 'process\\n\\neven', 'when', 'arrested', 'he', 'will', 'likely', 'be', 'immedia…'] 0\n",
      "['rt', 'greene896', 'pay', 'attention', 'to', 'this', 'truth', 'america', 'you', 'think', 'you', 'living', 'in', 'upside', 'down', 'world', 'now', 'wait', 'and', 'see'] 1\n",
      "                                                                                \r"
     ]
    },
    {
     "name": "stdout",
     "output_type": "stream",
     "text": [
      "['07:03:07', [('0', 10), ('1', 1)]]\n"
     ]
    },
    {
     "name": "stderr",
     "output_type": "stream",
     "text": [
      "https://stream.twitter.com/1.1/statuses/filter.json?track=Trump <Response [200]>\n",
      "['rt', 'normeisen', 'judge', 'chutkans', 'decision', 'on', 'tuesday', 'slamming', 'trump\\n\\nher', 'denial', 'of', 'a', 'stay', 'on', 'wed', '\\n\\nthe', 'dc', 'circuit', 'putting', 'trumps', 'appeal', 'on…'] 0\n",
      "['rt', 'angrystaffer', 'idiot'] 0\n",
      "['rt', 'bindyb123', 'stevebannonjan6', 'is', 'the', 'new', 'fake', '\\nrussiancollusion', 'repswalwell', 'will', 'make', 'up', 'shit\\n', '\\n', 'norussiancollusion', 'how', 'americans', 'were…'] 0\n",
      "['rt', 'wsteaks', 'an', 'alltime', '“why', 'it', 'matters”', 'httpstcogmownmckka'] 0\n",
      "['rt', 'elienyc', 'anyway', 'if', 'youre', 'interested', 'in', 'next', 'steps', 'for', 'bannon', 'heres', 'what', 'i', 'wrote', 'lol', 'a', 'month', 'ago', 'when', 'i', 'was', 'arguing', 'that', 'congre…'] 0\n",
      "['rt', 'jimbobiden2024', 'emails', 'reveal', 'new', 'details', 'of', 'trump', 'white', 'house', 'interference', 'in', 'cdc', 'covid', 'planning', 'httpstcoobewowkgru'] 0\n",
      "['rt', 'oldosc', 'our', 'country', 'is', 'in', 'serious', 'trouble', 'when', 'a', 'former', 'president', 'feels', 'that', 'their', 'is', 'nothing', 'wrong', 'with', 'domestic', 'terrorists', 'in', 'the', 'mi…'] 0\n",
      "['rt', 'business', 'breaking', 'extrump', 'aide', 'steve', 'bannon', 'indicted', 'on', 'contempt', 'of', 'congress', 'charges', 'after', 'defying', 'jan', '6', 'committee', 'subpoena', 'via', 'ap…'] 0\n",
      "['rt', 'palmerreport', 'merrick', 'garland’s', 'doj', 'has', 'criminally', 'indicted', 'steve', 'bannon', 'for', 'contempt', 'bannon', 'is', 'surrendering', 'this', 'was', 'always', 'going', 'to…'] 0\n",
      "['rt', 'heidioller1', 'donald', 'trump', 'evicted', 'from', 'his', 'own', 'golf', 'course', 'httpstcofknvythjnj', 'via', 'youtube'] 0\n",
      "['rt', 'caslernoel', 'if', 'you’re', 'shocked', 'that', 'trump', 'defended', 'folks', 'wanting', 'to', 'hang', 'pence', 'you', 'haven’t', 'been', 'paying', 'attention', 'mike', 'was', 'his', 'most', 'loya…'] 0\n",
      "                                                                                \r"
     ]
    },
    {
     "name": "stdout",
     "output_type": "stream",
     "text": [
      "['07:03:12', [('0', 11)]]\n"
     ]
    },
    {
     "name": "stderr",
     "output_type": "stream",
     "text": [
      "https://stream.twitter.com/1.1/statuses/filter.json?track=Trump <Response [200]>\n",
      "['rt', 'marshablackburn', 'hunter', 'biden', 'was', 'never', 'investigated', 'because', 'the', 'fbi', 'was', 'too', 'busy', 'framing', 'president', 'trump'] 0\n",
      "['rt', 'deanobeidallah', 'when', 'trump', 'was', 'in', 'office', 'we', 'saw', 'nonstop', 'cable', 'news', 'segments', 'on', 'trump', 'voters', 'where', 'are', 'the', 'cable', 'news', 'segments', 'on', 'b…'] 0\n",
      "['rt', 'anacabrera', 'breaking', 'federal', 'grand', 'jury', 'has', 'indicted', 'former', 'trump', 'adviser', 'steve', 'bannon', 'httpstco9cfpqqzutc'] 0\n",
      "['rt', '18hariprakash18', 'dems', 'r', 'losing', 'voterspopulist', 'leaders', 'represent', 'minsminorities', 'know', 'that', 'the', 'republican', 'trump', 'party', 'represents', 'them…'] 0\n",
      "['rt', 'mjsdc', 'at', 'the', 'federalist', 'society', 'convention', 'josh', 'hammer', 'praises', 'trump', 'judge', 'kyle', 'duncan—sitting', 'to', 'his', 'right—for', 'an', 'opinion', 'that', 'inte…'] 0\n",
      "['rt', 'emptywheel', 'heres', 'a', 'list', 'of', 'trump', 'pardons', '\\n\\nhttpstco0n0j463crn\\n\\nin', 'addition', 'to', 'bannon', 'flynn', 'papadopoulos', 'and', 'stone', 'bernie', 'ke…'] 0\n",
      "['rt', '4theculture', 'remove', 'the', 'judge', 'immediately'] 0\n",
      "['rt', 'hugolowell', 'new', 'source', 'close', 'to', 'us', 'attorney’s', 'office', 'tells', 'me', 'now', 'that', 'former', 'trump', 'chief', 'strategist', 'steve', 'bannon', 'is', 'expected', 'to', 'surre…'] 1\n",
      "['about', 'damn', 'time'] 0\n",
      "['sekcjaszyfrow', 'pewtergod', 'maybe', 'if', 'you', 'fact', 'checked', 'you', 'can', 'read', 'that', 'brown', 'had', 'been', 'separated', 'for', 'over', 'a', 'decade', 'f…', 'httpstcozh0vsbuhdg'] 0\n",
      "['these', 'antiwoke', 'etfs', 'are', 'targeting', 'the', 'trumploving', 'maga', 'masses', 'httpstcogjr9tjkcbf'] 0\n",
      "                                                                                \r"
     ]
    },
    {
     "name": "stdout",
     "output_type": "stream",
     "text": [
      "['07:03:17', [('0', 10), ('1', 1)]]\n"
     ]
    },
    {
     "name": "stderr",
     "output_type": "stream",
     "text": [
      "https://stream.twitter.com/1.1/statuses/filter.json?track=Trump <Response [200]>\n",
      "['rt', 'ap', 'breaking', 'exdonald', 'trump', 'aide', 'steve', 'bannon', 'has', 'been', 'indicted', 'on', 'contempt', 'of', 'congress', 'charges', 'after', 'defying', 'jan', '6', 'committee', 'subpoe…'] 0\n",
      "['rt', 'elisestefanik', 'for', 'years', 'democrats', 'baselessly', 'accused', 'president', 'trump', 'of', 'weaponizing', 'the', 'doj', '\\n\\nin', 'reality', 'it', 'is', 'the', 'left', 'that', 'has…'] 0\n",
      "['rt', 'cvanwaasbergen', 'i’m', 'writing', 'an', 'article', 'about', 'people', 'being', 'denied', 'diversity', 'visas', 'because', 'of', 'trump’s', 'travel', 'ban', 'and', 'bans', 'policies', 'and', 'd…'] 1\n",
      "['chrismurphyct', 'trump', 'had', 'the', 'opportunity', 'to', 'fix', 'this', 'and', 'refused'] 0\n",
      "['httpstcoqfzlqxm9zn', '', '', '', 'heavenandhell', 'blacksabbath', 'ronnie', '🏆🔥', '🥇', 'steve', 'bannon', 'is', 'a\\ncoward', 'merrick', 'garland', 'is\\nalso…', 'httpstco6xnzelt2fe'] 1\n",
      "['msnbc', 'black', 'ww2', 'veterans', 'after', 'they', 'gave', 'our', 'tax', 'moneys', '', 'first', 'to', 'the', 'immigrants', 'who', 'crossed', 'the', 'border', 'under', 'trum…', 'httpstcomrg7tzut6r'] 1\n",
      "['bigrom09052147', 'pissedoffotaku', 'atxmetalgod', 'tedcruz', 'hahahah', 'no', 'they', 'didnt', 'trump', 'did', 'colin', 'powells', 'lies', 'started…', 'httpstcoxlshjfvq1q'] 0\n",
      "['rt', 'akbarth3great', 'extrump', 'aide', 'stephen', 'bannon', 'indicted', 'for', 'contempt', 'of', 'congress', 'httpstcowlgr4ugqfg'] 0\n",
      "['lisamurkowski', 'kick', 'traitortrumps', 'butt\\nalaska', 'sen', 'murkowski', 'announces', '2022', 'reelection', 'bid', 'setting', 'up', 'fight', 'wi…', 'httpstcouanecz88db'] 0\n",
      "['rt', 'wishiwas20', 'this', 'is', 'great', 'news', 'trump', 'and', 'his', 'cronies', 'have', 'been', 'running', 'around', 'like', 'the', 'rule', 'of', 'law', 'do', 'not', 'apply', 'to', 'them', 'bannon', 'is', 'not…'] 1\n",
      "['rt', 'akbarth3great', 'extrump', 'aide', 'stephen', 'bannon', 'indicted', 'for', 'contempt', 'of', 'congress', 'httpstcowlgr4ugqfg'] 0\n",
      "                                                                                \r"
     ]
    },
    {
     "name": "stdout",
     "output_type": "stream",
     "text": [
      "['07:03:22', [('0', 7), ('1', 4)]]\n"
     ]
    },
    {
     "name": "stderr",
     "output_type": "stream",
     "text": [
      "https://stream.twitter.com/1.1/statuses/filter.json?track=Trump <Response [200]>\n",
      "['rt', 'joenbc', 'democrats', 'may', 'not', 'want', 'to', 'read', 'this', 'but', 'learning', 'from', 'the', 'times', 'editorial', 'from', 'last', 'week', 'and', 'this', '\\u2066wsjopinion\\u2069', 'piece', 'today', 'wi…'] 0\n",
      "['rt', 'realarmandklein', '🇺🇸president', 'donald', 'jtrump', '', 'best', 'president', 'ever🇺🇸the', 'american', 'people', 'should', 'know', 'that', 'president', 'trump', 'fought', 'amp', 'gave', 'al…'] 1\n",
      "['rt', 'mamievandoren', 'supreme', 'courts', 'watergateera', 'rulings', 'against', 'nixon', 'may', 'end', 'trumps', 'executive', 'privilege', 'claims\\nhttpstcoijgzkla306'] 0\n",
      "['lets', 'hope', 'more', 'to', 'follow', 'right', 'up', 'to', 'and', 'including', 'traitor', 'trump'] 1\n",
      "['rt', 'projectlincoln', 'joe', 'biden', 'is', 'the', 'dealmaker', 'donald', 'trump', 'pretends', 'to', 'be', 'httpstcobjmltogv98'] 0\n",
      "['rt', 'ericgarland', 'guys\\n\\nim', 'starting', 'to', 'think', 'trump', 'wont', 'be', 'reinstalled', 'as', 'president', '😂🖕🤣'] 0\n",
      "['rt', 'cnnbrk', 'former', 'trump', 'white', 'house', 'chief', 'of', 'staff', 'mark', 'meadows', 'is', 'a', 'noshow', 'for', 'a', 'deposition', 'to', 'the', 'january', '6', 'committee', 'setting', 'up', 'a', 'pot…'] 0\n",
      "['rt', 'sethabramson', 'given', 'that', 'the', 'first', 'time', 'steve', 'bannon', 'was', 'indicted', 'during', 'the', 'trump', 'presidency', 'he', 'was', 'found', 'on', 'the', 'yacht', 'of', 'a', 'chinese…'] 0\n",
      "['extrump', 'aide', 'steve', 'bannon', 'indicted', 'for', 'contempt', 'of', 'congress', 'httpstcop5bu7telde'] 0\n",
      "['rt', 'stephenking', 'trump', 'is', 'never', 'going', 'to', 'jail', 'he', 'deserves', 'to', 'but', 'he’s', 'rich', 'and', 'powerful', 'instead', 'of', 'poor', 'and', 'black', 'welcome', 'to', 'america'] 0\n",
      "['rt', 'ericgarland', 'guys\\n\\nim', 'starting', 'to', 'think', 'trump', 'wont', 'be', 'reinstalled', 'as', 'president', '😂🖕🤣'] 0\n",
      "                                                                                \r"
     ]
    },
    {
     "name": "stdout",
     "output_type": "stream",
     "text": [
      "['07:03:27', [('0', 9), ('1', 2)]]\n"
     ]
    },
    {
     "name": "stderr",
     "output_type": "stream",
     "text": [
      "https://stream.twitter.com/1.1/statuses/filter.json?track=Trump <Response [420]>\n"
     ]
    },
    {
     "name": "stdout",
     "output_type": "stream",
     "text": [
      "['07:03:31', []]\n"
     ]
    },
    {
     "name": "stderr",
     "output_type": "stream",
     "text": [
      "https://stream.twitter.com/1.1/statuses/filter.json?track=Trump <Response [420]>\n"
     ]
    },
    {
     "name": "stdout",
     "output_type": "stream",
     "text": [
      "['07:03:37', []]\n"
     ]
    },
    {
     "name": "stderr",
     "output_type": "stream",
     "text": [
      "https://stream.twitter.com/1.1/statuses/filter.json?track=Trump <Response [420]>\n"
     ]
    },
    {
     "name": "stdout",
     "output_type": "stream",
     "text": [
      "['07:03:41', []]\n"
     ]
    },
    {
     "name": "stderr",
     "output_type": "stream",
     "text": [
      "https://stream.twitter.com/1.1/statuses/filter.json?track=Trump <Response [420]>\n"
     ]
    },
    {
     "name": "stdout",
     "output_type": "stream",
     "text": [
      "['07:03:46', []]\n"
     ]
    },
    {
     "ename": "KeyboardInterrupt",
     "evalue": "",
     "output_type": "error",
     "traceback": [
      "\u001b[0;31m---------------------------------------------------------------------------\u001b[0m",
      "\u001b[0;31mKeyboardInterrupt\u001b[0m                         Traceback (most recent call last)",
      "\u001b[0;32m/tmp/ipykernel_18994/3291797226.py\u001b[0m in \u001b[0;36m<module>\u001b[0;34m\u001b[0m\n\u001b[1;32m      1\u001b[0m \u001b[0mcont\u001b[0m \u001b[0;34m=\u001b[0m \u001b[0;32mTrue\u001b[0m\u001b[0;34m\u001b[0m\u001b[0;34m\u001b[0m\u001b[0m\n\u001b[0;32m----> 2\u001b[0;31m \u001b[0;32mwhile\u001b[0m \u001b[0mcont\u001b[0m\u001b[0;34m:\u001b[0m\u001b[0;34m\u001b[0m\u001b[0;34m\u001b[0m\u001b[0m\n\u001b[0m\u001b[1;32m      3\u001b[0m   \u001b[0;32mcontinue\u001b[0m\u001b[0;34m\u001b[0m\u001b[0;34m\u001b[0m\u001b[0m\n",
      "\u001b[0;31mKeyboardInterrupt\u001b[0m: "
     ]
    }
   ],
   "source": [
    "cont = True\n",
    "while cont:\n",
    "  continue"
   ]
  },
  {
   "cell_type": "code",
   "execution_count": 39,
   "metadata": {},
   "outputs": [
    {
     "data": {
      "text/plain": [
       "[['06:58:59', []],\n",
       " ['06:59:03', [('0', 10), ('1', 1)]],\n",
       " ['06:59:08', [('0', 9), ('1', 2)]],\n",
       " ['06:59:13', [('1', 1), ('0', 10)]],\n",
       " ['06:59:18', [('0', 8), ('1', 3)]],\n",
       " ['06:59:22', [('0', 7), ('1', 4)]],\n",
       " ['06:59:27', [('0', 9), ('1', 2)]],\n",
       " ['06:59:31', []],\n",
       " ['06:59:36', []],\n",
       " ['06:59:42', []],\n",
       " ['06:59:46', []],\n",
       " ['06:59:52', []],\n",
       " ['06:59:57', []],\n",
       " ['07:00:03', [('0', 8), ('1', 3)]],\n",
       " ['07:00:07', [('0', 7), ('1', 4)]],\n",
       " ['07:00:12', [('0', 8), ('1', 3)]],\n",
       " ['07:00:17', [('0', 9), ('1', 2)]],\n",
       " ['07:00:22', [('0', 9), ('1', 2)]],\n",
       " ['07:00:28', [('0', 9), ('1', 2)]],\n",
       " ['07:00:31', []],\n",
       " ['07:00:36', []],\n",
       " ['07:00:42', []],\n",
       " ['07:00:46', []],\n",
       " ['07:00:52', []],\n",
       " ['07:00:56', []],\n",
       " ['07:01:02', [('0', 8), ('1', 3)]],\n",
       " ['07:01:08', [('1', 2), ('0', 9)]],\n",
       " ['07:01:12', [('0', 8), ('1', 3)]],\n",
       " ['07:01:17', [('1', 4), ('0', 7)]],\n",
       " ['07:01:23', [('0', 9), ('1', 2)]],\n",
       " ['07:01:27', [('0', 8), ('1', 3)]],\n",
       " ['07:01:32', []],\n",
       " ['07:01:36', []],\n",
       " ['07:01:42', []],\n",
       " ['07:01:46', []],\n",
       " ['07:01:52', []],\n",
       " ['07:01:56', []],\n",
       " ['07:02:02', [('0', 8), ('1', 3)]],\n",
       " ['07:02:08', [('0', 11)]],\n",
       " ['07:02:12', [('0', 9), ('1', 2)]],\n",
       " ['07:02:17', [('0', 10), ('1', 1)]],\n",
       " ['07:02:22', [('0', 7), ('1', 4)]],\n",
       " ['07:02:28', [('0', 9), ('1', 2)]],\n",
       " ['07:02:31', []],\n",
       " ['07:02:36', []],\n",
       " ['07:02:41', []],\n",
       " ['07:02:46', []],\n",
       " ['07:02:51', []],\n",
       " ['07:02:57', []],\n",
       " ['07:03:03', [('0', 10), ('1', 1)]],\n",
       " ['07:03:07', [('0', 10), ('1', 1)]],\n",
       " ['07:03:12', [('0', 11)]],\n",
       " ['07:03:17', [('0', 10), ('1', 1)]],\n",
       " ['07:03:22', [('0', 7), ('1', 4)]],\n",
       " ['07:03:27', [('0', 9), ('1', 2)]],\n",
       " ['07:03:31', []],\n",
       " ['07:03:37', []],\n",
       " ['07:03:41', []],\n",
       " ['07:03:46', []],\n",
       " ['07:03:50', []]]"
      ]
     },
     "execution_count": 39,
     "metadata": {},
     "output_type": "execute_result"
    },
    {
     "name": "stderr",
     "output_type": "stream",
     "text": [
      "https://stream.twitter.com/1.1/statuses/filter.json?track=Trump <Response [420]>\n"
     ]
    },
    {
     "name": "stdout",
     "output_type": "stream",
     "text": [
      "['07:03:55', []]\n"
     ]
    }
   ],
   "source": [
    "resultados"
   ]
  },
  {
   "cell_type": "code",
   "execution_count": null,
   "metadata": {},
   "outputs": [],
   "source": [
    "print(resultados [1])\n",
    "print(resultados [1][0])\n",
    "print(resultados [1][1][0][0])\n",
    "print(resultados [1][1][0][1])\n",
    "resultados [2][0]\n",
    "x = [resultados [1][0], resultados [2][0], resultados [3][0]]\n",
    "print(x)"
   ]
  },
  {
   "cell_type": "code",
   "execution_count": 40,
   "metadata": {},
   "outputs": [
    {
     "data": {
      "text/plain": [
       "[<matplotlib.lines.Line2D at 0x7efe57d48c10>]"
      ]
     },
     "execution_count": 40,
     "metadata": {},
     "output_type": "execute_result"
    },
    {
     "data": {
      "image/png": "[encoded data removed]",
      "text/plain": [
       "<Figure size 432x288 with 1 Axes>"
      ]
     },
     "metadata": {
      "needs_background": "light"
     },
     "output_type": "display_data"
    }
   ],
   "source": [
    "y = [resultados [1][1][0][1], resultados [2][1][0][1], resultados [3][1][0][1], resultados [4][1][0][1], resultados [5][1][0][1]]\n",
    "x = [resultados [1][0], resultados [2][0], resultados [3][0], resultados [4][0], resultados [5][0]]\n",
    "\n",
    "w = [resultados [1][1][1][1], resultados [2][1][1][1], resultados [3][1][1][1], resultados [4][1][1][1], resultados [5][1][1][1]]\n",
    "\n",
    "\n",
    "plt.plot(x,y)\n",
    "plt.plot(x,w)"
   ]
  },
  {
   "cell_type": "code",
   "execution_count": 41,
   "metadata": {},
   "outputs": [
    {
     "name": "stderr",
     "output_type": "stream",
     "text": [
      "https://stream.twitter.com/1.1/statuses/filter.json?track=Trump <Response [420]>\n"
     ]
    },
    {
     "name": "stdout",
     "output_type": "stream",
     "text": [
      "['07:04:00', []]\n"
     ]
    },
    {
     "data": {
      "text/plain": [
       "([<matplotlib.patches.Wedge at 0x7efe56bfaf10>,\n",
       "  <matplotlib.patches.Wedge at 0x7efe56c09490>],\n",
       " [Text(-0.45695648023571717, 1.000595210447554, 'Negativo'),\n",
       "  Text(0.4569564802357173, -1.000595210447554, 'Positivo')])"
      ]
     },
     "execution_count": 41,
     "metadata": {},
     "output_type": "execute_result"
    },
    {
     "data": {
      "image/png": "[encoded data removed]",
      "text/plain": [
       "<Figure size 432x288 with 1 Axes>"
      ]
     },
     "metadata": {},
     "output_type": "display_data"
    },
    {
     "name": "stderr",
     "output_type": "stream",
     "text": [
      "https://stream.twitter.com/1.1/statuses/filter.json?track=Trump <Response [200]>\n",
      "['trump', 'just', 'handed', 'more', 'disturbing', 'evidence', 'to', 'riot', 'committee', 'in', 'interview', 'with', 'abcs', 'karl', 'impeachment', 'attorney', 'httpstcohqcuhtdn5o'] 0\n",
      "['mattgaetz', 'except', 'enable', 'the', 'biggest', 'enemy', 'to', 'our', 'democracy', 'in', 'the', 'last', '40', 'yearstrump'] 0\n",
      "['rt', 'annmlipton', 'fancy', 'that'] 0\n",
      "['rt', 'sheminfinite', 'also', 'they', 'forgot', 'to', 'acknowledge', 'that', 'president', 'trump', 'was', 'right', 'the', 'entire', 'time', 'about', 'it', 'being', 'a', 'complete', 'witch', 'hunt', 'and…'] 0\n",
      "['rt', 'steveschmidtses', 'senator', 'i', 'don’t', 'hate', 'anyone', '', 'i', 'do', 'have', 'a', 'seething', 'contempt', 'for', 'you', 'and', 'your', 'colleagues', 'who', 'have', 'been', 'silent', 'enablers…'] 0\n",
      "['rt', 'majesticbeauty5', 'chile', 'what', 'the', 'fuck', 'is', 'this', 'i', 'dont', 'know', 'whether', 'to', 'laugh', 'or', 'to', 'cry', 'httpstco0t2ta5trvl'] 0\n",
      "['rt', 'sarahkendzior', 'old', 'thread', 'on', 'lax', 'consequences', 'for', 'members', 'of', 'the', 'trump', 'crime', 'cult', 'following', 'indictments', 'for', 'those', 'who', 'have', 'the', 'memory…'] 0\n",
      "['rt', 'lupitajuarezh', '🇺🇸', 'imputan', 'al', 'ex', 'asesor', 'de', 'donald', 'trump', 'steve', 'bannon', 'por', 'desacato', 'al', 'congreso', 'estadounidense', 'en', 'el', 'marco', 'de', 'las', 'inves…'] 0\n",
      "['rt', 'therickwilson', 'at', 'least', 'bannon', 'can', 'count', 'on', 'trump', 'to', 'pardon', 'him', 'for\\n\\nohwait'] 0\n",
      "['rt', 'mkraju', 'now', 'that', 'doj', 'and', 'a', 'grand', 'jury', 'have', 'acted', 'how', 'will', 'other', 'potential', 'witnesses', 'in', 'trump’s', 'inner', 'circle', 'respond', 'httpstcoavaa…'] 0\n",
      "['rt', 'theblaze', 'imagine', 'all', 'the', 'selfrighteous', 'thisisviolence', 'outraged', 'thinkpieces', 'wed', 'be', 'wading', 'through', 'right', 'now', 'if', 'it', 'had', 'been', 'trump…'] 0\n",
      "                                                                                \r"
     ]
    },
    {
     "name": "stdout",
     "output_type": "stream",
     "text": [
      "['07:04:07', [('0', 11)]]\n"
     ]
    },
    {
     "name": "stderr",
     "output_type": "stream",
     "text": [
      "https://stream.twitter.com/1.1/statuses/filter.json?track=Trump <Response [200]>\n",
      "['rt', 'mmpadellan', 'im', 'old', 'enough', 'to', 'remember', 'when', 'republicans', 'gave', 'trump', 'all', 'of', 'the', 'credit', 'for', 'the', 'stock', 'market', 'when', 'it', 'was', 'only', 'at', '30000…'] 0\n",
      "['gop', 'thinks', 'we', 'forgot', 'we', 'havent\\n\\nall', 'rinos', 'out'] 0\n",
      "['rt', 'johnfugelsang', 'trump', 'is', 'jesus', 'for', 'followers', 'of', 'jesus', 'who', 'reject', 'the', 'actual', 'teachings', 'of', 'jesus'] 0\n",
      "['rt', 'blisslightlove', 'the', 'one', 'universal', 'creator', 'is\\n\\nour', 'president\\ndonald', 'j', 'trump🇺🇸\\n\\nour', 'father🙌🙌🙌', 'httpstcoek2gqkgnbi'] 0\n",
      "['rt', 'joncoopertweets', 'newsmax', 'and', 'oan', 'have', 'been', 'sued', '—', 'potentially', 'for', 'billions', 'of', 'dollars', '—', 'for', 'spreading', 'false', 'conspiracy', 'theories', 'that', 'vo…'] 0\n",
      "['rt', 'mkraju', 'breaking', 'federal', 'grand', 'jury', 'has', 'returned', 'an', 'indictment', 'against', 'former', 'trump', 'adviser', 'steve', 'bannon', 'per', 'hbrabinowitz', 'evanperez…'] 0\n",
      "['rt', 'b52malmet', 'a', 'more', 'realistic', 'headline', 'is', 'felonwhowaspardonedbytrump', 'has', 'another', 'legal', 'round', '', 'bannon', 'was', 'arrested', 'in', 'august', 'on', 'cha…'] 0\n",
      "['rt', 'nickadamsinusa', 'imagine', 'if', 'president', 'trump', 'had', 'called', 'a', 'black', 'baseball', 'player', 'a', '“negro”'] 0\n",
      "['rt', 'duty2warn', 'its', 'not', 'that', 'trump', 'didnt', 'care', 'if', 'pence', 'was', 'mauled', 'or', 'hung', 'its', 'that', 'he', 'cannot', 'care', 'we', 'really', 'need', 'to', 'make', 'that', 'distincti…'] 0\n",
      "['rt', 'emptywheel', 'heres', 'a', 'list', 'of', 'trump', 'pardons', '\\n\\nhttpstco0n0j463crn\\n\\nin', 'addition', 'to', 'bannon', 'flynn', 'papadopoulos', 'and', 'stone', 'bernie', 'ke…'] 0\n",
      "['rt', 'ap', 'breaking', 'exdonald', 'trump', 'aide', 'steve', 'bannon', 'has', 'been', 'indicted', 'on', 'contempt', 'of', 'congress', 'charges', 'after', 'defying', 'jan', '6', 'committee', 'subpoe…'] 0\n",
      "                                                                                \r"
     ]
    },
    {
     "name": "stdout",
     "output_type": "stream",
     "text": [
      "['07:04:11', [('0', 11)]]\n"
     ]
    },
    {
     "name": "stderr",
     "output_type": "stream",
     "text": [
      "https://stream.twitter.com/1.1/statuses/filter.json?track=Trump <Response [200]>\n",
      "['brunothegreat32', 'henndawg1', 'mvee207', 'townhallcom', 'laurenboebert', 'i', 'didn’t', 'say', 'anything', 'about', 'any', 'other', 'president…', 'httpstco5tpdb4llnv'] 1\n",
      "['rt', 'allinwithchris', 'new', 'former', 'trump', 'adviser', 'steve', 'bannon', 'indicted', 'by', 'federal', 'grand', 'jury', 'for', 'contempt', 'of', 'congress', 'httpstco1mvhipa6dh'] 1\n",
      "['rt', 'joncoopertweets', 'boom', 'nyc', 'is', 'pursuing', 'its', 'plans', 'to', 'evict', 'trump', 'from', 'his', 'nyc', 'golf', 'course', 'calltoactivism\\n\\nnyc', 'will', 'defend', 'its', 'contra…'] 0\n",
      "['rt', 'reportsdanews', 'this', 'whole', 'trial', 'is', 'a', 'sham\\n\\nhe’s', 'getting', 'off'] 0\n",
      "['rt', 'anacabrera', 'breaking', 'federal', 'grand', 'jury', 'has', 'indicted', 'former', 'trump', 'adviser', 'steve', 'bannon', 'httpstco9cfpqqzutc'] 0\n",
      "['rt', 'tedlieu', 'no', 'one', 'should', 'be', 'above', 'the', 'law', 'not', 'the', 'former', 'president', 'not', 'his', 'staff', 'not', 'members', 'of', 'congress', 'and', 'not', 'steve', 'bannon'] 0\n",
      "['rt', 'tedlieu', 'no', 'one', 'should', 'be', 'above', 'the', 'law', 'not', 'the', 'former', 'president', 'not', 'his', 'staff', 'not', 'members', 'of', 'congress', 'and', 'not', 'steve', 'bannon'] 0\n",
      "['rt', 'palmerreport', 'merrick', 'garland’s', 'doj', 'has', 'criminally', 'indicted', 'steve', 'bannon', 'for', 'contempt', 'bannon', 'is', 'surrendering', 'this', 'was', 'always', 'going', 'to…'] 0\n",
      "['rt', 'ninaturner', 'the', 'people', 'who', 'enabled', 'trump’s', 'violent', 'antidemocratic', 'insurrection', 'must', 'be', 'held', 'accountable'] 1\n",
      "['effin', 'finally', 'enjoy', 'the', 'grey', 'bar', 'hotel', 'steve', 'bannon'] 0\n",
      "['trump', 'should', 'be', 'very', 'worried', 'tonight', '…', '\\n\\nkarma', 'is', 'about', 'the', 'hit', 'you', 'straight', 'in', 'the', 'face', 'for', 'your', 'years', 'of', 'playin…', 'httpstcoiknq3x4kwm'] 0\n",
      "                                                                                \r"
     ]
    },
    {
     "name": "stdout",
     "output_type": "stream",
     "text": [
      "['07:04:16', [('1', 3), ('0', 8)]]\n"
     ]
    },
    {
     "name": "stderr",
     "output_type": "stream",
     "text": [
      "https://stream.twitter.com/1.1/statuses/filter.json?track=Trump <Response [200]>\n",
      "['i', 'dont', 'see', 'bannon', 'fleeing', 'i', 'mean', 'its', 'a', 'possibility', 'but', 'not', 'a', 'high', 'one', '\\n\\nbecause', 'while', 'hes', 'been', 'indicted', 'he…', 'httpstconwh1eke65x'] 0\n",
      "['rt', 'jobobtaeleifi', 'rep', 'adam', 'schiff', 'defends', 'his', 'role', 'in', 'the', 'russian', 'collusion', 'hoax', 'schiff', 'spent', 'the', 'last', '4', 'years', 'pushing', 'the', 'story', 'that', 'th…'] 0\n",
      "['conexão', 'bolsonarotrump', 'ameaça', 'eleições', 'no', 'brasil\\nhttpstcodyraqv9qzb'] 0\n",
      "['rt', 'anacabrera', 'breaking', 'federal', 'grand', 'jury', 'has', 'indicted', 'former', 'trump', 'adviser', 'steve', 'bannon', 'httpstco9cfpqqzutc'] 0\n",
      "['emails', 'reveal', 'new', 'details', 'of', 'trump', 'white', 'house', 'interference', 'in', 'cdc', 'covid', 'planning', '', 'politico', 'httpstco79ni8dcher'] 1\n",
      "['rt', 'steveschmidtses', 'people', 'you', 'have', 'failed', 'to', 'stand', 'up', 'as', 'peaceful', 'protestors', 'were', 'attacked', 'outside', 'the', 'white', 'house', 'you', 'were', 'silent', 'when…'] 0\n",
      "['finally'] 0\n",
      "['rt', 'drdenagrayson', 'breaking', 'a', 'federal', 'grand', 'jury', 'has', 'indicted', 'steve', 'bannon\\n\\nnext', 'do', 'trump😎\\n\\nhttpstcomoynbsfwtn'] 0\n",
      "['rt', 'donaldjfunk', 'one', 'flynn', 'brother', 'helped', 'instigate', 'the', 'jan', '6th', 'insurrection', 'the', 'other', 'flynn', 'brother', 'helped', 'delay', 'national', 'guard', 'troops', 'e…'] 0\n",
      "['rt', 'projectlincoln', 'joe', 'biden', 'is', 'the', 'dealmaker', 'donald', 'trump', 'pretends', 'to', 'be', 'httpstcobjmltogv98'] 0\n",
      "['rt', 'hugolowell', 'new', 'jan', '6', 'committee', 'chair', 'bennie', 'thompson', 'demands', 'former', 'trump', 'white', 'house', 'chief', 'of', 'staff', 'mark', 'meadows', 'appear', 'for', 'a', 'depos…'] 0\n",
      "                                                                                \r"
     ]
    },
    {
     "name": "stdout",
     "output_type": "stream",
     "text": [
      "['07:04:21', [('0', 10), ('1', 1)]]\n"
     ]
    },
    {
     "name": "stderr",
     "output_type": "stream",
     "text": [
      "https://stream.twitter.com/1.1/statuses/filter.json?track=Trump <Response [200]>\n",
      "['bennie', 'thompson', 'you', 'are', 'doing', 'your', 'job', '', '', 'merrick', 'garland', 'isn’t', 'doing', 'his', 'job', '', '', 'i', 'say', 'out', 'merrick', 'garland…', 'httpstcoqztepmy8nd'] 1\n",
      "['rt', 'caslernoel', 'if', 'you’re', 'shocked', 'that', 'trump', 'defended', 'folks', 'wanting', 'to', 'hang', 'pence', 'you', 'haven’t', 'been', 'paying', 'attention', 'mike', 'was', 'his', 'most', 'loya…'] 0\n",
      "['rt', 'sethabramson', '🔒', 'icymi', 'if', 'you', 'know', 'who', 'steve', 'bannons', 'lawyer', 'is', 'you', 'understand', 'how', 'closely', 'trump', 'is', 'linked', 'to', 'the', 'coverup', 'of', 'his', 'o…'] 0\n",
      "['rt', 'calltoactivism', 'just', 'this', '—', 'congressman', 'bennie', 'thompson', 'who', 'chairs', 'the', 'january', '6', 'committee', 'is', 'still', 'considering', 'bringing', 'trump', 'befor…'] 0\n",
      "['rt', 'natashabertrand', 'breaking', 'on', 'cnn', 'trump', 'adviser', 'steve', 'bannon', 'has', 'been', 'indicted', 'by', 'a', 'federal', 'grand', 'jury'] 0\n",
      "['rt', 'katiehobbs', 'today', 'kari', 'lake', '', 'my', 'extremist', 'opponent', 'for', 'azgov', '', 'is', 'at', 'a', 'fundraiser', 'at', 'maralago\\n\\nfor', '30000', 'guests', 'get', 'a', 'picture…'] 0\n",
      "['rt', 'normeisen', 'judge', 'chutkans', 'decision', 'on', 'tuesday', 'slamming', 'trump\\n\\nher', 'denial', 'of', 'a', 'stay', 'on', 'wed', '\\n\\nthe', 'dc', 'circuit', 'putting', 'trumps', 'appeal', 'on…'] 0\n",
      "['rt', 'kyledcheney', 'breaking', 'the', 'dc', 'circuit', 'court', 'of', 'appeals', 'has', 'granted', 'a', 'brief', 'hold', 'on', 'the', 'trump', 'executive', 'privilege', 'decision', 'setting', 'a', 'sc…'] 0\n",
      "['rt', 'mkraju', 'breaking', 'federal', 'grand', 'jury', 'has', 'returned', 'an', 'indictment', 'against', 'former', 'trump', 'adviser', 'steve', 'bannon', 'per', 'hbrabinowitz', 'evanperez…'] 0\n",
      "['rt', 'simmiesaid', 'are', 'those', 'lil', 'wayne’s', 'missing', 'locs'] 0\n",
      "['rt', 'ft', 'extrump', 'aide', 'steve', 'bannon', 'indicted', 'for', 'contempt', 'of', 'congress', 'httpstcot0kaluhiaa'] 0\n",
      "                                                                                \r"
     ]
    },
    {
     "name": "stdout",
     "output_type": "stream",
     "text": [
      "['07:04:26', [('1', 1), ('0', 10)]]\n"
     ]
    },
    {
     "name": "stderr",
     "output_type": "stream",
     "text": [
      "https://stream.twitter.com/1.1/statuses/filter.json?track=Trump <Response [200]>\n",
      "['rt', 'davidcorndc', 'uh', 'when', 'was', 'the', 'last', 'time', 'congress', 'had', 'to', 'investigate', 'a', 'former', 'president', 'and', 'his', 'henchmen', 'for', 'an', 'insurrectionist', 'attack', 'o…'] 0\n",
      "['rt', 'cnnpolitics', 'whats', 'next', 'in', 'former', 'president', 'donald', 'trumps', 'scramble', 'to', 'stop', 'the', 'house', 'from', 'getting', 'his', 'white', 'house', 'documents', 'httpst…'] 0\n",
      "['rt', 'charliekirk11', 'if', 'tony', 'evers', 'had', 'accepted', 'trumps', 'offer', 'to', 'send', 'in', 'the', 'national', 'guard', 'during', 'last', 'summers', 'riots', 'there', 'would', 'not', 'be', 'a…'] 0\n",
      "['trump', 'adviser', 'steve', 'bannon', 'indicted', 'for', 'contempt', 'of', 'congress', 'doj\\n\\nso', 'what', 'they', 'have', 'no', 'police', 'powers', '', 'read', 'consti…', 'httpstcozfhywkve62'] 1\n",
      "['rt', 'ryanjreilly', 'a', 'defense', 'department', 'contractor', 'with', 'a', 'secret', 'security', 'clearance', 'charged', 'in', 'connection', 'with', 'jan', '6', 'used', 'his', 'work', 'computer…'] 0\n",
      "['rt', 'joncoopertweets', 'if', 'you', 'think', 'merrick', 'garland', 'must', 'be', 'tougher', 'on', 'trump', 'and', 'finally', 'hold', 'him', 'accountable', 'retweet', 'this', 'and', 'follow', 'callt…'] 1\n",
      "['rt', 'sethabramson', 'given', 'that', 'the', 'first', 'time', 'steve', 'bannon', 'was', 'indicted', 'during', 'the', 'trump', 'presidency', 'he', 'was', 'found', 'on', 'the', 'yacht', 'of', 'a', 'chinese…'] 0\n",
      "['true', 'been', 'saying', 'that', 'since', '2016'] 0\n",
      "['rt', 'deanobeidallah', 'merrick', 'garland', 'just', 'gave', 'us', 'proof', 'of', 'life', 'evidence', 'lock', 'up', 'steve', 'bannon', 'and', 'then', 'donald', 'trump'] 1\n",
      "['rt', 'stephenking', 'trump', 'is', 'never', 'going', 'to', 'jail', 'he', 'deserves', 'to', 'but', 'he’s', 'rich', 'and', 'powerful', 'instead', 'of', 'poor', 'and', 'black', 'welcome', 'to', 'america'] 0\n",
      "['rt', 'palazzo214', 'anacabrera', 'trump', 'presidency', 'was', 'not', 'possible', 'without', 'steve', 'bannon\\n\\nresurgence', 'of', 'white', 'supremacy', 'was', 'not', 'possible', 'without…'] 0\n",
      "                                                                                \r"
     ]
    },
    {
     "name": "stdout",
     "output_type": "stream",
     "text": [
      "['07:04:31', [('0', 8), ('1', 3)]]\n"
     ]
    },
    {
     "name": "stderr",
     "output_type": "stream",
     "text": [
      "https://stream.twitter.com/1.1/statuses/filter.json?track=Trump <Response [420]>\n"
     ]
    },
    {
     "name": "stdout",
     "output_type": "stream",
     "text": [
      "['07:04:35', []]\n"
     ]
    },
    {
     "name": "stderr",
     "output_type": "stream",
     "text": [
      "https://stream.twitter.com/1.1/statuses/filter.json?track=Trump <Response [420]>\n"
     ]
    },
    {
     "name": "stdout",
     "output_type": "stream",
     "text": [
      "['07:04:40', []]\n"
     ]
    },
    {
     "name": "stderr",
     "output_type": "stream",
     "text": [
      "https://stream.twitter.com/1.1/statuses/filter.json?track=Trump <Response [420]>\n"
     ]
    },
    {
     "name": "stdout",
     "output_type": "stream",
     "text": [
      "['07:04:45', []]\n"
     ]
    },
    {
     "name": "stderr",
     "output_type": "stream",
     "text": [
      "https://stream.twitter.com/1.1/statuses/filter.json?track=Trump <Response [420]>\n"
     ]
    },
    {
     "name": "stdout",
     "output_type": "stream",
     "text": [
      "['07:04:50', []]\n"
     ]
    },
    {
     "name": "stderr",
     "output_type": "stream",
     "text": [
      "https://stream.twitter.com/1.1/statuses/filter.json?track=Trump <Response [420]>\n"
     ]
    },
    {
     "name": "stdout",
     "output_type": "stream",
     "text": [
      "['07:04:55', []]\n"
     ]
    },
    {
     "name": "stderr",
     "output_type": "stream",
     "text": [
      "https://stream.twitter.com/1.1/statuses/filter.json?track=Trump <Response [420]>\n"
     ]
    },
    {
     "name": "stdout",
     "output_type": "stream",
     "text": [
      "['07:05:00', []]\n"
     ]
    },
    {
     "name": "stderr",
     "output_type": "stream",
     "text": [
      "https://stream.twitter.com/1.1/statuses/filter.json?track=Trump <Response [200]>\n",
      "['rt', 'adamkinzinger', 'normally', 'huge', 'news', '', 'today', 'we', 'call', 'this', '“friday”\\n\\ntrump', 'dismisses', 'rioters', 'calls', 'to', 'hang', 'pence', 'people', 'were', 'very', 'angry…'] 1\n",
      "['trump', 'openly', 'defends', 'insurrectionists', 'trying', 'to', 'hang', 'pence', 'as', '‘common', 'sense’', 'httpstcowjeobamnaw', 'via', 'intelligencer'] 0\n",
      "['rt', 'theturtlewoman1', 'johnpavlovitz', 'you', 'just', 'have', 'to', 'understand', 'that', 'rules', 'and', 'laws', 'don’t', 'apply', 'to', 'the', 'rich', 'and', 'now', 'thanks', 'to', 'trump', 'politic…'] 1\n",
      "['rt', 'steveschmidtses', 'you', 'are', 'extremely', 'dishonest', 'more', 'than', '80', 'percent', 'of', 'monies', 'raised', 'by', 'the', 'lincoln', 'project', 'went', 'to', 'spending', 'on', 'voter', 'co…'] 0\n",
      "['a', 'trump', 'appointed', 'judge', 'has', 'been', 'assigned', 'to', 'hear', 'bannons', 'case', 'so', 'dont', 'get', 'your', 'hopes', 'up'] 0\n",
      "['rt', 'billpascrell', 'my', 'statement', 'on', 'steve', 'bannon’s', 'indictment', 'if', 'we', 'don’t', 'hold', 'the', 'criminals', 'of', 'the', 'trump', 'regime', 'accountable', 'we', 'will', 'lurch', 'd…'] 0\n",
      "['rt', 'nicholsstark', 'lock', 'meadows', 'ass', 'up\\nwasnt', 'this', 'the', 'moron', 'calling', 'for', 'sec', 'clinton', 'to', 'be', 'locked', 'up', 'for', 'benghazi', 'when', 'she', 'showed', 'up', 'amp', 'answ…'] 1\n",
      "['rt', 'joshtpm', 'time', 'and', 'again', 'we', 'learn', 'about', 'the', 'trump', 'gop', 'law', 'and', 'order', 'except', 'for', 'us', 'httpstcons0ofsdodu'] 1\n",
      "['rt', 'kylegriffin1', 'the', 'white', 'house', 'mocked', 'trump', 'after', 'he', 'said', 'he', 'was', 'sending', 'his', 'envoy', 'ambassador', 'to', 'kosovo\\n\\noutside', 'of', 'his', 'very', 'active…'] 0\n",
      "['rt', 'chipfranklin', 'if', 'you', 'want', 'merrick', 'garland', 'to', 'be', 'tougher', 'on', 'trump', 'and', 'finally', 'hold', 'him', 'accountable', 'retweet', 'this', 'and', 'follow', 'calltoactiv…'] 1\n",
      "['rt', 'mtracey', 'the', 'ny', 'times', 'and', 'washington', 'post', 'got', 'showered', 'with', 'pulitzers', 'and', 'touted', 'as', 'journalistic', 'heroes', 'for', 'their', 'trumprussia', 'coverage…'] 0\n",
      "                                                                                \r"
     ]
    },
    {
     "name": "stdout",
     "output_type": "stream",
     "text": [
      "['07:05:06', [('1', 5), ('0', 6)]]\n"
     ]
    },
    {
     "name": "stderr",
     "output_type": "stream",
     "text": [
      "https://stream.twitter.com/1.1/statuses/filter.json?track=Trump <Response [200]>\n",
      "['rt', 'lacadri34', 'elections', 'have', 'consequences'] 0==>       (7 + 1) / 8]\n",
      "['rt', 'adamparkhomenko', 'i’m', 'glad', 'trump', 'keeps', 'admitting', 'that', 'the', 'jan', '6', 'terrorists', 'were', 'his', 'people', 'and', 'not', 'antifa', 'or', 'fbi', 'agents'] 1\n",
      "['rt', 'votejohngibbs', 'thank', 'you', 'cortessteve', 'for', 'the', 'support', 'and', 'for', 'being', 'a', 'great', 'fighter', 'for', 'our', 'country', 'i', 'hope', 'to', 'do', 'the', 'same', 'in', 'congress'] 1\n",
      "['7', 'it’s', 'clear', 'that', 'when', 'it', 'comes', 'to', 'rebuilding', 'our', 'country', 'democrats', 'are', 'ready', 'to', 'roll', 'up', 'their', 'sleeves', 'and', 'delive…', 'httpstcookm2bmzx2m'] 1\n",
      "['rt', 'jusplaintalk101', 'thejusticedept', 'ag', 'garland', 'i', 'want', 'to', 'believe', 'this', 'with', 'all', 'my', 'heart', 'trump', 'should', 'be', 'at', 'the', 'top', 'of', 'your', 'investigations…'] 0\n",
      "['rt', 'harrisonjaime', 'yeah', 'there', 'are', 'things', 'call', 'laws', 'and', 'even', 'trump', 'acolytes', 'have', 'to', 'follow', 'them'] 1\n",
      "['rt', 'palmerreport', 'merrick', 'garland’s', 'doj', 'has', 'criminally', 'indicted', 'steve', 'bannon', 'for', 'contempt', 'bannon', 'is', 'surrendering', 'this', 'was', 'always', 'going', 'to…'] 0\n",
      "['rt', 'wsj', 'breaking', 'former', 'trump', 'strategist', 'steve', 'bannon', 'was', 'charged', 'with', 'criminal', 'contempt', 'of', 'congress', 'for', 'defying', 'a', 'subpoena', 'from', 'a', 'house…'] 0\n",
      "['1chiefskingdom', 'bodegazzzzz', 'brittanylynne8', 'you’re', 'an', 'asshole', 'and', 'if', 'you', 'don’t', 'like', 'her', 'then', 'don’t', 'follow', 'her', 'it…', 'httpstco0ullgolgw2'] 1\n",
      "['jasonaldean', 'kelleighbannen', 'applemusic', 'ask', 'him', 'why', 'he', 'used', 'his', 'children', 'to', 'make', 'a', 'pedophile', 'joke', 'about', 'president…', 'httpstcoralwgcacuk'] 0\n",
      "['rt', 'natashabertrand', 'breaking', 'on', 'cnn', 'trump', 'adviser', 'steve', 'bannon', 'has', 'been', 'indicted', 'by', 'a', 'federal', 'grand', 'jury'] 0\n",
      "                                                                                \r"
     ]
    },
    {
     "name": "stdout",
     "output_type": "stream",
     "text": [
      "['07:05:11', [('0', 6), ('1', 5)]]\n"
     ]
    },
    {
     "name": "stderr",
     "output_type": "stream",
     "text": [
      "https://stream.twitter.com/1.1/statuses/filter.json?track=Trump <Response [200]>\n",
      "['rt', 'stephenking', 'trump', 'is', 'never', 'going', 'to', 'jail', 'he', 'deserves', 'to', 'but', 'he’s', 'rich', 'and', 'powerful', 'instead', 'of', 'poor', 'and', 'black', 'welcome', 'to', 'america'] 0\n",
      "['blahbla08277980', 'mappingfl', 'imo', 'it', 'doesnt', 'seem', 'fair', 'to', 'me', 'that', 'a', 'trump', '16', 'state', 'has', 'one', 'of', '2', 'districts', 'being', 'like…', 'httpstcohrdytokvfj'] 0\n",
      "['whats', 'up', 'with', 'these', 'judges', 'youre', 'supposed', 'to', 'have', 'your', 'phone', 'turned', 'off', 'during', 'a', 'trial', 'trumps', 'rallying', 'tone…', 'httpstcoqpi9ut3qhq'] 0\n",
      "['rt', 'laurie0801', 'jimjordan', 'and', 'how', 'about', 'those', 'phone', 'calls', 'on', 'january', '6th', 'with', 'trump', 'what', 'do', 'you', 'have', 'to', 'say', 'about', 'that', 'httpstcoyet…'] 0\n",
      "['rt', 'jannwolfe', 'rep', 'liz', 'cheney', 'just', 'now\\n\\n“mr', 'trump’s', 'privilege', 'arguments', 'do', 'however', 'appear', 'to', 'reveal', 'one', 'thing', 'they', 'suggest', 'that', 'presi…'] 0\n",
      "['davidafrench', 'you', 'are', 'a', 'bigger', 'loser', 'than', 'this', 'man', 'and', 'trump'] 0\n",
      "['rt', 'natashabertrand', 'breaking', 'on', 'cnn', 'trump', 'adviser', 'steve', 'bannon', 'has', 'been', 'indicted', 'by', 'a', 'federal', 'grand', 'jury'] 0\n",
      "['rt', 'travisbhill5', 'bro', 'what', 'is', 'the', 'onion', 'even', 'supposed', 'to', 'do', 'at', 'this', 'point'] 0\n",
      "['rt', 'ryanjreilly', 'a', 'defense', 'department', 'contractor', 'with', 'a', 'secret', 'security', 'clearance', 'charged', 'in', 'connection', 'with', 'jan', '6', 'used', 'his', 'work', 'computer…'] 0\n",
      "['rt', 'maddow', 'why', 'the', 'white', 'house', 'openly', 'mocked', 'trumps', 'active', 'imagination', 'httpstcoalgkvd9jxt'] 0\n",
      "['rt', 'caslernoel', 'the', 'thing', 'you', 'notice', 'most', 'about', 'trump', 'when', 'first', 'in', 'his', 'presence', 'besides', 'the', 'noxious', 'stench', 'and', 'clowny', 'visage', 'is', 'the', 'aura…'] 1\n",
      "                                                                                \r"
     ]
    },
    {
     "name": "stdout",
     "output_type": "stream",
     "text": [
      "['07:05:16', [('0', 10), ('1', 1)]]\n"
     ]
    },
    {
     "name": "stderr",
     "output_type": "stream",
     "text": [
      "https://stream.twitter.com/1.1/statuses/filter.json?track=Trump <Response [200]>\n",
      "['myth', 'the', 'trump', '', 'russia', 'dossier', 'is', 'becoming', 'more', 'true', 'with', 'time\\n\\ntruth', 'the', 'washington', 'post', 'just', 'took', 'the', 'unu…', 'httpstcol8wnvj8txm'] 1\n",
      "['rt', 'calltoactivism', 'who', 'else', 'wants', 'trump', 'to', 'testify', 'under', 'oath', 'for', '11', 'hours', 'on', 'live', 'television', 'and', 'explain', 'why', 'the', 'national', 'guard', 'wasn’t', 'de…'] 0\n",
      "['rt', 'emptywheel', 'heres', 'a', 'list', 'of', 'trump', 'pardons', '\\n\\nhttpstco0n0j463crn\\n\\nin', 'addition', 'to', 'bannon', 'flynn', 'papadopoulos', 'and', 'stone', 'bernie', 'ke…'] 0\n",
      "['rt', 'travisbhill5', 'bro', 'what', 'is', 'the', 'onion', 'even', 'supposed', 'to', 'do', 'at', 'this', 'point'] 0\n",
      "['rt', 'joncoopertweets', 'boom', 'nyc', 'is', 'pursuing', 'its', 'plans', 'to', 'evict', 'trump', 'from', 'his', 'nyc', 'golf', 'course', 'calltoactivism\\n\\nnyc', 'will', 'defend', 'its', 'contra…'] 0\n",
      "['rt', 'glennkirschner2', 'justice', 'on', 'life', 'support', '', '', ''] 1\n",
      "['rt', 'anacabrera', 'breaking', 'federal', 'grand', 'jury', 'has', 'indicted', 'former', 'trump', 'adviser', 'steve', 'bannon', 'httpstco9cfpqqzutc'] 0\n",
      "['rt', 'stephenking', 'trump', 'is', 'never', 'going', 'to', 'jail', 'he', 'deserves', 'to', 'but', 'he’s', 'rich', 'and', 'powerful', 'instead', 'of', 'poor', 'and', 'black', 'welcome', 'to', 'america'] 0\n",
      "['rt', 'nealkatyal', 'if', 'we', 'weren’t', 'clear', 'what', 'the', 'doj’s', 'position', 'on', 'executive', 'privilege', 'was', 'we', 'sure', 'are', 'now', 'as', 'predicted', 'they', 'confirmed', 'what…'] 0\n",
      "['rt', 'occupydemocrats', 'breaking', 'trumps', 'former', 'chief', 'of', 'staff', 'mark', 'meadows', 'refuses', 'to', 'show', 'up', 'for', 'his', 'jan', '6th', 'committee', 'deposition', 'after', 'th…'] 1\n",
      "['rt', 'aaronparnas', 'breaking', 'trumps', 'theme', 'song', 'plays', 'again', 'in', 'the', 'rittenhouse', 'trial', 'as', 'judge', 'schroeders', 'phone', 'rings'] 0\n",
      "                                                                                \r"
     ]
    },
    {
     "name": "stdout",
     "output_type": "stream",
     "text": [
      "['07:05:21', [('1', 3), ('0', 8)]]\n"
     ]
    },
    {
     "name": "stderr",
     "output_type": "stream",
     "text": [
      "https://stream.twitter.com/1.1/statuses/filter.json?track=Trump <Response [200]>\n",
      "['what'] 0:=================================================>       (7 + 1) / 8]\n",
      "['rt', 'alpine106', 'trumps', 'chief', 'of', 'staff', 'mark', 'meadows', 'now', 'faces', 'criminal', 'contempt', 'of', 'congress', 'charges', 'for', '', 'httpstcocomvtg0vlj', 'via', 'mai…'] 1\n",
      "['rt', 'cernovich', 'trump', 'is', 'a', 'fucking', 'boomer', 'who', 'still', 'talked', 'to', 'press', 'and', 'let', 'bad', 'coverage', 'bother', 'him', 'trump', 'just', 'gave', 'jon', 'karl', 'a', '90', 'minute', 'p…'] 0\n",
      "['rt', 'davetroy', 'worst', 'news', 'all', 'day'] 0\n",
      "['former', 'trump', 'adviser', 'steve', 'bannon', 'indicted', 'by', 'federal', 'grand', 'jury', 'for', 'contempt', 'of', 'congress', 'httpstcoy5d3iguka6', 'via', 'yahoonews'] 0\n",
      "['rt', 'projectlincoln', 'donald', 'trump', 'is', 'a', 'talker', '\\n\\njoe', 'biden', 'is', 'a', 'builder', 'httpstcobjmltogv98'] 0\n",
      "['the', 'trump', 'years', 'were', 'sooooo', 'draining', 'that', 'we', 'needed', 'a', 'mental', 'break', 'httpstcoghwhlnlwbk', '03'] 0\n",
      "['rt', 'melissafellows8', 'democrat', 'supporters', 'complained', 'about', 'people', 'dying', 'with', 'covid', 'under', 'trumps', 'presidency', 'but', 'they', 'voted', 'for', 'biden', 'under…'] 1\n",
      "['rt', 'sethn12', 'yes', 'it', 'is', '‘common', 'sense’', 'to', 'support', 'public', 'hanging', 'of', 'your', 'coworker', '\\n', 'if', 'you’re', 'a', 'psychopath', '', 'httpstcos3ub0ydqt9'] 1\n",
      "['rt', 'elienyc', 'anyway', 'if', 'youre', 'interested', 'in', 'next', 'steps', 'for', 'bannon', 'heres', 'what', 'i', 'wrote', 'lol', 'a', 'month', 'ago', 'when', 'i', 'was', 'arguing', 'that', 'congre…'] 0\n",
      "['rt', 'adamkinzinger', 'normally', 'huge', 'news', '', 'today', 'we', 'call', 'this', '“friday”\\n\\ntrump', 'dismisses', 'rioters', 'calls', 'to', 'hang', 'pence', 'people', 'were', 'very', 'angry…'] 1\n",
      "                                                                                \r"
     ]
    },
    {
     "name": "stdout",
     "output_type": "stream",
     "text": [
      "['07:05:26', [('0', 7), ('1', 4)]]\n"
     ]
    },
    {
     "name": "stderr",
     "output_type": "stream",
     "text": [
      "https://stream.twitter.com/1.1/statuses/filter.json?track=Trump <Response [200]>\n",
      "['rt', 'elisestefanik', 'for', 'years', 'democrats', 'baselessly', 'accused', 'president', 'trump', 'of', 'weaponizing', 'the', 'doj', '\\n\\nin', 'reality', 'it', 'is', 'the', 'left', 'that', 'has…'] 0\n",
      "['since', 'joe', 'biden', 'shut', 'down', 'fed', 'oil', 'productionhigher', 'prices', 'if', 'joe', 'looked', 'food', 'is', 'delivered', 'by', 'truck', 'to', 'all', 'food', 'ma…', 'httpstcobdf9capdfk'] 0\n",
      "['rt', 'sethabramson', 'given', 'that', 'the', 'first', 'time', 'steve', 'bannon', 'was', 'indicted', 'during', 'the', 'trump', 'presidency', 'he', 'was', 'found', 'on', 'the', 'yacht', 'of', 'a', 'chinese…'] 0\n",
      "['rt', 'ap', 'breaking', 'exdonald', 'trump', 'aide', 'steve', 'bannon', 'has', 'been', 'indicted', 'on', 'contempt', 'of', 'congress', 'charges', 'after', 'defying', 'jan', '6', 'committee', 'subpoe…'] 0\n",
      "['rt', 'foursticksnate', 'ive', 'never', 'seen', 'these', 'perverted', 'amp', 'racist', 'videos\\n\\nof', 'joe', 'biden', 'before', 'what', 'the', 'heck', 'man', '\\n\\nthis', 'is', 'our', 'president', '🤔', 'r…'] 0\n",
      "['johnsho05907362', 'sonicjessie', 'bucksexton', 'youre', 'not', 'a', 'veteran', 'and', 'youre', 'pathetic', 'to', 'pretend', 'to', 'be', 'one', 'on', 'twitter…', 'httpstcotumd00uuvo'] 0\n",
      "['rt', 'karilake', 'just', 'when', 'i', 'think', 'i', 'can’t', 'love', 'this', 'man', 'more', 'thank', 'you', 'president', 'trump', 'for', 'welcoming', 'my', 'family', 'into', 'your', 'home', 'at', 'maralago…'] 1\n",
      "['trumps', 'cabinetdirector', 'picks', 'continue', 'to', 'be', 'abysmal', 'theres', 'a', 'reason', 'wray', 'is', 'still', 'director', 'of', 'the', 'fbi'] 0\n",
      "['rt', 'davidnir', 'heres', 'a', 'good', 'test', 'of', 'whether', 'trump', 'can', 'still', 'exert', 'executive', 'privilege', 'he', 'should', 'pardon', 'steve', 'bannon', 'right', 'now', 'and', 'see', 'how…'] 0\n",
      "['trumps', 'presidency', 'is', 'when', 'sctr', 'stole', 'taylors', 'records', 'bidens', 'presidency', 'is', 'when', 'taylors', 'version', 'dropped', 'coincidence', 'much'] 0\n",
      "['of', 'the', 'other', '18', 'republican', 'senators', 'who', 'backed', 'the', 'bill', 'only', 'sens', 'susan', 'collins', 'rmaine', 'and', 'lisa', 'murkowski', 'ra…', 'httpstcogjkuuao7z6'] 0\n",
      "                                                                                \r"
     ]
    },
    {
     "name": "stdout",
     "output_type": "stream",
     "text": [
      "['07:05:31', [('0', 10), ('1', 1)]]\n"
     ]
    },
    {
     "name": "stderr",
     "output_type": "stream",
     "text": [
      "https://stream.twitter.com/1.1/statuses/filter.json?track=Trump <Response [420]>\n"
     ]
    },
    {
     "name": "stdout",
     "output_type": "stream",
     "text": [
      "['07:05:35', []]\n"
     ]
    },
    {
     "name": "stderr",
     "output_type": "stream",
     "text": [
      "https://stream.twitter.com/1.1/statuses/filter.json?track=Trump <Response [420]>\n"
     ]
    },
    {
     "name": "stdout",
     "output_type": "stream",
     "text": [
      "['07:05:40', []]\n"
     ]
    },
    {
     "name": "stderr",
     "output_type": "stream",
     "text": [
      "https://stream.twitter.com/1.1/statuses/filter.json?track=Trump <Response [420]>\n"
     ]
    },
    {
     "name": "stdout",
     "output_type": "stream",
     "text": [
      "['07:05:45', []]\n"
     ]
    },
    {
     "name": "stderr",
     "output_type": "stream",
     "text": [
      "https://stream.twitter.com/1.1/statuses/filter.json?track=Trump <Response [420]>\n"
     ]
    },
    {
     "name": "stdout",
     "output_type": "stream",
     "text": [
      "['07:05:50', []]\n"
     ]
    },
    {
     "name": "stderr",
     "output_type": "stream",
     "text": [
      "https://stream.twitter.com/1.1/statuses/filter.json?track=Trump <Response [420]>\n"
     ]
    },
    {
     "name": "stdout",
     "output_type": "stream",
     "text": [
      "['07:05:55', []]\n"
     ]
    },
    {
     "name": "stderr",
     "output_type": "stream",
     "text": [
      "https://stream.twitter.com/1.1/statuses/filter.json?track=Trump <Response [420]>\n"
     ]
    },
    {
     "name": "stdout",
     "output_type": "stream",
     "text": [
      "['07:06:00', []]\n"
     ]
    },
    {
     "name": "stderr",
     "output_type": "stream",
     "text": [
      "https://stream.twitter.com/1.1/statuses/filter.json?track=Trump <Response [200]>\n",
      "['jennaellisesq', 'she', 'is', 'a', 'good', 'republican', 'when', 'she', 'voted', 'with', 'trump', 'but', 'ba', 'when', 'she', 'followed', 'the', 'evidence', 'see', 'a', 'problem', 'with', 'that'] 1\n",
      "['rt', 'stevenbeschloss', 'may', 'this', 'be', 'a', 'message', 'to', 'every', 'other', 'arrogant', 'trumpfueled', 'subpoena', 'defiers'] 0\n",
      "['trump', 'scores', 'two', 'legal', 'wins', 'after', 'summer', 'zervos', 'drops', 'lawsuit', 'and', 'michael', 'cohens', 'suit', 'against', 'trump', 'org', 'dismissed\\n\\nhttpstcop7ihmvlagu'] 0\n",
      "['rt', 'opinionesdel', 'también', 'caerás', '\\n\\nlos', 'hijos', 'de', 'uribe', 'son', 'como', 'los', 'de', 'trump', 'muy', 'corruptos', 'y', 'protegidos', 'por', 'el', 'papá', '…', 'httpstcojzzexh…'] 0\n",
      "['former', 'top', 'trump', 'adviser', 'steve', 'bannon', 'criminally', 'charged', 'httpstcoo5btvqahjm'] 0\n",
      "['rt', 'stephenking', 'trump', 'is', 'never', 'going', 'to', 'jail', 'he', 'deserves', 'to', 'but', 'he’s', 'rich', 'and', 'powerful', 'instead', 'of', 'poor', 'and', 'black', 'welcome', 'to', 'america'] 0\n",
      "['rt', 'sarahkendzior', 'old', 'thread', 'on', 'lax', 'consequences', 'for', 'members', 'of', 'the', 'trump', 'crime', 'cult', 'following', 'indictments', 'for', 'those', 'who', 'have', 'the', 'memory…'] 0\n",
      "['yellowmoonabove', 'sneakerllama', 'authorkimberley', 'stim', 'checks', 'first', 'went', 'out', 'under', 'trump', 'to', 'be', 'fair'] 0\n",
      "['yamiche', 'trumps', 'niece', 'said', 'that', 'donald', 'gaslights', 'himself', 'she', 'said', 'he', 'lies', 'and', 'lies', 'to', 'the', 'point', 'he', 'actually', 'belie…', 'httpstcomqyryt3qky'] 1\n",
      "['rt', 'ericgarland', 'well', 'well', '', 'somebody', 'who', 'used', 'their', 'security', 'clearance', 'in', 'an', 'attempted', 'coup', 'détat', 'that', 'is', 'very', 'bad', '😠😈⚖️'] 0\n",
      "['rt', 'jdoedoe101101', 'milei', 'logró', 'lo', 'impensado', 'evocando', 'la', 'misma', 'fuerza', 'vital', 'que', 'trump', 'o', 'bolsonaro', 'logró', 'el', 'apoyo', 'de', 'muchos', 'liberales', 'galer…'] 0\n",
      "                                                                                \r"
     ]
    },
    {
     "name": "stdout",
     "output_type": "stream",
     "text": [
      "['07:06:06', [('1', 2), ('0', 9)]]\n"
     ]
    },
    {
     "name": "stderr",
     "output_type": "stream",
     "text": [
      "https://stream.twitter.com/1.1/statuses/filter.json?track=Trump <Response [200]>\n",
      "['rt', 'jobobtaeleifi', 'rep', 'adam', 'schiff', 'defends', 'his', 'role', 'in', 'the', 'russian', 'collusion', 'hoax', 'schiff', 'spent', 'the', 'last', '4', 'years', 'pushing', 'the', 'story', 'that', 'th…'] 0\n",
      "['rt', 'politibunny', 'i', 'hope', 'desantis', 'knows', 'what', 'a', 'massive', 'mistake', 'this', 'would', 'be', '', '\\n\\ndesantis', 'should', 'run'] 0\n",
      "['rt', 'cruellaisdevine', 'senwhitehouse', 'important', '\\n\\nnancy', 'maclean', 'duke', 'u', 'professor', 'amp', 'historian', 'talks', 'about', 'the', 'gops', 'long', 'game', 'as', 'progress…'] 0\n",
      "['lawsuit', 'and', 'my', 'woman', 'got', 'hurt', 'jlo', 'mary', 'j', 'blige', 'house', 'speaker', 'nancy', 'pelosi', 'asap', 'donald', 'j', 'trump', 'asap', '￼', 'and', 'make', 'sur…', 'httpstcoh08lvpbza5'] 0\n",
      "['bannons', 'case', 'has', 'been', 'assigned', 'to', 'a', 'trump', 'appointed', 'judge'] 0\n",
      "['rt', 'wolfblitzer', 'us', 'attorney', 'for', 'dc', 'matthew', 'graves', 'says', 'the', 'two', 'charges', 'filed', 'against', 'steve', 'bannon', 'are', 'the', 'result', 'of', 'the', 'trump', 'allys', 'ref…'] 0\n",
      "['rt', 'woodruffbets', 'bannons', 'case', 'is', 'assigned', 'to', 'judge', 'carl', 'j', 'nichols', 'a', 'trump', 'appointee', 'he', 'clerked', 'for', 'clarence', 'thomas', '\\n\\nhttpstcok7f6…'] 0\n",
      "['rt', 'donwinslow', 'if', 'you', 'want', 'to', 'know', 'how', 'effective', 'the', 'evil', 'pos', 'mitch', 'mcconnell', 'is', 'consider', 'these', 'numbers\\n\\n1030', 'seats', 'in', 'state', 'legislature…'] 0\n",
      "['year', 'from', 'presidential', 'election', '2020', 'world’s', 'biggest', 'loser', 'donald', 'trump', 'still', 'no', 'concession', 'because', 'he’s', 'dangerous…', 'httpstcomwpgcot2rl'] 0\n",
      "['rt', 'repraskin', 'the', 'grand', 'jury', 'indictment', 'of', 'steve', 'bannon', 'shows', 'that', 'even', 'the', 'insurrectionist', 'allies', 'of', 'donald', 'trump', 'are', 'not', 'above', 'the', 'law', 'a…'] 0\n",
      "['govgianforte', 'and', 'when', 'trump', 'praised', 'him', 'he', 'said', 'nothing\\ngo', 'slammy\\n\\nhttpstcobjkascxdtm', 'httpstcozxlrjauo9t'] 1\n",
      "                                                                                \r"
     ]
    },
    {
     "name": "stdout",
     "output_type": "stream",
     "text": [
      "['07:06:11', [('0', 10), ('1', 1)]]\n"
     ]
    },
    {
     "name": "stderr",
     "output_type": "stream",
     "text": [
      "https://stream.twitter.com/1.1/statuses/filter.json?track=Trump <Response [200]>\n",
      "['rt', 'clairecmc', 'remember', 'that', 'trump', 'shut', 'down', 'executive', 'privilege', 'when', 'it', 'came', 'to', 'the', 'obama', 'presidency', 'biden', 'is', 'only', 'doing', 'exactly', 'what', 'tru…'] 0\n",
      "['clearly', 'the', 'two', 'federal', 'grand', 'jury', 'charges', 'of', 'contempt', 'of', 'congress', 'filed', 'against', 'steve', 'bannon', 'send', 'a', 'powerful', 'mess…', 'httpstcov0trdci11t'] 0\n",
      "['rt', 'kylegriffin1', 'the', 'white', 'house', 'mocked', 'trump', 'after', 'he', 'said', 'he', 'was', 'sending', 'his', 'envoy', 'ambassador', 'to', 'kosovo\\n\\noutside', 'of', 'his', 'very', 'active…'] 0\n",
      "['rt', 'woodruffbets', 'bannons', 'case', 'is', 'assigned', 'to', 'judge', 'carl', 'j', 'nichols', 'a', 'trump', 'appointee', 'he', 'clerked', 'for', 'clarence', 'thomas', '\\n\\nhttpstcok7f6…'] 0\n",
      "['teampelosi', 'weird', 'im', 'pretty', 'sure', 'trump', 'actually', 'did', 'that', 'what', 'the', 'democrats', 'did', 'was', 'lie', 'amp', 'say', 'that', '1400', 'was', '2…', 'httpstco8iqtscqhhs'] 1\n",
      "['rt', 'michaelcohen212', 'as', 'i', 'have', 'stated', 'again', 'and', 'again…the', 'wheels', 'of', 'justice', 'turn', 'slowly', 'but', 'ultimately', 'it', 'comes', 'full', 'circle', 'let’s', 'see', 'how…'] 0\n",
      "['rt', 'emilyrose111788', 'yardleyshooting', 'i’m', 'back', 'after', 'jack', 'suspended', 'all', 'the', 'accounts', 'he', 'believed', 'supported', 'trump', 'were', 'conservative', 'or', 'q', 's…'] 0\n",
      "['rt', 'walshfreedom', 'don’t', 'mean', 'to', 'be', 'a', 'downer', 'on', 'this', 'bannon', 'indictment', 'but', 'it', 'could', 'be', 'a', 'long', 'time', 'before', 'he’s', 'ever', 'in', 'front', 'of', 'a', 'judge', 'amp', 'j…'] 0\n",
      "['rt', 'donwinslow', 'watch', 'kevin', 'mccarthy', 'brag', 'about', 'he', 'used', 'the', 'benghazi', 'hearings', 'to', 'tear', 'down', 'an', 'innocent', 'hillaryclinton\\n\\nhe', 'literally', 'bragg…'] 0\n",
      "['rt', 'occupydemocrats', 'breaking', 'democrat', 'phil', 'murphy', 'wins', 'reelection', 'as', 'governor', 'of', 'new', 'jersey', 'against', 'a', 'protrump', 'republican', 'who', 'headed', 'a', '…'] 1\n",
      "['rt', 'stevebenen', 'plenty', 'of', 'folks', 'in', 'trumps', 'orbit', 'intended', 'to', 'follow', 'bannons', 'lead', 'and', 'ignore', 'congressional', 'subpoenas', 'assuming', 'the', 'justice…'] 1\n",
      "                                                                                \r"
     ]
    },
    {
     "name": "stdout",
     "output_type": "stream",
     "text": [
      "['07:06:16', [('0', 8), ('1', 3)]]\n"
     ]
    },
    {
     "name": "stderr",
     "output_type": "stream",
     "text": [
      "https://stream.twitter.com/1.1/statuses/filter.json?track=Trump <Response [200]>\n",
      "['b52malmet', 'slow', 'and', 'steady', 'when', 'it', 'comes', 'to', 'trump', 'and', 'treason', 'he', 'must', 'be', 'infallible'] 0\n",
      "['ericmmatheny', 'cnn', 'has', 'to', 'make', 'everything', 'about', 'race…and', 'trump', 'how’d', 'they', 'get', 'their', 'views'] 0\n",
      "['rt', 'sethn12', 'yes', 'it', 'is', '‘common', 'sense’', 'to', 'support', 'public', 'hanging', 'of', 'your', 'coworker', '\\n', 'if', 'you’re', 'a', 'psychopath', '', 'httpstcos3ub0ydqt9'] 1\n",
      "['better', 'not', 'let', 'david', 'baddiel', 'see', 'this', 'bloke', '😬🤡😬', 'guiltyaschargred'] 0\n",
      "['rt', 'covidoversight', 'today', 'whipclyburn', 'is', 'demanding', 'answers', 'from', 'former', 'cdc', 'dir', 'robert', 'r', 'redfield', 'after', 'new', 'evidence', 'sheds', 'light', 'on', 'repe…'] 0\n",
      "['rt', 'keitholbermann', 'the', 'way', 'conservative', 'whores', 'like', 'this', 'fascist', 'twist', 'reality', 'english', 'and', 'insanity', 'to', 'defend', 'their', 'wouldbe', 'dictator', 'be…'] 0\n",
      "['rt', 'kurtbardella', 'lockhimup'] 0\n",
      "['radiofreetom', 'where', 'the', 'hell', 'did', 'this', 'cockroach', 'come', 'from', '', 'i', 'never', 'heard', 'of', 'him', 'until', 'his', 'friend', 'trump', 'showed', 'up…', 'httpstco4ziwf2szfr'] 0\n",
      "['rt', 'stephenking', 'trump', 'is', 'never', 'going', 'to', 'jail', 'he', 'deserves', 'to', 'but', 'he’s', 'rich', 'and', 'powerful', 'instead', 'of', 'poor', 'and', 'black', 'welcome', 'to', 'america'] 0\n",
      "['rt', 'owillis', 'it’s', 'amazing', 'to', 'me', 'to', 'see', 'reporters', 'and', 'even', 'some', 'liberals', 'operate', 'under', 'the', 'premise', 'trump', 'is', 'doing', 'some', 'kind', 'of', 'strategic', 'lon…'] 1\n",
      "['rt', 'caitoz', 'bidens', 'foreign', 'policy', 'is', 'trumps', 'foreign', 'policy', 'when', 'it', 'comes', 'to', 'the', 'us', 'policies', 'that', 'affect', 'the', 'most', 'people', 'and', 'the', 'policie…'] 1\n",
      "                                                                                \r"
     ]
    },
    {
     "name": "stdout",
     "output_type": "stream",
     "text": [
      "['07:06:21', [('0', 8), ('1', 3)]]\n"
     ]
    },
    {
     "name": "stderr",
     "output_type": "stream",
     "text": [
      "https://stream.twitter.com/1.1/statuses/filter.json?track=Trump <Response [200]>\n",
      "['rt', 'natashabertrand', 'breaking', 'on', 'cnn', 'trump', 'adviser', 'steve', 'bannon', 'has', 'been', 'indicted', 'by', 'a', 'federal', 'grand', 'jury'] 0\n",
      "['imspeaking13', 'good', 'news', '', 'i', 'just', 'noticed', 'bannons', 'warroom', 'broadcast', 'narrowcast', 'boasting', '', 'that', 'were', 'taking', 'ov…', 'httpstcosj1co9qqul'] 1\n",
      "['rt', 'ericgarland', 'guys\\n\\nim', 'starting', 'to', 'think', 'trump', 'wont', 'be', 'reinstalled', 'as', 'president', '😂🖕🤣'] 0\n",
      "['rt', 'palmerreport', 'merrick', 'garland’s', 'doj', 'has', 'criminally', 'indicted', 'steve', 'bannon', 'for', 'contempt', 'bannon', 'is', 'surrendering', 'this', 'was', 'always', 'going', 'to…'] 0\n",
      "['rt', 'mybigredtruck', 'and', 'pence', 'trending', 'now\\nregarding', 'the', 'chants', 'to', 'hang', 'pence', 'trump', 'justified', 'it', 'by', 'saying', 'well', 'the', 'people', 'were', 'very', 'a…'] 0\n",
      "['httpstcogxkkabejvc', 'lv11', 'trumpdonating', 'exceo', 'who', 'threw', 'a', 'chair', 'during', 'capitol', 'riot', 'sentenced', 'to', 'prison', '', 'h…', 'httpstcogkhbbrhkem'] 1\n",
      "['rt', 'occupydemocrats', 'breaking', 'the', 'january', '6', 'committee', 'officially', 'notices', 'trump', 'chief', 'of', 'staff', 'mark', 'meadows', 'that', 'if', 'he', 'doesn’t', 'comply', 'with…'] 0\n",
      "['rt', 'ericgarland', 'well', 'well', '', 'somebody', 'who', 'used', 'their', 'security', 'clearance', 'in', 'an', 'attempted', 'coup', 'détat', 'that', 'is', 'very', 'bad', '😠😈⚖️'] 0\n",
      "['rt', 'persuasionrisng', 'blake', 'masters', 'meets', 'with', 'trump', 'comes', 'out', 'swinging'] 0\n",
      "['rt', 'sethabramson', 'given', 'that', 'the', 'first', 'time', 'steve', 'bannon', 'was', 'indicted', 'during', 'the', 'trump', 'presidency', 'he', 'was', 'found', 'on', 'the', 'yacht', 'of', 'a', 'chinese…'] 0\n",
      "['rt', 'opdeatheaters', '1', 'epstein', 'httpstcok0u8eed8ln\\n2', 'epstein', 'httpstcotzfkgme9ii\\n3', 'brunel', 'httpstcokk1pjafnim\\n4', 'casablancas', 'h…'] 1\n",
      "                                                                                \r"
     ]
    },
    {
     "name": "stdout",
     "output_type": "stream",
     "text": [
      "['07:06:26', [('0', 8), ('1', 3)]]\n"
     ]
    },
    {
     "name": "stderr",
     "output_type": "stream",
     "text": [
      "https://stream.twitter.com/1.1/statuses/filter.json?track=Trump <Response [200]>\n",
      "['what', 'a', 'fucking', 'moron'] 0=========================>       (7 + 1) / 8]\n",
      "['mattgaetz', 'i', 'know', 'he', 'was', 'born', 'a', 'degenerate', 'pretty', 'much', 'sums', 'up', 'trump', 'and', 'company'] 0\n",
      "['rt', 'travisbhill5', 'bro', 'what', 'is', 'the', 'onion', 'even', 'supposed', 'to', 'do', 'at', 'this', 'point'] 0\n",
      "['rt', 'joncoopertweets', 'boom', 'nyc', 'is', 'pursuing', 'its', 'plans', 'to', 'evict', 'trump', 'from', 'his', 'nyc', 'golf', 'course', 'calltoactivism\\n\\nnyc', 'will', 'defend', 'its', 'contra…'] 0\n",
      "['rt', 'robertmackey', 'a', 'defense', 'witness', 'told', 'the', 'jury', 'the', 'men', 'kyle', 'rittenhouse', 'killed', 'were', 'rioters', 'the', 'trial', 'judge', 'stopped', 'the', 'prosecutor', 'fr…'] 0\n",
      "['rt', 'thedailybeast', 'donald', 'trump', 'has', 'a', 'long', 'track', 'record', 'of', 'defending', 'the', 'indefensible—but', 'this', 'is', 'something', 'else', 'httpstcogmqwzhx5gk'] 0\n",
      "['rt', 'girlsreallyrule', 'breaking', 'a', 'federal', 'grand', 'jury', 'has', 'indicted', 'former', 'trump', 'advisor', 'steve', 'bannon', 'for', 'contempt', 'of', 'congress', 'for', 'refusing', 'to…'] 0\n",
      "['republicans', 'have', 'taken', 'what', 'action'] 0\n",
      "['rt', 'mayoisspicyy', 'today', 'is', 'a', 'perfect', 'day', 'to', 'remind', 'everyone', 'that', 'donald', 'trump', 'is', 'a', 'draft', 'dodging', 'domestic', 'terrorist'] 0\n",
      "['rt', 'jonkarl', 'when', 'i', 'interviewed', 'trump', 'for', 'betrayal', 'and', 'asked', 'him', 'about', 'his', 'supporters', 'chanting', 'hang', 'mike', 'pence', 'he', 'didnt', 'condemn', 'them…'] 0\n",
      "['rt', 'trentcapelli', 'donald', 'trump', 'doesn’t', 'care', 'that', 'mike', 'pence', 'was', 'almost', 'hung', 'similarly', 'melania', 'doesn’t', 'care', 'that', 'donald', 'trump', 'isn’t', 'hung'] 0\n",
      "                                                                                \r"
     ]
    },
    {
     "name": "stdout",
     "output_type": "stream",
     "text": [
      "['07:06:31', [('0', 11)]]\n"
     ]
    },
    {
     "name": "stderr",
     "output_type": "stream",
     "text": [
      "https://stream.twitter.com/1.1/statuses/filter.json?track=Trump <Response [420]>\n"
     ]
    },
    {
     "name": "stdout",
     "output_type": "stream",
     "text": [
      "['07:06:35', []]\n"
     ]
    },
    {
     "name": "stderr",
     "output_type": "stream",
     "text": [
      "https://stream.twitter.com/1.1/statuses/filter.json?track=Trump <Response [420]>\n"
     ]
    },
    {
     "name": "stdout",
     "output_type": "stream",
     "text": [
      "['07:06:40', []]\n"
     ]
    },
    {
     "name": "stderr",
     "output_type": "stream",
     "text": [
      "https://stream.twitter.com/1.1/statuses/filter.json?track=Trump <Response [420]>\n"
     ]
    },
    {
     "name": "stdout",
     "output_type": "stream",
     "text": [
      "['07:06:45', []]\n"
     ]
    },
    {
     "name": "stderr",
     "output_type": "stream",
     "text": [
      "https://stream.twitter.com/1.1/statuses/filter.json?track=Trump <Response [420]>\n"
     ]
    },
    {
     "name": "stdout",
     "output_type": "stream",
     "text": [
      "['07:06:50', []]\n"
     ]
    },
    {
     "name": "stderr",
     "output_type": "stream",
     "text": [
      "https://stream.twitter.com/1.1/statuses/filter.json?track=Trump <Response [420]>\n"
     ]
    },
    {
     "name": "stdout",
     "output_type": "stream",
     "text": [
      "['07:06:55', []]\n"
     ]
    },
    {
     "name": "stderr",
     "output_type": "stream",
     "text": [
      "https://stream.twitter.com/1.1/statuses/filter.json?track=Trump <Response [420]>\n"
     ]
    },
    {
     "name": "stdout",
     "output_type": "stream",
     "text": [
      "['07:07:00', []]\n"
     ]
    },
    {
     "name": "stderr",
     "output_type": "stream",
     "text": [
      "https://stream.twitter.com/1.1/statuses/filter.json?track=Trump <Response [200]>\n",
      "['rt', 'jimsciutto', 'this', 'audio', 'of', 'the', 'former', 'president', 'of', 'the', 'united', 'states', 'regarding', 'the', 'former', 'vice', 'president', 'is', 'a', 'mustlisten', 'httpstco…'] 0\n",
      "['rt', 'calltoactivism', 'just', 'this', '—', 'congressman', 'bennie', 'thompson', 'who', 'chairs', 'the', 'january', '6', 'committee', 'is', 'still', 'considering', 'bringing', 'trump', 'befor…'] 0\n",
      "['rt', 'gtconway3d', 'tfg', 'deleted', 'this', 'tweet', 'but', 'it', 'was', 'precisely', 'the', 'same', 'sentiment', 'httpstcowvysjhbi02'] 0\n",
      "['rt', 'charliekirk11', 'if', 'tony', 'evers', 'had', 'accepted', 'trumps', 'offer', 'to', 'send', 'in', 'the', 'national', 'guard', 'during', 'last', 'summers', 'riots', 'there', 'would', 'not', 'be', 'a…'] 0\n",
      "['rt', 'ericgarland', 'guys\\n\\nim', 'starting', 'to', 'think', 'trump', 'wont', 'be', 'reinstalled', 'as', 'president', '😂🖕🤣'] 0\n",
      "['how', 'stupid', 'are', 'these', 'people\\n\\nthe', 'answer', 'is', 'very', 'very', 'stupid'] 0\n",
      "['cnnbrk', 'do', 'you', 'all', 'know', 'that', 'trump', 'has', 'an', 'unknown', 'daughter', 'who', 'is', 'being', 'targeted', 'and', 'begging', 'for', 'help', ''] 1\n",
      "['rt', 'winback24', 'somebody', 'please', 'explain', 'to', 'me', 'how', 'more', 'people', 'can', 'die', 'under', 'biden', 'in', '2021', 'with', 'a', 'vaccine', 'then', 'died', 'under', 'donald', 'trump', 'in', '202…'] 1\n",
      "['rt', 'ramcnn', 'trump', 'scores', 'two', 'legal', 'wins', 'after', 'summer', 'zervos', 'drops', 'lawsuit', 'and', 'michael', 'cohens', 'suit', 'against', 'trump', 'org', 'dismissed\\nhttpstc…'] 0\n",
      "['notlupus27', 'zerosum24', 'ding', 'ding', 'ding', '', 'no', 'need', 'to', 'make', 'trump', 'look', 'bad'] 0\n",
      "['rt', 'mckaycoppins', 'inside', 'the', 'plot', 'to', 'take', 'down', 'mike', 'lee', 'my', 'story', 'on', 'the', 'unusual', 'coalition', 'in', 'utah', 'working', 'to', 'unseat', 'the', 'former', 'trump', 'criti…'] 0\n",
      "                                                                                \r"
     ]
    },
    {
     "name": "stdout",
     "output_type": "stream",
     "text": [
      "['07:07:06', [('0', 9), ('1', 2)]]\n"
     ]
    },
    {
     "name": "stderr",
     "output_type": "stream",
     "text": [
      "https://stream.twitter.com/1.1/statuses/filter.json?track=Trump <Response [200]>\n",
      "['rt', 'spenolpalinusa', 'mr', 'trump', 'whom', 'i', 'dactually', 'did', 'support', 'httpstco9u3aqwz1ln'] 0\n",
      "['documents', 'reveal', 'new', 'details', 'of', 'trump', 'political', 'interference', 'in', 'covid', 'response', 'httpstco3knmobpyvw', 'httpstcosmjutwsaik'] 1\n",
      "['rt', 'silveradie', '⚖️\\n\\nsteve', 'bannon', '', '👉defied', 'congress', 'and', 'has', 'been', 'indicted', '\\n\\nconcealed—information', 'on', 'the', '', 'coup', 'trumpincited\\n\\nhis', 'indictm…'] 1\n",
      "['rt', 'cortessteve', 'a', 'new', 'rising', 'star', 'of', 'the', 'america', 'first', 'movement', 'john', 'gibbs', 'announces', 'his', 'candidacy', 'to', 'replace', 'trumpimpeacher', 'rep', 'pete', 'm…'] 1\n",
      "['rt', 'steveschmidtses', 'you', 'are', 'extremely', 'dishonest', 'more', 'than', '80', 'percent', 'of', 'monies', 'raised', 'by', 'the', 'lincoln', 'project', 'went', 'to', 'spending', 'on', 'voter', 'co…'] 0\n",
      "['rt', 'jukehorse50', 'ok', 'bannon', 'indicted', '', 'lets', 'do', 'trump', 'next'] 0\n",
      "['rt', 'mattgaetz', 'the', 'fbi', 'is', 'the', 'enforcement', 'arm', 'of', 'the', 'mainstream', 'media'] 0\n",
      "['documents', 'reveal', 'new', 'details', 'of', 'trump', 'political', 'interference', 'in', 'covid19', 'response', '', 'the', 'hill', 'httpstcocbkotps0t9'] 1\n",
      "['itsmadsn0', 'xanderxjork', 'she’s', 'straight', 'up', 'evil', 'satan', 'used', 'to', 'be', 'a', 'loyal', 'and', 'obedient', 'angel', 'until', 'he', 'became', 'full', 'o…', 'httpstco7gc3mfvxbz'] 0\n",
      "['if', 'bannon', 'spends', 'two', 'years', 'in', 'prison', 'without', 'internet', 'access', 'you', 'can', 'only', 'say', 'the', 'risk', 'of', 'global', 'war', 'goes', 'down', 'sig…', 'httpstcozvnbdzujyr'] 0\n",
      "['catturd2', 'akirar39', 'trump', 'did', 'he', 'donated', 'his', 'salary'] 0\n",
      "                                                                                \r"
     ]
    },
    {
     "name": "stdout",
     "output_type": "stream",
     "text": [
      "['07:07:11', [('0', 7), ('1', 4)]]\n"
     ]
    },
    {
     "name": "stderr",
     "output_type": "stream",
     "text": [
      "https://stream.twitter.com/1.1/statuses/filter.json?track=Trump <Response [200]>\n",
      "['yes', 'httpstcopw814d15qh'] 0=============================>       (7 + 1) / 8]\n",
      "['rt', 'sethabramson', '🔒', 'icymi', 'if', 'you', 'know', 'who', 'steve', 'bannons', 'lawyer', 'is', 'you', 'understand', 'how', 'closely', 'trump', 'is', 'linked', 'to', 'the', 'coverup', 'of', 'his', 'o…'] 0\n",
      "['rt', 'tedlieu', 'no', 'one', 'should', 'be', 'above', 'the', 'law', 'not', 'the', 'former', 'president', 'not', 'his', 'staff', 'not', 'members', 'of', 'congress', 'and', 'not', 'steve', 'bannon'] 0\n",
      "['rt', 'ryanjreilly', 'a', 'defense', 'department', 'contractor', 'with', 'a', 'secret', 'security', 'clearance', 'charged', 'in', 'connection', 'with', 'jan', '6', 'used', 'his', 'work', 'computer…'] 0\n",
      "['rt', 'natashabertrand', 'breaking', 'on', 'cnn', 'trump', 'adviser', 'steve', 'bannon', 'has', 'been', 'indicted', 'by', 'a', 'federal', 'grand', 'jury'] 0\n",
      "['jayseos3', 'scoontv', 'brilliantcode', 'for', '', '', 'anyone', 'but', 'trump'] 1\n",
      "['rt', 'palmerreport', 'merrick', 'garland’s', 'doj', 'has', 'criminally', 'indicted', 'steve', 'bannon', 'for', 'contempt', 'bannon', 'is', 'surrendering', 'this', 'was', 'always', 'going', 'to…'] 0\n",
      "['rt', 'travisbhill5', 'bro', 'what', 'is', 'the', 'onion', 'even', 'supposed', 'to', 'do', 'at', 'this', 'point'] 0\n",
      "['rt', 'davidcorndc', 'uh', 'when', 'was', 'the', 'last', 'time', 'congress', 'had', 'to', 'investigate', 'a', 'former', 'president', 'and', 'his', 'henchmen', 'for', 'an', 'insurrectionist', 'attack', 'o…'] 0\n",
      "['rt', 'tomjchicago', '4', 'they', 'know', 'trump', 'has', 'dementia', 'amp', 'are', 'letting', 'him', 'burn', 'out\\n\\n5', 'garland', 'is', 'aligned', '', 'w', 'republican', 'interests\\n\\n6', 'trump', 'is', 'black…'] 1\n",
      "['rt', 'madridmike', 'welp', 'it', 'was', 'fun', 'while', 'it', 'lasted', 'httpstco5azsf9jpkz'] 1\n",
      "                                                                                \r"
     ]
    },
    {
     "name": "stdout",
     "output_type": "stream",
     "text": [
      "['07:07:16', [('0', 8), ('1', 3)]]\n"
     ]
    },
    {
     "name": "stderr",
     "output_type": "stream",
     "text": [
      "https://stream.twitter.com/1.1/statuses/filter.json?track=Trump <Response [200]>\n",
      "['rt', 'oxxrowanxxo', 'breaking', 'trumps', 'adviser', 'steve', 'bannon', 'has', 'been', 'indicted', 'by', 'federal', 'grand', 'jury', 'on', '2', 'counts', 'for', 'failure', 'to', 'comply', 'with', 'subp…'] 0\n",
      "['rt', 'gem56336989', '“murkowski', 'has', 'got', 'to', 'go”\\xa0', 'president', 'trump', '', 'httpstco7qppa3zpvo'] 0\n",
      "['its', 'about', 'damn', 'time', '', 'this', 'shouldnt', 'have', 'been', 'complicated', 'and', 'take', 'weeks', 'to', 'go', 'through', '', 'he', 'ignored', 'a', 'subpoena', 'h…', 'httpstcooklmkcgdqa'] 0\n",
      "['rt', 'cernovich', 'trump', 'is', 'a', 'fucking', 'boomer', 'who', 'still', 'talked', 'to', 'press', 'and', 'let', 'bad', 'coverage', 'bother', 'him', 'trump', 'just', 'gave', 'jon', 'karl', 'a', '90', 'minute', 'p…'] 0\n",
      "['rt', 'themarketswork', 'remember', 'heading', 'into', '2017', 'when', 'republicans', 'controlled', 'the', 'senate', 'the', 'house', 'the', 'presidency', '33', 'governor', 'seats', 'and', '68…'] 0\n",
      "['rt', 'phillewis', 'this', 'is', 'not', 'an', 'episode', 'of', 'saturday', 'night', 'live'] 1\n",
      "['rt', 'ericgarland', 'well', 'well', '', 'somebody', 'who', 'used', 'their', 'security', 'clearance', 'in', 'an', 'attempted', 'coup', 'détat', 'that', 'is', 'very', 'bad', '😠😈⚖️'] 0\n",
      "['rt', 'keithhinton8', 'we', 'miss', 'the', 'man', 'president', 'donald', 'trump', 'who', 'put', 'his', 'heart', 'and', 'soul', 'into', 'our', 'national', 'security', 'the', 'military', 'and', 'care', 'fo…'] 0\n",
      "['callanswag2', 'deblync76', 'nightlingbolt', 'snopes', 'word', 'salad', 'but', 'you', 'still', 'didnt', 'say', 'i', 'was', 'wrong', '😂', 'and', 'why', 'tf', 'would…', 'httpstcorv42x61jvs'] 0\n",
      "['bethdonz5', 'im', 'just', 'assuming', 'it\\nand', 'you', 'know', 'trump', 'appointed', 'judge', 'so', 'unless', 'this', 'judge', 'has', 'a', 'point', 'to', 'make', 'abou…', 'httpstcoubgqk5ikkw'] 0\n",
      "['rt', 'tribelaw', 'doj', 'is', 'rightly', 'saying', 'executive', 'privilege', 'belongs', 'not', 'to', 'any', 'individual', 'but', 'to', 'the', 'executive', 'branch', 'of', 'which', 'the', 'one', 'and', 'onl…'] 0\n",
      "                                                                                \r"
     ]
    },
    {
     "name": "stdout",
     "output_type": "stream",
     "text": [
      "['07:07:22', [('0', 10), ('1', 1)]]\n"
     ]
    },
    {
     "name": "stderr",
     "output_type": "stream",
     "text": [
      "https://stream.twitter.com/1.1/statuses/filter.json?track=Trump <Response [200]>\n",
      "['rt', 'tribelaw', 'doj', 'is', 'rightly', 'saying', 'executive', 'privilege', 'belongs', 'not', 'to', 'any', 'individual', 'but', 'to', 'the', 'executive', 'branch', 'of', 'which', 'the', 'one', 'and', 'onl…'] 0\n",
      "['rt', 'trollmoti', 'stephenking', 'not', 'sure', '…', 'with', 'the', 'kind', 'of', 'popularity', '\\n\\namerica', 'first', '…', 'courtesy', 'president', 'trump', '😜\\n\\n', 'httpstcokyqhrry2b2'] 1\n",
      "['rt', 'sethabramson', '🔒', 'could', 'there', 'be', 'a', 'better', 'day', 'to', 'republish', 'this', 'list', 'of', 'misconduct', 'by', 'trump', 'aides', 'allies', 'advisers', 'agents', 'attorney…'] 0\n",
      "['rt', 'realchasegeiser', 'no', 'matter', 'how', 'many', 'times', 'the', 'democrats', 'say', 'it', 'donald', 'trump', 'never', 'once', 'used', 'language', 'to', 'incite', 'violence\\n\\nhe', 'was', 'banne…'] 0\n",
      "['rt', 'marshablackburn', 'hunter', 'biden', 'was', 'never', 'investigated', 'because', 'the', 'fbi', 'was', 'too', 'busy', 'framing', 'president', 'trump'] 0\n",
      "['rt', 'b52malmet', 'everything', 'breaks', 'donald’s', 'way', 'everything', 'trump', 'scores', 'two', 'legal', 'wins', 'after', 'summer', 'zervos', 'drops', 'lawsuit', 'and', 'michael', 'cohen…'] 0\n",
      "['rt', 'joncoopertweets', 'boom', 'nyc', 'is', 'pursuing', 'its', 'plans', 'to', 'evict', 'trump', 'from', 'his', 'nyc', 'golf', 'course', 'calltoactivism\\n\\nnyc', 'will', 'defend', 'its', 'contra…'] 0\n",
      "['rt', 'gracajakub', 'steve', 'bannon', 'został', 'postawiony', 'w', 'stan', 'oskarżenia', 'indictment', 'przez', 'wielką', 'ławę', 'przysięgłych', 'grand', 'jury', 'za', 'odmowę', 'staw…'] 0\n",
      "['rt', 'costareports', 'why', 'bannon', 'matters', '\\n\\nkey', 'confidant', 'to', 'eastman', 'as', 'eastman', 'writes', 'his', 'memo', 'and', 'circulates', 'it\\n\\nrallies', 'trump', 'supporters', 't…'] 0\n",
      "['rt', 'randallclaycox', 'randpaul', 'randpaul', 'you', 'have', 'really', 'turned', 'into', 'a', 'buffoon', 'since', 'you', 'started', 'worshipping', 'trump', 'go', 'run', 'your', 'bs', 'on', 'aon', 'an…'] 0\n",
      "['steve', 'bannon', 'indicted', 'for', 'refusing', 'to', 'comply', 'with', 'capitol', 'attack', 'subpoena', '', 'live\\n\\nhttpstcor8mf6n2yel'] 1\n",
      "                                                                                \r"
     ]
    },
    {
     "name": "stdout",
     "output_type": "stream",
     "text": [
      "['07:07:26', [('0', 9), ('1', 2)]]\n"
     ]
    },
    {
     "name": "stderr",
     "output_type": "stream",
     "text": [
      "https://stream.twitter.com/1.1/statuses/filter.json?track=Trump <Response [200]>\n",
      "['rt', 'levparnas', 'finally', '👇', '💥'] 0================>       (7 + 1) / 8]\n",
      "['rt', 'zaleskiluke', 'kaitlancollins', 'schneidercnn', 'if', 'you', 'can’t', 'arrest', 'steve', 'bannon', 'you', 'can’t', 'arrest', 'anyone', 'trump’s', 'not', 'guilty', 'he’s', 'guilty', 't…'] 0\n",
      "['i', 'mean', 'maybe', 'the', 'real', 'crime', 'here', 'is', 'your', 'egregious', 'comma', 'splice', 'in', 'that', 'last', 'sentence'] 0\n",
      "['rt', 'therickwilson', 'at', 'least', 'bannon', 'can', 'count', 'on', 'trump', 'to', 'pardon', 'him', 'for\\n\\nohwait'] 0\n",
      "['macfarlanenews', 'trump', 'will', 'declare', 'maralago', 'a', 'soverign', 'nation', 'with', 'no', 'extradition', 'to', 'the', 'us', 'by', 'monday', 'and', 'bannon', 'will', 'be', 'in', 'residence'] 1\n",
      "['cool', 'i', 'love', 'that', 'he’s', 'going', 'to', 'have', 'to', 'turn', 'himself', 'in', 'but', 'i', 'have', 'plenty', 'of', 'wet', 'blanket', 'expectations', 'left'] 1\n",
      "['rt', 'reportsdanews', 'breaking', 'trump', 'defends', 'calls', 'to', '“hang', 'mike', 'pence”\\n\\nsays', 'it’s', 'common', 'sense\\n\\nwow'] 0\n",
      "['rt', 'steelersgirl690', 'lonnie', 'coffman', '71', 'was', 'among', 'the', 'most', 'heavily', 'armed', 'suspects', 'arrested', 'in', 'connection', 'with', 'the', 'jan', '6', 'attack', 'on', 'the', 'cap…'] 0\n",
      "['rt', 'palmerreport', 'merrick', 'garland’s', 'doj', 'has', 'criminally', 'indicted', 'steve', 'bannon', 'for', 'contempt', 'bannon', 'is', 'surrendering', 'this', 'was', 'always', 'going', 'to…'] 0\n",
      "['republican', 'house', 'rep', 'liz', 'cheney', 'rwy', 'denounced', 'her', 'partys', 'leadership', '', 'httpstco1bdxzkqffd'] 0\n",
      "['rt', 'sethn12', 'yes', 'it', 'is', '‘common', 'sense’', 'to', 'support', 'public', 'hanging', 'of', 'your', 'coworker', '\\n', 'if', 'you’re', 'a', 'psychopath', '', 'httpstcos3ub0ydqt9'] 1\n",
      "                                                                                \r"
     ]
    },
    {
     "name": "stdout",
     "output_type": "stream",
     "text": [
      "['07:07:31', [('0', 8), ('1', 3)]]\n"
     ]
    },
    {
     "name": "stderr",
     "output_type": "stream",
     "text": [
      "https://stream.twitter.com/1.1/statuses/filter.json?track=Trump <Response [420]>\n"
     ]
    },
    {
     "name": "stdout",
     "output_type": "stream",
     "text": [
      "['07:07:35', []]\n"
     ]
    },
    {
     "name": "stderr",
     "output_type": "stream",
     "text": [
      "https://stream.twitter.com/1.1/statuses/filter.json?track=Trump <Response [420]>\n"
     ]
    },
    {
     "name": "stdout",
     "output_type": "stream",
     "text": [
      "['07:07:40', []]\n"
     ]
    },
    {
     "name": "stderr",
     "output_type": "stream",
     "text": [
      "https://stream.twitter.com/1.1/statuses/filter.json?track=Trump <Response [420]>\n"
     ]
    },
    {
     "name": "stdout",
     "output_type": "stream",
     "text": [
      "['07:07:45', []]\n"
     ]
    },
    {
     "name": "stderr",
     "output_type": "stream",
     "text": [
      "https://stream.twitter.com/1.1/statuses/filter.json?track=Trump <Response [420]>\n"
     ]
    },
    {
     "name": "stdout",
     "output_type": "stream",
     "text": [
      "['07:07:50', []]\n"
     ]
    },
    {
     "name": "stderr",
     "output_type": "stream",
     "text": [
      "https://stream.twitter.com/1.1/statuses/filter.json?track=Trump <Response [420]>\n"
     ]
    },
    {
     "name": "stdout",
     "output_type": "stream",
     "text": [
      "['07:07:55', []]\n"
     ]
    },
    {
     "name": "stderr",
     "output_type": "stream",
     "text": [
      "https://stream.twitter.com/1.1/statuses/filter.json?track=Trump <Response [420]>\n"
     ]
    },
    {
     "name": "stdout",
     "output_type": "stream",
     "text": [
      "['07:08:00', []]\n"
     ]
    },
    {
     "name": "stderr",
     "output_type": "stream",
     "text": [
      "https://stream.twitter.com/1.1/statuses/filter.json?track=Trump <Response [200]>\n",
      "['stevehiltonx', 'trump', 'should', 'sue', 'the', 'media', 'that', 'constantly', 'smeared', 'him', 'plus', 'he', 'should', 'sue', 'adam', 'schiff'] 0\n",
      "['trump', 'girl', '🇺🇲🦅🇺🇲', 'i', 'follow', 'back', 'all', 'patriots', 'is', 'now', 'following', 'me', 'on', 'twitter', 'httpstcorakhzmykxy'] 1\n",
      "['rt', 'tribelaw', 'doj', 'is', 'rightly', 'saying', 'executive', 'privilege', 'belongs', 'not', 'to', 'any', 'individual', 'but', 'to', 'the', 'executive', 'branch', 'of', 'which', 'the', 'one', 'and', 'onl…'] 0\n",
      "['bluntlyangry', 'trump', 'never', 'got', 'above', '50', 'except', 'for', 'rasmussen', 'a', 'completely', 'skewed', 'polling', 'you', 'cant', 'count', 'online', 'po…', 'httpstcoubeg2vffje'] 0\n",
      "['gasecofstate', 'pittcyber', 'never', 'forget', 'january', '6th', 'there', 'is', 'no', 'question', 'none', 'that', 'president', 'trump', 'is', 'practically…', 'httpstcoavvg1afgss'] 0\n",
      "['rt', 'travisbhill5', 'bro', 'what', 'is', 'the', 'onion', 'even', 'supposed', 'to', 'do', 'at', 'this', 'point'] 0\n",
      "['rt', 'nealkatyal', 'if', 'we', 'weren’t', 'clear', 'what', 'the', 'doj’s', 'position', 'on', 'executive', 'privilege', 'was', 'we', 'sure', 'are', 'now', 'as', 'predicted', 'they', 'confirmed', 'what…'] 0\n",
      "['rt', 'stephenking', 'trump', 'is', 'never', 'going', 'to', 'jail', 'he', 'deserves', 'to', 'but', 'he’s', 'rich', 'and', 'powerful', 'instead', 'of', 'poor', 'and', 'black', 'welcome', 'to', 'america'] 0\n",
      "['rt', 'trilbysmith2', 'selling', 'their', 'homes', 'but', 'not', 'buying', 'new', 'ones\\nso', 'where', 'are', 'they', 'living', 'now\\nlooks', 'like', 'an', 'executive', 'order', 'from', 'president…'] 0\n",
      "['rt', 'doomsdayscw', 'trump', 'silent', 'as', 'stephen', 'bannon', 'under', 'investigation', 'for', 'voter', 'fraud', 'httpstco1lufrbpp2t', 'via', 'anteksiler'] 0\n",
      "['mtwit75', 'impressionnant', 'et', 'très', 'inquiétant', 'avec', 'hidalgo', 'comme', 'avec', 'trump', 'ou', 'johnson', 'on', 'voit', 'à', 'quel', 'point', 'les', 'sys…', 'httpstcoh8bcckozqg'] 0\n",
      "                                                                                \r"
     ]
    },
    {
     "name": "stdout",
     "output_type": "stream",
     "text": [
      "['07:08:06', [('0', 10), ('1', 1)]]\n"
     ]
    },
    {
     "name": "stderr",
     "output_type": "stream",
     "text": [
      "https://stream.twitter.com/1.1/statuses/filter.json?track=Trump <Response [200]>\n",
      "['rt', 'tribelaw', 'doj', 'is', 'rightly', 'saying', 'executive', 'privilege', 'belongs', 'not', 'to', 'any', 'individual', 'but', 'to', 'the', 'executive', 'branch', 'of', 'which', 'the', 'one', 'and', 'onl…'] 0\n",
      "['rt', 'donwinslow', 'please', 'understand', 'that', 'steve', 'bannons', 'indictment', 'only', 'begins', 'a', 'legal', 'process\\n\\neven', 'when', 'arrested', 'he', 'will', 'likely', 'be', 'immedia…'] 0\n",
      "['rt', 'donwinslow', 'only', 'in', 'trumps', 'part', 'of', 'america', 'could', 'a', 'person', 'suit', 'up', 'with', 'an', 'ar', '15', 'lie', 'on', 'camera', 'about', 'being', 'an', 'emt', 'lie', 'on', 'camera', 'multi…'] 0\n",
      "['repadamschiff', 'oh', 'you', 'got', 'him', 'for', 'sure', 'this', 'time', '🤣🤣', 'just', 'like', 'roger', 'stone', 'russian', 'hoax', 'ukraine', 'and', 'you', 'always', 'en…', 'httpstcoc0f6bhv1in'] 0\n",
      "['jackposobiec', 'weaponizing', 'the', 'doj', 'didnt', 'we', 'hear', 'a', 'certain', 'democrat', 'claim', 'president', 'trump', 'would', 'do', 'that', 'seems', 'the…', 'httpstcovr0ymcyqyh'] 0\n",
      "['trump’s', '16', 'obstruction', 'crumbles', 'as', 'steven', 'bannon', 'indicted', 'httpstcoqwj3zpuofd'] 0\n",
      "['rt', 'ronhanforth', 'leftists\\nyou', 'were', 'wrong', 'about', 'russian', 'collusion\\nwrong', 'about', 'bubba', 'noose\\nwrong', 'about', 'nick', 'sandmann\\nwrong', 'about', 'trumps', 'fi…'] 0\n",
      "['rt', 'elisestefanik', 'for', 'years', 'democrats', 'baselessly', 'accused', 'president', 'trump', 'of', 'weaponizing', 'the', 'doj', '\\n\\nin', 'reality', 'it', 'is', 'the', 'left', 'that', 'has…'] 0\n",
      "['rt', 'voteblue27', 'johncollinskp', 'johncollinskp', 'can', 'someone', 'explain', 'to', 'me', 'why', 'donald', 'john', 'trump', 'is', 'still', 'on', 'twitter', 'trumpwarroom', ''] 0\n",
      "['rt', 'mckaycoppins', 'inside', 'the', 'plot', 'to', 'take', 'down', 'mike', 'lee', 'my', 'story', 'on', 'the', 'unusual', 'coalition', 'in', 'utah', 'working', 'to', 'unseat', 'the', 'former', 'trump', 'criti…'] 0\n",
      "['washingtonpost', 'america', '🇺🇸', 'has', 'change', 'from', 'good', 'to', 'bad', 'so', 'sad', 'this', 'trump', 'guy', 'need', 'to', 'be', 'in', 'jail', 'soon'] 0\n",
      "                                                                                \r"
     ]
    },
    {
     "name": "stdout",
     "output_type": "stream",
     "text": [
      "['07:08:11', [('0', 11)]]\n"
     ]
    },
    {
     "name": "stderr",
     "output_type": "stream",
     "text": [
      "https://stream.twitter.com/1.1/statuses/filter.json?track=Trump <Response [200]>\n",
      "['rt', 'caslernoel', 'the', 'fact', 'that', 'harold', 'bornstein', 'was', 'trump’s', 'physician', 'dr', 'feelgood', 'since', 'the', '80’s', 'had', 'been', 'sued', 'for', 'overprescribing', 'had', 'h…'] 0\n",
      "['rt', 'therickwilson', 'at', 'least', 'bannon', 'can', 'count', 'on', 'trump', 'to', 'pardon', 'him', 'for\\n\\nohwait'] 0\n",
      "['rt', 'leandroruschel', 'volto', 'a', 'afirmar', 'esse', 'é', 'o', 'maior', 'escândalo', 'político', 'da', 'história', 'americana', 'deep', 'state', 'em', 'conluio', 'com', 'o', 'partido', 'democrat…'] 0\n",
      "['well', 'now', '⬇️'] 0\n",
      "['adeptstack', 'super7664', 'goebiwonkinobie', '53mattyice', 'reutersfacts', 'oh', 'wow', 'thanks', 'reuter', 'i’m', 'glad', 'they', 'put', 'context', 'i…', 'httpstco0zqjeefk76'] 1\n",
      "['rt', 'huffpostpol', 'the', 'president', 'was', 'totally', 'fine', 'with', 'a', 'mob', 'wanting', 'to', 'kill', 'his', 'vice', 'president', 'according', 'to', 'a', 'newly', 'released', 'interview', 'htt…'] 0\n",
      "['rt', 'rawstory', 'trumps', 'admission', 'about', 'pence', 'hanging', 'should', 'be', 'the', 'basis', 'for', 'a', '', 'criminal', 'charge', 'cnn', 'analyst', 'httpstco9ebq03b3fg'] 1\n",
      "['lacadri34', 'hes', 'ruled', 'against', 'trump', 'a', 'couple', 'of', 'times', 'though', '', 'also', 'has', 'allowed', 'the', 'dominion', 'defamation', 'suits', 'again…', 'httpstcoyliq4ieqox'] 1\n",
      "['rt', 'sethabramson', '🔒', 'could', 'there', 'be', 'a', 'better', 'day', 'to', 'republish', 'this', 'list', 'of', 'misconduct', 'by', 'trump', 'aides', 'allies', 'advisers', 'agents', 'attorney…'] 0\n",
      "['lispower1', 'reporters', 'and', 'anchors', 'on', 'fox', 'news', 'are', 'not', 'allowed', 'to', 'say', 'anything', 'negative', 'regarding', 'trump', 'amp', 'republicans'] 1\n",
      "['jojogottagojoe', 'oleoutnow3', 'whitehouse', 'this', 'is', 'just', 'one', 'of', 'many', '', 'let', 'me', 'know', 'if', 'you', 'want', 'me', 'to', 'send', 'you', 'more\\n\\nbt…', 'httpstcoizhixdlm7m'] 0\n",
      "                                                                                \r"
     ]
    },
    {
     "name": "stdout",
     "output_type": "stream",
     "text": [
      "['07:08:16', [('0', 7), ('1', 4)]]\n"
     ]
    },
    {
     "name": "stderr",
     "output_type": "stream",
     "text": [
      "https://stream.twitter.com/1.1/statuses/filter.json?track=Trump <Response [200]>\n",
      "['cant', 'say', 'it', 'anymore', 'clearer', 'or', 'louder'] 0       (7 + 1) / 8]\n",
      "['rt', 'crikeynews', 'the', 'claim', 'that', 'hillsong', 'figure', 'brian', 'houston', 'was', 'invited', 'to', 'the', 'trump', 'white', 'house', 'by', 'scott', 'morrison', 'and', 'was', 'rejected', 'was', 'd…'] 0\n",
      "['bendoverlib', 'tanya07836673', 'berniceking', '😆\\n\\nplease', 'stop', 'with', 'fox', 'oan', 'and', 'newsmax', '\\nthe', 'irony', 'of', 'the', 'trump', 'won', 'cro…', 'httpstcosvlesqtdcb'] 0\n",
      "['graysonmurray', 'f', 'trumpim', 'sure', 'he', 'cheated'] 0\n",
      "['rt', 'limeylankey', 'stevehiltonx', 'theres', 'a', 'pattern', 'here', 'everything', 'the', 'democrats', 'project', 'on', 'trump', 'andor', 'the', 'republicans', 'is', 'in', 'fact', 'what', 't…'] 0\n",
      "['seize', 'dynamic', 'eservices', 'with', 'domains', '\\n💰', 'cats', 'trump', 'buy', 'domain', 'httpstcojvgysbtfah', 'httpstcoukiwnpufkw', 'httpstcom1zdg4wq1a'] 0\n",
      "['when', 'bad', 'things', 'happen', 'to', 'bad', 'people', '👏🏼👏🏼👏🏼👏🏼'] 0\n",
      "['meghanmccain', 'more', 'things', 'to', 'complain', 'gas', 'hikes', 'in', 'previous', 'admins', 'where', 'were', 'you', 'directly', 'blaming', 'a', 'presidential', 'a…', 'httpstcopdc8ebmglb'] 0\n",
      "['christopherhahn', 'markymark757', 'with', 'a', 'trump', 'appointed', 'judge', 'i', 'have', 'a', 'bad', 'feeling', 'about', 'this'] 0\n",
      "['rt', 'aaronparnas', 'breaking', 'trumps', 'theme', 'song', 'plays', 'again', 'in', 'the', 'rittenhouse', 'trial', 'as', 'judge', 'schroeders', 'phone', 'rings'] 0\n",
      "['rt', 'missfit22627816', 'sarkysage', 'morrison', 'is', 'advertising', 'his', 'nationalist', 'ideology', 'to', 'the', 'far', 'right', 'base', 'remember', 'his', 'links', 'to', 'qanon\\nour', 'r…'] 0\n",
      "                                                                                \r"
     ]
    },
    {
     "name": "stdout",
     "output_type": "stream",
     "text": [
      "['07:08:22', [('0', 11)]]\n"
     ]
    },
    {
     "name": "stderr",
     "output_type": "stream",
     "text": [
      "https://stream.twitter.com/1.1/statuses/filter.json?track=Trump <Response [200]>\n",
      "['frisco', 'realtor', 'headed', 'to', 'prison', 'for', 'jan', '6', 'capitol', 'riot', 'sounds', 'off', 'on', 'viral', 'fame', 'trump', 'httpstcoxjcn0qbsat'] 0\n",
      "['rt', 'sethabramson', '🔒', 'icymi', 'if', 'you', 'know', 'who', 'steve', 'bannons', 'lawyer', 'is', 'you', 'understand', 'how', 'closely', 'trump', 'is', 'linked', 'to', 'the', 'coverup', 'of', 'his', 'o…'] 0\n",
      "['rt', 'oxxrowanxxo', 'i', 'remember', 'when', 'making', 'threats', 'to', 'a', 'government', 'official', 'meant', 'jail', 'time', 'now', 'people', 'can', 'build', 'gallows', 'at', 'the', 'capital', 'chan…'] 1\n",
      "['rt', 'clairecmc', 'remember', 'that', 'trump', 'shut', 'down', 'executive', 'privilege', 'when', 'it', 'came', 'to', 'the', 'obama', 'presidency', 'biden', 'is', 'only', 'doing', 'exactly', 'what', 'tru…'] 0\n",
      "['ap', 'and', 'politifact', 'can', 'kiss', 'my', 'conservative', 'bottom', '', 'donaldtrump', 'is', 'giant', 'and', 'mega', 'maga', 'supporter', 'chuck', 'norris', 'will…', 'httpstcohxg09a7vaw'] 1\n",
      "['rt', 'calltoactivism', 'just', 'this', '—', 'congressman', 'bennie', 'thompson', 'who', 'chairs', 'the', 'january', '6', 'committee', 'is', 'still', 'considering', 'bringing', 'trump', 'befor…'] 0\n",
      "['chidinwatu', 'jimjordan', 'really', 'interested', 'to', 'know', 'how', 'much', 'of', 'the', 'big', 'lie', 'he', 'knew', 'about', 'beforehand', 'and', 'how', 'much', 'tru…', 'httpstcoxxuyckew3x'] 0\n",
      "['you', 'can’t', 'be', 'serious…'] 0\n",
      "['rt', 'joncoopertweets', 'no', 'more', 'delays', 'the', 'january6thcmte', 'should', 'immediately', 'subpoena', 'donald', 'trump', '\\n\\nraise', 'your', 'hand', 'if', 'you', 'agree', '✋'] 0\n",
      "['rt', 'marshablackburn', 'hunter', 'biden', 'was', 'never', 'investigated', 'because', 'the', 'fbi', 'was', 'too', 'busy', 'framing', 'president', 'trump'] 0\n",
      "['rt', 'travisbhill5', 'bro', 'what', 'is', 'the', 'onion', 'even', 'supposed', 'to', 'do', 'at', 'this', 'point'] 0\n",
      "                                                                                \r"
     ]
    },
    {
     "name": "stdout",
     "output_type": "stream",
     "text": [
      "['07:08:26', [('0', 9), ('1', 2)]]\n"
     ]
    },
    {
     "name": "stderr",
     "output_type": "stream",
     "text": [
      "https://stream.twitter.com/1.1/statuses/filter.json?track=Trump <Response [200]>\n",
      "['rt', 'sethabramson', 'given', 'that', 'the', 'first', 'time', 'steve', 'bannon', 'was', 'indicted', 'during', 'the', 'trump', 'presidency', 'he', 'was', 'found', 'on', 'the', 'yacht', 'of', 'a', 'chinese…'] 0\n",
      "['rt', 'cnn', 'the', 'house', 'select', 'subcommittee', 'on', 'the', 'coronavirus', 'crisis', 'released', 'to', 'cnn', 'new', 'evidence', 'showing', 'how', 'cdc', 'officials', 'were', 'pressured', 'by', 't…'] 0\n",
      "['open', 'smartnews', 'and', 'read', 'trump', 'just', 'handed', '‘more', 'disturbing', 'evidence’', 'to', 'riot', 'committee', 'in', 'interview', 'with', 'abc’s', 'kar…', 'httpstcozlrfisftjz'] 0\n",
      "['rt', 'anacabrera', 'breaking', 'federal', 'grand', 'jury', 'has', 'indicted', 'former', 'trump', 'adviser', 'steve', 'bannon', 'httpstco9cfpqqzutc'] 0\n",
      "['rt', 'huffpostpol', 'brad', 'rukstales', 'who', 'gave', '25000', 'to', 'trumps', 'campaign', 'and', 'gop', 'committees', 'in', '2020', 'said', 'he', 'allowed', '“emotions', 'to', 'get', 'the', 'bett…'] 0\n",
      "['rt', 'caslernoel', '‘new', 'book', 'reveals', 'stephen', 'miller', 'slept', 'in', 'a', 'footlocker', 'at', 'the', 'base', 'of', 'trump’s', 'bed', 'sometimes', 'up', 'late', 'on', 'adderall', 'rails', 'do…'] 0\n",
      "['rt', 'muellershewrote', 'i’m', 'feeling', 'this', 'quote', 'from', 'the', 'sting', 'today', '“just', 'don’t', 'want', 'a', 'hothead', 'looking', 'to', 'get', 'even', 'coming', 'back', 'halfway', 'throug…'] 0\n",
      "['rt', 'joncoopertweets', 'who', 'else', 'thinks', 'merrick', 'garland', 'needs', 'to', 'be', 'tougher', 'on', 'trumps', 'goons', 'when', 'they', 'ignore', 'subpoenas', '✋'] 0\n",
      "['rt', 'ericgarland', 'well', 'well', '', 'somebody', 'who', 'used', 'their', 'security', 'clearance', 'in', 'an', 'attempted', 'coup', 'détat', 'that', 'is', 'very', 'bad', '😠😈⚖️'] 0\n",
      "['rt', 'jmeanypants', 'trump', 'has', 'used', 'the', 'legal', 'system', 'as', 'a', 'weapon', 'his', 'whole', 'life', 'he', 'uses', 'it', 'to', 'stall', 'make', 'people', 'run', 'out', 'of', 'money', 'time', 'and', 'p…'] 1\n",
      "['rt', 'woodruffbets', 'bannons', 'case', 'is', 'assigned', 'to', 'judge', 'carl', 'j', 'nichols', 'a', 'trump', 'appointee', 'he', 'clerked', 'for', 'clarence', 'thomas', '\\n\\nhttpstcok7f6…'] 0\n",
      "                                                                                \r"
     ]
    },
    {
     "name": "stdout",
     "output_type": "stream",
     "text": [
      "['07:08:31', [('0', 10), ('1', 1)]]\n"
     ]
    },
    {
     "name": "stderr",
     "output_type": "stream",
     "text": [
      "https://stream.twitter.com/1.1/statuses/filter.json?track=Trump <Response [420]>\n"
     ]
    },
    {
     "name": "stdout",
     "output_type": "stream",
     "text": [
      "['07:08:35', []]\n"
     ]
    },
    {
     "name": "stderr",
     "output_type": "stream",
     "text": [
      "https://stream.twitter.com/1.1/statuses/filter.json?track=Trump <Response [420]>\n"
     ]
    },
    {
     "name": "stdout",
     "output_type": "stream",
     "text": [
      "['07:08:40', []]\n"
     ]
    },
    {
     "name": "stderr",
     "output_type": "stream",
     "text": [
      "https://stream.twitter.com/1.1/statuses/filter.json?track=Trump <Response [420]>\n"
     ]
    },
    {
     "name": "stdout",
     "output_type": "stream",
     "text": [
      "['07:08:45', []]\n"
     ]
    },
    {
     "name": "stderr",
     "output_type": "stream",
     "text": [
      "https://stream.twitter.com/1.1/statuses/filter.json?track=Trump <Response [420]>\n"
     ]
    },
    {
     "name": "stdout",
     "output_type": "stream",
     "text": [
      "['07:08:50', []]\n"
     ]
    },
    {
     "name": "stderr",
     "output_type": "stream",
     "text": [
      "https://stream.twitter.com/1.1/statuses/filter.json?track=Trump <Response [420]>\n"
     ]
    },
    {
     "name": "stdout",
     "output_type": "stream",
     "text": [
      "['07:08:55', []]\n"
     ]
    },
    {
     "name": "stderr",
     "output_type": "stream",
     "text": [
      "https://stream.twitter.com/1.1/statuses/filter.json?track=Trump <Response [420]>\n"
     ]
    },
    {
     "name": "stdout",
     "output_type": "stream",
     "text": [
      "['07:09:00', []]\n"
     ]
    },
    {
     "name": "stderr",
     "output_type": "stream",
     "text": [
      "https://stream.twitter.com/1.1/statuses/filter.json?track=Trump <Response [200]>\n",
      "['as', 'someone', 'else', 'pointed', 'out\\nok', 'he', 'clerked', 'for', 'clarence', 'thomas', '', 'whose', 'wife', 'helped', 'organise', 'buses', 'to', 'ship', 'peopl…', 'httpstcobomtror28t'] 0\n",
      "['rt', 'darshunkendrick', 'good', 'morning', 'to', 'everyone', 'except', 'the', 'federal', 'judge', 'blocking', 'trumps', 'insurrection', 'calls', 'the', 'defendants', 'attorney', 'in', 'arb…'] 1\n",
      "['rt', 'ramcnn', 'trump', 'scores', 'two', 'legal', 'wins', 'after', 'summer', 'zervos', 'drops', 'lawsuit', 'and', 'michael', 'cohens', 'suit', 'against', 'trump', 'org', 'dismissed\\nhttpstc…'] 0\n",
      "['ms', 'zervos', 'stands', 'by', 'the', 'allegations', 'in', 'her', 'complaint', 'and', 'has', 'accepted', 'no', 'compensation', 'zervos', 'attorneys', 'stated'] 0\n",
      "['rt', 'deefonta', '👏👏👏👏👏👏🙌🤘🇺🇸', 'a', 'good', 'day', 'for', 'our', 'democracy', 'and', 'just', 'the', 'beginning', 'all', 'traitors', 'need', 'to', 'be', 'indicted', 'every', 'single', 'one', 'httpst…'] 0\n",
      "['maddow', 'blog', '', 'mcconnell', 'slays', 'irony', 'urges', 'dems', 'to', 'leave', 'supreme', 'court', 'alone', 'httpstco7varfggmlw', 'and', 'should', 'the…', 'httpstco25lmc97zgb'] 0\n",
      "['rt', 'sirajahashmi', 'habibis', 'it’s', 'happening'] 0\n",
      "['rt', 'ericgarland', 'well', 'well', '', 'somebody', 'who', 'used', 'their', 'security', 'clearance', 'in', 'an', 'attempted', 'coup', 'détat', 'that', 'is', 'very', 'bad', '😠😈⚖️'] 0\n",
      "['rt', 'joncoopertweets', 'who', 'else', 'thinks', 'merrick', 'garland', 'needs', 'to', 'be', 'tougher', 'on', 'trumps', 'goons', 'when', 'they', 'ignore', 'subpoenas', '✋'] 0\n",
      "['rt', 'woodruffbets', 'bannons', 'case', 'is', 'assigned', 'to', 'judge', 'carl', 'j', 'nichols', 'a', 'trump', 'appointee', 'he', 'clerked', 'for', 'clarence', 'thomas', '\\n\\nhttpstcok7f6…'] 0\n",
      "['rt', 'nycjim', 'former', 'cdc', 'official', 'nancy', 'messonnier', 'dr', 'deborah', 'birx', 'and', 'others', 'detail', 'political', 'interference', 'by', 'the', 'trump', 'white', 'house', 'in', '202…'] 0\n",
      "                                                                                \r"
     ]
    },
    {
     "name": "stdout",
     "output_type": "stream",
     "text": [
      "['07:09:05', [('0', 10), ('1', 1)]]\n"
     ]
    },
    {
     "name": "stderr",
     "output_type": "stream",
     "text": [
      "https://stream.twitter.com/1.1/statuses/filter.json?track=Trump <Response [200]>\n",
      "['rt', 'aaronparnas', 'now', 'that', 'bannon', 'has', 'been', 'indicted', 'let', 'me', 'breakdown', 'what', 'this', 'means', 'for', 'him', 'and', 'other', 'trump', 'associates', 'as', 'well', 'as', 'next', 'st…'] 0\n",
      "['steve', 'bannon', 'indicted', 'httpstcoba2zq6d11s'] 0\n",
      "['rt', 'doomsdayscw', 'president', 'bannon', 'admits', 'trumps', 'cabinet', 'nominees', 'were', 'selected', 'to', 'destroy', 'their', 'agencies', 'httpstcovcwoit1zni'] 0\n",
      "['washingtonadam7', 'madandmatt', 'jennaellisesq', 'labor', 'participation', 'rates', 'are', 'skewed', 'due', 'to', 'the', 'pandemic', 'as', 'is', 'gdp', 'grow…', 'httpstcozldv4fe0jo'] 0\n",
      "['rt', 'ramcnn', 'trump', 'scores', 'two', 'legal', 'wins', 'after', 'summer', 'zervos', 'drops', 'lawsuit', 'and', 'michael', 'cohens', 'suit', 'against', 'trump', 'org', 'dismissed\\nhttpstc…'] 0\n",
      "['ctstormy', 'joycewhitevance', 'httpstcollc5mzuyjj'] 0\n",
      "['rt', 'mehdirhasan', 'sorry', 'chris', 'christie', 'i', 'for', 'one', 'am', 'not', 'going', 'to', 'just', 'sit', 'back', 'and', 'let', 'you', 'go', 'on', 'some', 'sort', 'of', 'rehabilitation', 'tour', 'while', 'pic…'] 0\n",
      "['rt', 'ryanjreilly', 'a', 'defense', 'department', 'contractor', 'with', 'a', 'secret', 'security', 'clearance', 'charged', 'in', 'connection', 'with', 'jan', '6', 'used', 'his', 'work', 'computer…'] 0\n",
      "['rt', 'caslernoel', 'the', 'fact', 'that', 'harold', 'bornstein', 'was', 'trump’s', 'physician', 'dr', 'feelgood', 'since', 'the', '80’s', 'had', 'been', 'sued', 'for', 'overprescribing', 'had', 'h…'] 0\n",
      "['rt', 'clairecmc', 'remember', 'that', 'trump', 'shut', 'down', 'executive', 'privilege', 'when', 'it', 'came', 'to', 'the', 'obama', 'presidency', 'biden', 'is', 'only', 'doing', 'exactly', 'what', 'tru…'] 0\n",
      "['rt', 'sethn12', 'yes', 'it', 'is', '‘common', 'sense’', 'to', 'support', 'public', 'hanging', 'of', 'your', 'coworker', '\\n', 'if', 'you’re', 'a', 'psychopath', '', 'httpstcos3ub0ydqt9'] 1\n",
      "                                                                                \r"
     ]
    },
    {
     "name": "stdout",
     "output_type": "stream",
     "text": [
      "['07:09:11', [('0', 10), ('1', 1)]]\n"
     ]
    },
    {
     "name": "stderr",
     "output_type": "stream",
     "text": [
      "https://stream.twitter.com/1.1/statuses/filter.json?track=Trump <Response [200]>\n",
      "['rt', 'palmerreport', 'merrick', 'garland’s', 'doj', 'has', 'criminally', 'indicted', 'steve', 'bannon', 'for', 'contempt', 'bannon', 'is', 'surrendering', 'this', 'was', 'always', 'going', 'to…'] 0\n",
      "['jennietetreault', 'trinitymustache', 'thats', 'not', 'theory', 'thats', 'fact', 'just', 'like', 'the', 'fact', 'that', 'donald', 'trump', 'was', 'elected…', 'httpstcobhoke8w1yo'] 0\n",
      "['cernovich', 'the', 'democrats', 'fear', 'trump', 'they', 'don’t', 'fear', 'the', 'next', 'generation', 'stop', 'embarrassing', 'yourself'] 0\n",
      "['rt', 'mattgaetz', 'the', 'fbi', 'is', 'the', 'enforcement', 'arm', 'of', 'the', 'mainstream', 'media'] 0\n",
      "['rt', 'davidnir', 'heres', 'a', 'good', 'test', 'of', 'whether', 'trump', 'can', 'still', 'exert', 'executive', 'privilege', 'he', 'should', 'pardon', 'steve', 'bannon', 'right', 'now', 'and', 'see', 'how…'] 0\n",
      "['rt', 'cherijacobus', 'if', 'garland', 'isnt', 'prosecuting', 'trump', 'and', 'his', 'thugs', 'out', 'of', 'fear', 'of', 'backlash', 'then', 'we', 'need', 'to', 'make', 'sure', 'he', 'understand', 'the', 'le…'] 0\n",
      "['rt', 'travisbhill5', 'bro', 'what', 'is', 'the', 'onion', 'even', 'supposed', 'to', 'do', 'at', 'this', 'point'] 0\n",
      "['rt', 'sethabramson', 'given', 'that', 'the', 'first', 'time', 'steve', 'bannon', 'was', 'indicted', 'during', 'the', 'trump', 'presidency', 'he', 'was', 'found', 'on', 'the', 'yacht', 'of', 'a', 'chinese…'] 0\n",
      "['rt', 'sethabramson', 'given', 'that', 'the', 'first', 'time', 'steve', 'bannon', 'was', 'indicted', 'during', 'the', 'trump', 'presidency', 'he', 'was', 'found', 'on', 'the', 'yacht', 'of', 'a', 'chinese…'] 0\n",
      "['rt', 'tribelaw', 'doj', 'is', 'rightly', 'saying', 'executive', 'privilege', 'belongs', 'not', 'to', 'any', 'individual', 'but', 'to', 'the', 'executive', 'branch', 'of', 'which', 'the', 'one', 'and', 'onl…'] 0\n",
      "['rt', 'anacabrera', 'breaking', 'federal', 'grand', 'jury', 'has', 'indicted', 'former', 'trump', 'adviser', 'steve', 'bannon', 'httpstco9cfpqqzutc'] 0\n",
      "                                                                                \r"
     ]
    },
    {
     "name": "stdout",
     "output_type": "stream",
     "text": [
      "['07:09:16', [('0', 11)]]\n"
     ]
    },
    {
     "name": "stderr",
     "output_type": "stream",
     "text": [
      "https://stream.twitter.com/1.1/statuses/filter.json?track=Trump <Response [200]>\n",
      "['rt', 'richardgrenell', 'and', 'a', 'biden', 'appointee', 'at', 'doj', 'is', 'pushing', 'this…did', 'you', 'tweet', 'about', 'the', 'biden', 'appointee\\n\\nand', 'why', 'do', 'you', 'keep', 'protectin…'] 0\n",
      "['every', 'single', 'gop', 'member', 'of', 'congress', 'will', 'forever', 'be', 'stained', 'by', 'their', 'complacency', 'or', 'participation', 'in', 'domestic', 'terro…', 'httpstcoqet7npzlcp'] 0\n",
      "['rt', 'stephenking', 'trump', 'is', 'never', 'going', 'to', 'jail', 'he', 'deserves', 'to', 'but', 'he’s', 'rich', 'and', 'powerful', 'instead', 'of', 'poor', 'and', 'black', 'welcome', 'to', 'america'] 0\n",
      "['rt', 'repraskin', 'the', 'grand', 'jury', 'indictment', 'of', 'steve', 'bannon', 'shows', 'that', 'even', 'the', 'insurrectionist', 'allies', 'of', 'donald', 'trump', 'are', 'not', 'above', 'the', 'law', 'a…'] 0\n",
      "['reaganbattalion', 'i', 'appreciate', 'the', 'sentiment', 'but', 'i', 'fail', 'to', 'see', 'how', 'your', 'party', 'avoids', 'getting', 'trump', 'back', 'in', '2024', 'an…', 'httpstcosk1dpaubz9'] 0\n",
      "['rt', 'trueblueliberal', 'its', 'a', 'good', 'thing', 'for', 'theformerguy', 'that', 'the', 'loganact', 'doesnt', 'apply', 'to', 'him', 'just', 'as', 'no', 'other', 'state', 'local', 'federal', 'o…'] 0\n",
      "['rt', 'germain6', 'the', 'biden', 'white', 'house', 'mocked', 'trumps', 'claim', 'to', 'have', 'an', 'envoy', 'ambassador', 'making', 'foreign', 'visits', 'for', 'him', 'httpstcoyq3kgixfzw'] 0\n",
      "['benjidover779', 'dasfx888', 'jpainting77', 'mattgaetz', 'but', 'you', 'dont', 'think', 'president', 'trump', 'should', 'be', 'protected', 'by', 'executi…', 'httpstcofnrl9qhrxv'] 0\n",
      "['rt', 'pacificaziz', 'ajenglish', 'while', 'in', 'kenya', 'i', 'used', 'to', 'criticize', 'my', 'president', 'kenyatta', 'and', 'did', 'the', 'same', 'here', 'in', 'the', 'us', 'to', 'donald', 'trump', 'bc', 'b…'] 1\n",
      "['rt', 'sethabramson', 'given', 'that', 'the', 'first', 'time', 'steve', 'bannon', 'was', 'indicted', 'during', 'the', 'trump', 'presidency', 'he', 'was', 'found', 'on', 'the', 'yacht', 'of', 'a', 'chinese…'] 0\n",
      "['rt', 'sethabramson', '🔒', 'could', 'there', 'be', 'a', 'better', 'day', 'to', 'republish', 'this', 'list', 'of', 'misconduct', 'by', 'trump', 'aides', 'allies', 'advisers', 'agents', 'attorney…'] 0\n",
      "                                                                                \r"
     ]
    },
    {
     "name": "stdout",
     "output_type": "stream",
     "text": [
      "['07:09:21', [('0', 10), ('1', 1)]]\n"
     ]
    },
    {
     "name": "stderr",
     "output_type": "stream",
     "text": [
      "https://stream.twitter.com/1.1/statuses/filter.json?track=Trump <Response [200]>\n",
      "['rt', 'sayitnspinit', 'president', 'trump', 'warned', 'you', 'what', 'would', 'happen', 'with', 'biden', 'as', 'president'] 0\n",
      "['rt', 'tribelaw', 'exactly', 'your', 'turn', 'to', 'do', 'what’s', 'right', 'mr', 'attorney', 'general', '\\n\\nno', 'executive', 'privilege', 'excuses', 'further', 'delay'] 0\n",
      "['at', 'last❗🗽👏🏾👏🏻👏🏽👏🏻👏🏾👏🏼\\nnd', 'sd', 'tn', 'tx', 'ut', 'vt', 'va', 'wa', 'wv', 'wi', 'wy', 'pa', 'ga', 'or', 'fl', 'ky', 'ne', 'ny', 'nc', 'sc', 'nm', 'nj', 'ma…', 'httpstcooq8z9kvmqw'] 0\n",
      "['butterfly5069', 'donaldjtrumpjr', 'this', 'story', 'is', 'so', 'wrong', 'trump', 'said', 'and', 'did', 'get', 'our', 'reserves', 'filled', 'to', 'be', 'used', 'in', 'di…', 'httpstcorvvmlwzyrs'] 0\n",
      "['rt', 'sethn12', 'yes', 'it', 'is', '‘common', 'sense’', 'to', 'support', 'public', 'hanging', 'of', 'your', 'coworker', '\\n', 'if', 'you’re', 'a', 'psychopath', '', 'httpstcos3ub0ydqt9'] 1\n",
      "['rt', 'snowconenicoley', 'steveschmidtses', 'costareports', 'realbobwoodward', 'projectlincoln', 'mr', 'schmidt', 'you', 'are', 'on', 'the', 'right', 'side', 'of', 'history', 'peop…'] 0\n",
      "['rt', 'joshtpm', 'when', 'youre', 'putting', 'in', 'context', 'the', 'presidents', 'discussions', 'about', 'hanging', 'the', 'vice', 'president'] 0\n",
      "['rt', 'tribelaw', '“in', 'the', 'real', 'world', 'the', 'claim', 'that', 'hes', 'acting', 'to', 'protect', 'future', 'occupants', 'of', 'the', 'oval', 'office', 'is', 'undermined', 'by', 'his', 'wrecking', 'b…'] 1\n",
      "['rt', 'gugachacra', 'em', 'reportagem', 'na', 'capa', 'e', 'mais', 'uma', 'página', 'inteira', 'na', 'parte', 'interna', 'da', 'edição', 'impressa', 'do', 'jornal', 'o', 'nytimes', 'informa', 'que', 'aliado…'] 0\n",
      "['thejusticedept', 'after', 'listening', 'to', 'the', 'recording', 'of', 'trump', 'defending', 'the', 'insurrectionist', 'of', 'january', '6th', 'chanting', 'han…', 'httpstco9emrvysnl2'] 0\n",
      "['rt', 'sethabramson', '🔒', 'icymi', 'if', 'you', 'know', 'who', 'steve', 'bannons', 'lawyer', 'is', 'you', 'understand', 'how', 'closely', 'trump', 'is', 'linked', 'to', 'the', 'coverup', 'of', 'his', 'o…'] 0\n",
      "                                                                                \r"
     ]
    },
    {
     "name": "stdout",
     "output_type": "stream",
     "text": [
      "['07:09:25', [('0', 9), ('1', 2)]]\n"
     ]
    },
    {
     "name": "stderr",
     "output_type": "stream",
     "text": [
      "https://stream.twitter.com/1.1/statuses/filter.json?track=Trump <Response [200]>\n",
      "['rt', 'cortessteve', 'a', 'new', 'rising', 'star', 'of', 'the', 'america', 'first', 'movement', 'john', 'gibbs', 'announces', 'his', 'candidacy', 'to', 'replace', 'trumpimpeacher', 'rep', 'pete', 'm…'] 1\n",
      "['rt', 'kimpossiblefact', 'this', 'is', 'just', 'the', '2021', 'equivalent', 'of', 'him', 'petting', 'trump’s', 'hair'] 0\n",
      "['how', 'is', 'it', 'that', 'bannons', 'running', 'his', 'tv', 'show', 'it', 'runs', '56', 'est', 'daily', 'at', 'this', 'very', 'moment', 'if', 'he', 'is', 'under', 'arrest', '', 'jus…', 'httpstco64yyqifxoa'] 1\n",
      "['rt', 'travisbhill5', 'bro', 'what', 'is', 'the', 'onion', 'even', 'supposed', 'to', 'do', 'at', 'this', 'point'] 0\n",
      "['rt', 'thereidout', 'breaking', 'former', 'trump', 'adviser', 'steve', 'bannon', 'indicted', 'by', 'federal', 'grand', 'jury', 'for', 'contempt', 'of', 'congress\\n\\nhttpstcojdfgjmk…'] 0\n",
      "['rt', 'walshfreedom', 'don’t', 'mean', 'to', 'be', 'a', 'downer', 'on', 'this', 'bannon', 'indictment', 'but', 'it', 'could', 'be', 'a', 'long', 'time', 'before', 'he’s', 'ever', 'in', 'front', 'of', 'a', 'judge', 'amp', 'j…'] 0\n",
      "['rt', 'truefactsstated', 'how', 'much', 'you', 'wanna', 'bet', 'trump', 'will', 'try', 'to', 'pardon', 'bannon', 'again', 'even', 'though', 'he’s', 'not', 'president'] 0\n",
      "['rt', 'notatweeter16', 'therickwilson', 'when', 'bannon', 'uses', 'his', 'one', 'phone', 'call', 'to', 'hit', 'up', 'trump', 'for', 'bail', 'money', 'httpstcoqi1ezmajjy'] 0\n",
      "['rt', 'woodruffbets', 'bannons', 'case', 'is', 'assigned', 'to', 'judge', 'carl', 'j', 'nichols', 'a', 'trump', 'appointee', 'he', 'clerked', 'for', 'clarence', 'thomas', '\\n\\nhttpstcok7f6…'] 0\n",
      "['rt', 'steveschmidtses', 'you', 'are', 'extremely', 'dishonest', 'more', 'than', '80', 'percent', 'of', 'monies', 'raised', 'by', 'the', 'lincoln', 'project', 'went', 'to', 'spending', 'on', 'voter', 'co…'] 0\n",
      "['rt', 'saysdana', 'thank', 'you', 'for', 'this', '', '\\ni', 'knew', 'it', 'would', 'happen', '', '\\nglass', 'half', 'full', 'people\\n\\n👏🏻👏🏻'] 1\n",
      "                                                                                \r"
     ]
    },
    {
     "name": "stdout",
     "output_type": "stream",
     "text": [
      "['07:09:31', [('1', 3), ('0', 8)]]\n"
     ]
    },
    {
     "name": "stderr",
     "output_type": "stream",
     "text": [
      "https://stream.twitter.com/1.1/statuses/filter.json?track=Trump <Response [420]>\n"
     ]
    },
    {
     "name": "stdout",
     "output_type": "stream",
     "text": [
      "['07:09:35', []]\n"
     ]
    },
    {
     "name": "stderr",
     "output_type": "stream",
     "text": [
      "https://stream.twitter.com/1.1/statuses/filter.json?track=Trump <Response [420]>\n"
     ]
    },
    {
     "name": "stdout",
     "output_type": "stream",
     "text": [
      "['07:09:40', []]\n"
     ]
    },
    {
     "name": "stderr",
     "output_type": "stream",
     "text": [
      "https://stream.twitter.com/1.1/statuses/filter.json?track=Trump <Response [420]>\n"
     ]
    },
    {
     "name": "stdout",
     "output_type": "stream",
     "text": [
      "['07:09:45', []]\n"
     ]
    },
    {
     "name": "stderr",
     "output_type": "stream",
     "text": [
      "https://stream.twitter.com/1.1/statuses/filter.json?track=Trump <Response [420]>\n"
     ]
    },
    {
     "name": "stdout",
     "output_type": "stream",
     "text": [
      "['07:09:50', []]\n"
     ]
    },
    {
     "name": "stderr",
     "output_type": "stream",
     "text": [
      "https://stream.twitter.com/1.1/statuses/filter.json?track=Trump <Response [420]>\n"
     ]
    },
    {
     "name": "stdout",
     "output_type": "stream",
     "text": [
      "['07:09:55', []]\n"
     ]
    },
    {
     "name": "stderr",
     "output_type": "stream",
     "text": [
      "https://stream.twitter.com/1.1/statuses/filter.json?track=Trump <Response [420]>\n"
     ]
    },
    {
     "name": "stdout",
     "output_type": "stream",
     "text": [
      "['07:10:00', []]\n"
     ]
    },
    {
     "name": "stderr",
     "output_type": "stream",
     "text": [
      "https://stream.twitter.com/1.1/statuses/filter.json?track=Trump <Response [200]>\n",
      "['icymi\\n\\nsigh'] 0=========================================>       (7 + 1) / 8]\n",
      "['the', 'us', 'department', 'of', 'labor', 'said', 'it', 'was', 'moving', 'to', 'eliminate', 'a', 'trumpera', 'program', 'that', 'allowed', 'businesses', 'and', 'trade…', 'httpstcoq1ajt5ff85'] 1\n",
      "['trumpera', 'battles', 'continue', 'amid', 'state', 'by', 'state', 'assault', 'on', 'civil', 'rights', 'aclu', 'president', 'httpstcogiweiwkj7m'] 0\n",
      "['rt', 'gigicmka', 'paiyslee', 'this', 'is', 'troubling', 'httpstcodisrjui9nj'] 0\n",
      "['rt', 'repraskin', 'the', 'grand', 'jury', 'indictment', 'of', 'steve', 'bannon', 'shows', 'that', 'even', 'the', 'insurrectionist', 'allies', 'of', 'donald', 'trump', 'are', 'not', 'above', 'the', 'law', 'a…'] 0\n",
      "['rt', 'joncoopertweets', 'if', 'you', 'think', 'merrick', 'garland', 'must', 'be', 'tougher', 'on', 'trump', 'and', 'finally', 'hold', 'him', 'accountable', 'retweet', 'this', 'and', 'follow', 'callt…'] 1\n",
      "['rt', 'simmiesaid', 'are', 'those', 'lil', 'wayne’s', 'missing', 'locs'] 0\n",
      "['rt', '4theculture', 'remove', 'the', 'judge', 'immediately'] 0\n",
      "['rt', 'uncvrngthetruth', 'ill', 'ask', 'again', 'why', 'did', 'we', 'petition', 'so', 'hard', 'to', 'ban', 'terroristtrump', 'from', 'twitter', 'only', 'to', 'have', 'every', 'single', 'journalist…'] 0\n",
      "['rt', 'wonkette', 'steve', 'bannon', 'indicted', 'mark', 'meadows', 'flips', 'off', '16', 'committee', 'trump', 'looks', 'headed', 'for', 'brick', 'wall\\nhttpstcos93jcdcp6s', 'by', '5d…'] 0\n",
      "['rt', 'jonkarl', 'trump', 'never', 'condemned', 'those', 'chants', 'of', 'hang', 'mike', 'pence', 'that', 'the', 'world', 'heard', 'on', 'january', '6', '', 'and', 'when', 'i', 'interviewed', 'him', 'for', 'be…'] 1\n",
      "                                                                                \r"
     ]
    },
    {
     "name": "stdout",
     "output_type": "stream",
     "text": [
      "['07:10:06', [('0', 8), ('1', 3)]]\n"
     ]
    },
    {
     "name": "stderr",
     "output_type": "stream",
     "text": [
      "https://stream.twitter.com/1.1/statuses/filter.json?track=Trump <Response [200]>\n",
      "['people', 'really', 'dont', 'understand', 'what', 'couldve', 'been', 'that', 'day', 'in', 'january', 'or', 'whats', 'in', 'store', 'for', 'us', 'in', 'the', 'future', 'i', 'c…', 'httpstcofneovarf3z'] 0\n",
      "['dalexconnect', 'truetrumper', 'the', 'genius', 'of', 'trump', 'calling', 'him', 'sleepy', 'joe', 'is', 'that', 'we', 'all', 'think', 'more', 'like', 'creepy', 'joe'] 0\n",
      "['rt', 'ericgarland', 'well', 'well', '', 'somebody', 'who', 'used', 'their', 'security', 'clearance', 'in', 'an', 'attempted', 'coup', 'détat', 'that', 'is', 'very', 'bad', '😠😈⚖️'] 0\n",
      "['rt', 'kylegriffin1', 'rep', 'jim', 'clyburn', 'on', 'siriusxm', 'how', 'are', 'you', 'going', 'to', 'let', 'this', 'country', 'come', 'down', 'over', 'one', 'guy', 'trump', 'whos', 'mentally', 'challe…'] 0\n",
      "['rt', 'judicialwatch', 'they', 'froze', 'the', 'doj', 'for', 'two', 'years', 'to', 'harass', 'trump', 'based', 'on', 'the', 'steele', 'dossier', 'lie', 'judicial', 'watch', 'president', 'tomfitto…'] 0\n",
      "['rt', 'ap', 'breaking', 'exdonald', 'trump', 'aide', 'steve', 'bannon', 'has', 'been', 'indicted', 'on', 'contempt', 'of', 'congress', 'charges', 'after', 'defying', 'jan', '6', 'committee', 'subpoe…'] 0\n",
      "['rt', 'sethabramson', '🔒', 'icymi', 'if', 'you', 'know', 'who', 'steve', 'bannons', 'lawyer', 'is', 'you', 'understand', 'how', 'closely', 'trump', 'is', 'linked', 'to', 'the', 'coverup', 'of', 'his', 'o…'] 0\n",
      "['rt', 'natashabertrand', 'breaking', 'on', 'cnn', 'trump', 'adviser', 'steve', 'bannon', 'has', 'been', 'indicted', 'by', 'a', 'federal', 'grand', 'jury'] 0\n",
      "['rt', 'sethabramson', 'given', 'that', 'the', 'first', 'time', 'steve', 'bannon', 'was', 'indicted', 'during', 'the', 'trump', 'presidency', 'he', 'was', 'found', 'on', 'the', 'yacht', 'of', 'a', 'chinese…'] 0\n",
      "['rt', 'emptywheel', 'there', 'is', 'abundant', 'reason', 'to', 'believe', 'that', 'trumps', 'pardons', 'were', 'for', 'services', 'rendered', 'stone', 'flynn', 'papadopoulos', 'and', 'manafo…'] 0\n",
      "['rt', 'robreiner', 'if', 'donald', 'trump', 'is', 'not', 'held', 'accountable', 'for', 'the', 'violent', 'attempt', 'to', 'overthrow', 'the', 'united', 'states', 'government', 'and', 'voting', 'rights…'] 0\n",
      "                                                                                \r"
     ]
    },
    {
     "name": "stdout",
     "output_type": "stream",
     "text": [
      "['07:10:12', [('0', 11)]]\n"
     ]
    },
    {
     "name": "stderr",
     "output_type": "stream",
     "text": [
      "https://stream.twitter.com/1.1/statuses/filter.json?track=Trump <Response [200]>\n",
      "['rt', 'ericgarland', 'well', 'well', '', 'somebody', 'who', 'used', 'their', 'security', 'clearance', 'in', 'an', 'attempted', 'coup', 'détat', 'that', 'is', 'very', 'bad', '😠😈⚖️'] 0\n",
      "['scottmgreer', 'this', 'is', 'unfair', 'that’s', 'what', 'every', 'politician', 'said', 'at', 'the', 'time', 'trump’s', 'statement', 'was', 'similar'] 1\n",
      "['rt', 'politicussarah', 'why', 'must', 'our', 'media', 'be', 'like', 'this', 'the', 'president', 'of', 'the', 'united', 'states', 'doesn’t', 'bother', 'himself', 'with', 'the', 'crude', 'rantings', 'of', 't…'] 0\n",
      "['rt', 'cernovich', 'trump', 'was', 'too', 'much', 'of', 'a', 'coward', 'to', 'preemptively', 'pardon', 'his', 'supporters', 'which', 'he', 'clearly', 'should', 'have', 'done', '\\n\\nif', 'only', 'trump', 'wer…'] 1\n",
      "['ciaspygirl', 'i', 'cant', 'wait', 'for', 'the', 'house', 'select', 'committee', 'to', 'subpoena', 'trump'] 0\n",
      "['rt', 'donwinslow', 'please', 'understand', 'that', 'steve', 'bannons', 'indictment', 'only', 'begins', 'a', 'legal', 'process\\n\\neven', 'when', 'arrested', 'he', 'will', 'likely', 'be', 'immedia…'] 0\n",
      "['rt', 'reportsdanews', 'breaking', 'trump', 'defends', 'calls', 'to', '“hang', 'mike', 'pence”\\n\\nsays', 'it’s', 'common', 'sense\\n\\nwow'] 0\n",
      "['rt', 'tribelaw', 'doj', 'is', 'rightly', 'saying', 'executive', 'privilege', 'belongs', 'not', 'to', 'any', 'individual', 'but', 'to', 'the', 'executive', 'branch', 'of', 'which', 'the', 'one', 'and', 'onl…'] 0\n",
      "['rt', 'sarahkendzior', 'old', 'thread', 'on', 'lax', 'consequences', 'for', 'members', 'of', 'the', 'trump', 'crime', 'cult', 'following', 'indictments', 'for', 'those', 'who', 'have', 'the', 'memory…'] 0\n",
      "['rt', 'kazweida', 'paul', 'gosar’s', 'family', 'reminds', 'us', 'that', 'they’ve', 'been', 'trying', 'to', 'tell', 'us', 'who', 'he', 'is', 'this', 'whole', 'time\\n\\nhttpstcon3uxn2f5br'] 1\n",
      "['rt', 'handsomehotep', 'if', 'trump', 'would’ve', 'said', 'negro', 'it', 'would’ve', 'been', 'first', 'page', 'news', 'everywhere', '\\n\\nthe', 'political', 'bias', 'of', 'you', 'people', 'sickens', 'me'] 1\n",
      "                                                                                \r"
     ]
    },
    {
     "name": "stdout",
     "output_type": "stream",
     "text": [
      "['07:10:16', [('0', 7), ('1', 4)]]\n"
     ]
    },
    {
     "name": "stderr",
     "output_type": "stream",
     "text": [
      "https://stream.twitter.com/1.1/statuses/filter.json?track=Trump <Response [200]>\n",
      "['wmccallit', 'httpstco0zyvhfhlls'] 0=======================>       (7 + 1) / 8]\n",
      "['rt', 'woodruffbets', 'bannons', 'case', 'is', 'assigned', 'to', 'judge', 'carl', 'j', 'nichols', 'a', 'trump', 'appointee', 'he', 'clerked', 'for', 'clarence', 'thomas', '\\n\\nhttpstcok7f6…'] 0\n",
      "['weak'] 0\n",
      "['rt', 'mayoisspicyy', 'donald', 'trump', 'is', 'a', 'domestic', 'terrorist', 'that', 'tried', 'to', 'have', 'the', 'vice', 'president', 'of', 'the', 'united', 'states', 'assassinated'] 0\n",
      "['rt', 'therickwilson', 'at', 'least', 'bannon', 'can', 'count', 'on', 'trump', 'to', 'pardon', 'him', 'for\\n\\nohwait'] 0\n",
      "['thehill', 'trump', 'waged', 'a', 'war', 'of', 'genocide', 'on', 'his', 'own', 'people\\n\\nhe', 'should', 'be', 'held', 'criminally', 'liable', 'for', 'hundreds', 'of', 'thou…', 'httpstcooouhebcezt'] 0\n",
      "['it’s', 'gonna', 'be', 'really', 'interesting', 'to', 'see', 'how', 'many', 'of', 'these', 'trump', 'aides', 'are', 'willing', 'to', 'go', 'to', 'jail', 'for', 'him'] 0\n",
      "['rt', 'zekejmiller', 'washington', 'ap', '—', 'extrump', 'aide', 'steve', 'bannon', 'indicted', 'on', 'contempt', 'of', 'congress', 'charges', 'after', 'defying', 'jan', '6', 'committee', 'subpo…'] 0\n",
      "['rt', 'sethabramson', 'given', 'that', 'the', 'first', 'time', 'steve', 'bannon', 'was', 'indicted', 'during', 'the', 'trump', 'presidency', 'he', 'was', 'found', 'on', 'the', 'yacht', 'of', 'a', 'chinese…'] 0\n",
      "['rt', 'travisbhill5', 'bro', 'what', 'is', 'the', 'onion', 'even', 'supposed', 'to', 'do', 'at', 'this', 'point'] 0\n",
      "['2nd', 'contemptofcongress', 'indictment', 'coming', 'up'] 0\n",
      "                                                                                \r"
     ]
    },
    {
     "name": "stdout",
     "output_type": "stream",
     "text": [
      "['07:10:21', [('0', 11)]]\n"
     ]
    },
    {
     "name": "stderr",
     "output_type": "stream",
     "text": [
      "https://stream.twitter.com/1.1/statuses/filter.json?track=Trump <Response [200]>\n",
      "['rt', 'joycewhitevance', 'one', 'take', 'on', 'this', 'the', 'committee', 'is', 'amping', 'up', 'pressure', 'on', 'doj', 'to', 'indict', 'bannon', 'amp', 'incentivize', 'compliance', 'with', 'its', 'subpoe…'] 0\n",
      "['rt', 'cnnbrk', 'trump', 'wont', 'have', 'to', 'sit', 'for', 'a', 'deposition', 'in', 'a', 'defamation', 'lawsuit', 'and', 'michael', 'cohens', '2019', 'lawsuit', 'against', 'the', 'trump', 'org', 'was', 'd…'] 0\n",
      "['rt', 'stephenking', 'trump', 'is', 'never', 'going', 'to', 'jail', 'he', 'deserves', 'to', 'but', 'he’s', 'rich', 'and', 'powerful', 'instead', 'of', 'poor', 'and', 'black', 'welcome', 'to', 'america'] 0\n",
      "['rt', 'ericgarland', 'guys\\n\\nim', 'starting', 'to', 'think', 'trump', 'wont', 'be', 'reinstalled', 'as', 'president', '😂🖕🤣'] 0\n",
      "['rt', 'aaronparnas', 'the', 'best', 'thing', 'about', 'todays', 'news', 'is', 'that', 'donald', 'trump', 'is', 'no', 'longer', 'president', 'and', 'steve', 'bannon', 'cannot', 'be', 'pardoned', 'again'] 1\n",
      "['rt', 'noliewithbtc', 'new', 'trump', 'just', 'released', 'a', 'statement', 'saying', 'he', 'is', 'sending', 'his', 'envoy', 'ambassador', 'ric', 'grenell', 'to', 'conduct', 'a', 'foreign', 'policy…'] 1\n",
      "['rt', 'anacabrera', 'breaking', 'federal', 'grand', 'jury', 'has', 'indicted', 'former', 'trump', 'adviser', 'steve', 'bannon', 'httpstco9cfpqqzutc'] 0\n",
      "['rt', 'sethabramson', '🔒', 'could', 'there', 'be', 'a', 'better', 'day', 'to', 'republish', 'this', 'list', 'of', 'misconduct', 'by', 'trump', 'aides', 'allies', 'advisers', 'agents', 'attorney…'] 0\n",
      "['rt', 'repraskin', 'the', 'grand', 'jury', 'indictment', 'of', 'steve', 'bannon', 'shows', 'that', 'even', 'the', 'insurrectionist', 'allies', 'of', 'donald', 'trump', 'are', 'not', 'above', 'the', 'law', 'a…'] 0\n",
      "['rt', '4theculture', 'remove', 'the', 'judge', 'immediately'] 0\n",
      "['rt', 'visionsurreal', 'piperk', 'capitolhunters', 'repriggleman', 'slickrockweb', 'clearingfog', 'davetroy', 'bonus\\n\\nrhodes', '111020\\n\\nrhodes', 'said', 'trum…'] 1\n",
      "                                                                                \r"
     ]
    },
    {
     "name": "stdout",
     "output_type": "stream",
     "text": [
      "['07:10:26', [('0', 8), ('1', 3)]]\n"
     ]
    },
    {
     "name": "stderr",
     "output_type": "stream",
     "text": [
      "https://stream.twitter.com/1.1/statuses/filter.json?track=Trump <Response [200]>\n",
      "['fpwellman', 'httpstcollc5mzuyjj'] 0=======================>       (7 + 1) / 8]\n",
      "['rt', '4theculture', 'remove', 'the', 'judge', 'immediately'] 0\n",
      "['rt', 'kylegriffin1', 'the', 'white', 'house', 'mocked', 'trump', 'after', 'he', 'said', 'he', 'was', 'sending', 'his', 'envoy', 'ambassador', 'to', 'kosovo\\n\\noutside', 'of', 'his', 'very', 'active…'] 0\n",
      "['rt', 'removeron', 'ron', 'desantis', 'hates', 'this', 'ad', 'donald', 'trump', 'hates', 'this', 'ad', 'so', 'let’s', 'get', '1000', 'fast', 'retweets', 'on', 'it', 'to', 'ruin', 'their', 'day', '', 'httpst…'] 0\n",
      "['rt', 'leahmcelrath', 'steve', 'bannon', 'was', 'previously', 'arrested', 'on', 'the', 'yacht', 'of', 'a', 'chinese', 'billionaire', 'httpstcoendh11jusl', '\\n\\nbut', 'sure', 'give', 'h…'] 0\n",
      "['steve', 'bannon', 'charged', 'for', 'breaking', 'another', 'law', 'only', 'enforced\\nfor', 'trump', 'associates', '', '', '', 'httpstcofflogvaafi'] 0\n",
      "['rt', 'bronxbomber447', 'funder', 'he', 'was', 'just', 'indicted', 'on', '2', 'counts', 'and', 'this', 'just', 'came', 'out', 'httpstcoogsjbmds6w'] 0\n",
      "['steve', 'bannon', 'was', 'just', 'indicted', 'on', 'two', 'counts', 'of', 'contempt', 'of\\ncongress', '', '', '', 'httpstcoivclshbhgw'] 0\n",
      "['rt', 'joncoopertweets', 'if', 'you', 'think', 'merrick', 'garland', 'must', 'be', 'tougher', 'on', 'trump', 'and', 'finally', 'hold', 'him', 'accountable', 'retweet', 'this', 'and', 'follow', 'callt…'] 1\n",
      "['jeffreytoobin', 'i', 'often', 'wonder', 'things', 'to', 'i', 'wonder', 'what', 'morons', 'like', 'you', 'would', 'say', 'if', 'donaldjtrumpjr', 'had', 'done', 'the', 't…', 'httpstco73lzme6dnk'] 1\n",
      "['rt', 'tribelaw', 'it', 'sounds', 'as', 'though', 'trump', 'admits', 'that', 'he', 'spoke', 'to', 'someone', 'familiar', 'with', 'the', 'overall', 'security', 'situation', 'at', 'a', 'pivotal', 'point…'] 0\n",
      "                                                                                \r"
     ]
    },
    {
     "name": "stdout",
     "output_type": "stream",
     "text": [
      "['07:10:31', [('0', 9), ('1', 2)]]\n"
     ]
    },
    {
     "name": "stderr",
     "output_type": "stream",
     "text": [
      "https://stream.twitter.com/1.1/statuses/filter.json?track=Trump <Response [420]>\n"
     ]
    },
    {
     "name": "stdout",
     "output_type": "stream",
     "text": [
      "['07:10:35', []]\n"
     ]
    },
    {
     "name": "stderr",
     "output_type": "stream",
     "text": [
      "https://stream.twitter.com/1.1/statuses/filter.json?track=Trump <Response [420]>\n"
     ]
    },
    {
     "name": "stdout",
     "output_type": "stream",
     "text": [
      "['07:10:40', []]\n"
     ]
    },
    {
     "name": "stderr",
     "output_type": "stream",
     "text": [
      "https://stream.twitter.com/1.1/statuses/filter.json?track=Trump <Response [420]>\n"
     ]
    },
    {
     "name": "stdout",
     "output_type": "stream",
     "text": [
      "['07:10:45', []]\n"
     ]
    },
    {
     "name": "stderr",
     "output_type": "stream",
     "text": [
      "https://stream.twitter.com/1.1/statuses/filter.json?track=Trump <Response [420]>\n"
     ]
    },
    {
     "name": "stdout",
     "output_type": "stream",
     "text": [
      "['07:10:50', []]\n"
     ]
    },
    {
     "name": "stderr",
     "output_type": "stream",
     "text": [
      "https://stream.twitter.com/1.1/statuses/filter.json?track=Trump <Response [420]>\n"
     ]
    },
    {
     "name": "stdout",
     "output_type": "stream",
     "text": [
      "['07:10:55', []]\n"
     ]
    },
    {
     "name": "stderr",
     "output_type": "stream",
     "text": [
      "https://stream.twitter.com/1.1/statuses/filter.json?track=Trump <Response [420]>\n"
     ]
    },
    {
     "name": "stdout",
     "output_type": "stream",
     "text": [
      "['07:11:00', []]\n"
     ]
    },
    {
     "name": "stderr",
     "output_type": "stream",
     "text": [
      "https://stream.twitter.com/1.1/statuses/filter.json?track=Trump <Response [200]>\n",
      "['rt', 'crewcrew', 'breaking', 'news', 'steve', 'bannon', 'indicted', 'and', 'no', 'trump', 'cant', 'give', 'him', 'some', 'kind', 'of', 'double', 'secret', 'pardon', 'httpstcoujzelro8nl'] 0\n",
      "['rt', 'jennycohn1', 'if', 'january6thcmte', 'wants', 'to', 'know', 'about', 'premeditated', 'plans', 'for', 'violence', 'they', 'should', 'speak', 'to', 'frank', 'scavo', 'of', 'old', 'forge', 'pa…'] 0\n",
      "['notmyfirstabort', 'blaktoothgryn', 'that', 'coward', '', 'blaktoothgryn', 'blocked', 'me', '', '', 'they', 'tried', 'to', 'do', 'a', 'tweet', 'n', 'block', '', 'lol…', 'httpstcok1hnnnvdpi'] 0\n",
      "['mayhewmayhem', 'nycsouthpaw', 'let', 'me', 'get', 'going', 'on', 'that', 'novelette', 'about', 'how', 'garland', 'really', 'missed', 'the', 'boat', 'by', 'not', 'arresting', 'trump'] 0\n",
      "['rt', 'leandroruschel', 'volto', 'a', 'afirmar', 'esse', 'é', 'o', 'maior', 'escândalo', 'político', 'da', 'história', 'americana', 'deep', 'state', 'em', 'conluio', 'com', 'o', 'partido', 'democrat…'] 0\n",
      "['rt', 'melissajpeltier', 'not', 'good', '', 'why', 'did', 'summer', 'drop', 'suit', '\\nejeancarroll', ''] 1\n",
      "['rt', 'tribelaw', 'doj', 'is', 'rightly', 'saying', 'executive', 'privilege', 'belongs', 'not', 'to', 'any', 'individual', 'but', 'to', 'the', 'executive', 'branch', 'of', 'which', 'the', 'one', 'and', 'onl…'] 0\n",
      "['rt', 'nealkatyal', 'if', 'we', 'weren’t', 'clear', 'what', 'the', 'doj’s', 'position', 'on', 'executive', 'privilege', 'was', 'we', 'sure', 'are', 'now', 'as', 'predicted', 'they', 'confirmed', 'what…'] 0\n",
      "['rt', 'caioblinder', 'oi', 'gugachacra', 'se', 'eu', 'disser', 'que', 'vamos', 'socializar', 'a', 'conta', 'do', 'restaurante', 'o', 'rconstantino', 'vai', 'nos', 'chamar', 'de', 'comunas', 'globali…'] 0\n",
      "['rt', 'tribelaw', 'doj', 'is', 'rightly', 'saying', 'executive', 'privilege', 'belongs', 'not', 'to', 'any', 'individual', 'but', 'to', 'the', 'executive', 'branch', 'of', 'which', 'the', 'one', 'and', 'onl…'] 0\n",
      "['rt', 'ronfilipkowski', 'talk', 'about', 'killing', 'a', 'vibe'] 0\n",
      "                                                                                \r"
     ]
    },
    {
     "name": "stdout",
     "output_type": "stream",
     "text": [
      "['07:11:06', [('0', 10), ('1', 1)]]\n"
     ]
    },
    {
     "name": "stderr",
     "output_type": "stream",
     "text": [
      "https://stream.twitter.com/1.1/statuses/filter.json?track=Trump <Response [200]>\n",
      "['bannon', 'trump', 'ally', 'criminally', 'charged', 'with', 'snubbing', 'congress', 'httpstcoh3sb2leob7'] 0\n",
      "['rt', 'aaronparnas', 'now', 'that', 'bannon', 'has', 'been', 'indicted', 'let', 'me', 'breakdown', 'what', 'this', 'means', 'for', 'him', 'and', 'other', 'trump', 'associates', 'as', 'well', 'as', 'next', 'st…'] 0\n",
      "['rt', 'dcpetterson', 'so', 'in', 'addition', 'to', 'the', 'necessary', 'wait', 'for', 'grand', 'jury', 'deliberations', 'the', 'preparation', 'of', 'any', 'charges', 'will', 'unavoidably', 'take…'] 0\n",
      "['cnnpolitics', 'what', 'would', 'cnn', 'do', 'without', 'trump', '', 'lose', 'ratingshahahaha', 'they', 'dont', 'have', 'much', 'to', 'lose'] 0\n",
      "['rt', 'sheminfinite', 'this', 'is', 'a', 'good', 'video', 'although', 'russell', 'brand', 'who', 'admits', 'isnt', 'an', 'expert', 'seems', 'to', 'be', 'confused', 'about', 'why', 'people', 'are', 'bein…'] 0\n",
      "['速報🚨サマーゼルボスが訴訟を取り下げ、マイケルコーエンがトランプ組織に対して訴訟を起こした後、トランプは2つの法的な勝利を収めました。解雇'] 0\n",
      "['steve', 'bannon', 'fostul', 'consilier', 'al', 'lui', 'trump', 'pus', 'sub', 'acuzare', 'după', 'ce', 'a', 'refuzat', 'să', 'depună', 'mărturie', 'în', 'congres…', 'httpstcossxqcwojcd'] 0\n",
      "['msnbc', 'white', 'supremacist', 'terrorist', 'leader', 'donald', 'trump', 'planned', 'and', 'led', 'the', '16', 'white', 'supremacistprotrump', 'terroris…', 'httpstcopfd0eeuaqh'] 0\n",
      "['rt', 'walshfreedom', 'don’t', 'mean', 'to', 'be', 'a', 'downer', 'on', 'this', 'bannon', 'indictment', 'but', 'it', 'could', 'be', 'a', 'long', 'time', 'before', 'he’s', 'ever', 'in', 'front', 'of', 'a', 'judge', 'amp', 'j…'] 0\n",
      "['rt', 'yamiche', 'wow'] 0\n",
      "['rt', 'kingsinger', 'blueventilator', 'sethabramson', '10the', 'chances', 'of', 'winning', 'an', 'appeal', 'of', 'the', 'temporary', 'stay', 'were', 'similar', 'to', 'the', 'chances', 'of', 'kic…'] 0\n",
      "                                                                                \r"
     ]
    },
    {
     "name": "stdout",
     "output_type": "stream",
     "text": [
      "['07:11:11', [('0', 11)]]\n"
     ]
    },
    {
     "name": "stderr",
     "output_type": "stream",
     "text": [
      "https://stream.twitter.com/1.1/statuses/filter.json?track=Trump <Response [200]>\n",
      "['rt', 'elisestefanik', 'for', 'years', 'democrats', 'baselessly', 'accused', 'president', 'trump', 'of', 'weaponizing', 'the', 'doj', '\\n\\nin', 'reality', 'it', 'is', 'the', 'left', 'that', 'has…'] 0\n",
      "['senrobportman', 'say', 'the', 'mfr', 'who', 'voted', 'for', 'trumps', '17t', 'failed', 'tax', 'cuts'] 1\n",
      "['httpstco8pn92cbivl'] 0\n",
      "['rt', 'ryanjreilly', 'a', 'defense', 'department', 'contractor', 'with', 'a', 'secret', 'security', 'clearance', 'charged', 'in', 'connection', 'with', 'jan', '6', 'used', 'his', 'work', 'computer…'] 0\n",
      "['rt', 'natashabertrand', 'breaking', 'on', 'cnn', 'trump', 'adviser', 'steve', 'bannon', 'has', 'been', 'indicted', 'by', 'a', 'federal', 'grand', 'jury'] 0\n",
      "['rt', 'kylegriffin1', 'the', 'white', 'house', 'mocked', 'trump', 'after', 'he', 'said', 'he', 'was', 'sending', 'his', 'envoy', 'ambassador', 'to', 'kosovo\\n\\noutside', 'of', 'his', 'very', 'active…'] 0\n",
      "['rt', 'ronfilipkowski', 'talk', 'about', 'killing', 'a', 'vibe'] 0\n",
      "['rt', 'palmerreport', 'merrick', 'garland’s', 'doj', 'has', 'criminally', 'indicted', 'steve', 'bannon', 'for', 'contempt', 'bannon', 'is', 'surrendering', 'this', 'was', 'always', 'going', 'to…'] 0\n",
      "['rt', 'lfleamarketmama', 'careing', 'doesn’t', 'take', 'much', 'with', 'president', 'trump', 'but', 'democrat', 'biden', 'it’s', 'all', 'about', 'how', 'much', 'money', 'he', 'can', 'steal', 'and', 'dea…'] 0\n",
      "['rt', 'travisbhill5', 'bro', 'what', 'is', 'the', 'onion', 'even', 'supposed', 'to', 'do', 'at', 'this', 'point'] 0\n",
      "['doubleobes7', 'the', 'point', 'is', '', 'you', 'don’t', 'know', 'what', 'you', 'believe', 'in', 'and', 'support', '', 'unless', 'it’s', 'trump', '', 'in', 'which', 'case', 'you’…', 'httpstcohqdlqkqvov'] 1\n",
      "                                                                                \r"
     ]
    },
    {
     "name": "stdout",
     "output_type": "stream",
     "text": [
      "['07:11:16', [('0', 9), ('1', 2)]]\n"
     ]
    },
    {
     "name": "stderr",
     "output_type": "stream",
     "text": [
      "https://stream.twitter.com/1.1/statuses/filter.json?track=Trump <Response [200]>\n",
      "['she', 'just', 'flat', 'out', 'lies', 'and', 'those', 'press', 'corps', 'continue', 'to', 'let', 'her', 'lie', 'unchecked', 'i', 'remember', 'when', 'they', 'would', 'scream', 'q…', 'httpstco9won3m7kgb'] 0\n",
      "['rt', 'anacabrera', 'breaking', 'federal', 'grand', 'jury', 'has', 'indicted', 'former', 'trump', 'adviser', 'steve', 'bannon', 'httpstco9cfpqqzutc'] 0\n",
      "['now', 'send', 'out', 'the', 'federal', 'marshalls', 'to', 'arrest', 'him'] 0\n",
      "['rt', 'natashabertrand', 'breaking', 'on', 'cnn', 'trump', 'adviser', 'steve', 'bannon', 'has', 'been', 'indicted', 'by', 'a', 'federal', 'grand', 'jury'] 0\n",
      "['lostdiva', 'berniebrostar', 'well', 'what', 'if', 'bernie', 'and', 'dave', 'are', 'not', 'options', 'if', 'they', 'were', 'i', 'would', 'vote', 'for', 'them', 'but', 'the…', 'httpstcokxgurpkdrg'] 0\n",
      "['rt', 'joncoopertweets', 'no', 'more', 'delays', 'the', 'january6thcmte', 'should', 'immediately', 'subpoena', 'donald', 'trump', '\\n\\nraise', 'your', 'hand', 'if', 'you', 'agree', '✋'] 0\n",
      "['rt', 'blackknight10k', 'thomaskaine5', 'ladalavara', 'right', 'thats', 'why', 'republicans', 'blocked', 'him', 'from', 'the', 'supreme', 'court', 'and', 'plotted', 'to', 'make', 'sure', 'tru…'] 0\n",
      "['rt', 'caioquero', 'cnn', 'informa', 'que', 'steve', 'bannon', 'foi', 'formalmente', 'denunciado', 'pela', 'justiça', 'americana', 'uma', 'ordem', 'de', 'prisão', 'é', 'iminente', 'segundo', 'a', 're…'] 0\n",
      "['rt', 'jihadwatchrs', 'trump', 'nearly', 'broke', 'the', 'islamic', 'republic', 'but', 'under', 'biden', 'iran’s', 'cash', 'reserves', 'have', 'soared', 'httpstcodx1uvxmry2', 'https…'] 0\n",
      "['again', 'the', 'house', 'needs', 'to', 'arrest', 'steve', 'bannon\\nhttpstcoqmwk4kslom'] 0\n",
      "['rt', 'americafighthim', 'congratulations', 'on', 'merrick', 'garland', 'and', 'the', 'doj', 'charging', 'steve', 'bannon', 'now', 'would', 'be', 'a', 'good', 'time', 'to', 'indict', 'trump', 'for', 'inc…'] 1\n",
      "                                                                                \r"
     ]
    },
    {
     "name": "stdout",
     "output_type": "stream",
     "text": [
      "['07:11:21', [('0', 10), ('1', 1)]]\n"
     ]
    },
    {
     "name": "stderr",
     "output_type": "stream",
     "text": [
      "https://stream.twitter.com/1.1/statuses/filter.json?track=Trump <Response [200]>\n",
      "['rt', 'itsmalikel', 'no', 'republican', 'but', 'if', 'trump', 'slipped', 'up', 'and', 'called', 'black', 'people', 'negroes', 'it', 'woulda', 'been', 'on', 'cnn', 'for', 'a', 'year', 'straight', '😭'] 0\n",
      "['rt', 'natashabertrand', 'breaking', 'on', 'cnn', 'trump', 'adviser', 'steve', 'bannon', 'has', 'been', 'indicted', 'by', 'a', 'federal', 'grand', 'jury'] 0\n",
      "['gopleader', 'tick', 'tock', 'kevin', 'just', 'remember', 'those', 'who', 'testify', 'first', 'get', 'the', 'best', 'deals\\n\\njust', 'say', 'that', 'the', 'election…', 'httpstconby4mtj7ik'] 1\n",
      "['jonfreier', 'tmobile', 'did', 'you', 'note', 'how', 'the', '195000', 'you', 'spent', 'at', 'trump', 'tower', 'was', 'expensed'] 0\n",
      "['rt', 'theinsiderpaper', 'breaking', '🚨', 'trump', 'scores', 'two', 'legal', 'wins', 'after', 'summer', 'zervos', 'drops', 'lawsuit', 'and', 'michael', 'cohens', 'suit', 'against', 'trump', 'org', 'd…'] 0\n",
      "['rt', 'normeisen', 'this', 'has', 'aged', 'well', '\\n\\nsorry', 'for', 'all', 'the', 'victory', 'laps', 'about', 'my', 'guarantee', 'that', 'bannon', 'would', 'be', 'indicted', 'i', 'cant', 'resist', '😀', '\\n\\nb…'] 0\n",
      "['tomfitton', 'its', 'an', 'application', 'of', 'clear', 'law', 'it', 'was', 'trump', 'who', 'used', 'the', 'justice', 'department', 'to', 'target', 'enemies', 'you', 'hypocrite'] 0\n",
      "['rt', 'natashabertrand', 'breaking', 'on', 'cnn', 'trump', 'adviser', 'steve', 'bannon', 'has', 'been', 'indicted', 'by', 'a', 'federal', 'grand', 'jury'] 0\n",
      "['rt', 'kurtbardella', 'lockhimup'] 0\n",
      "['rt', 'normeisen', 'nichols', 'is', 'conservative', 'but', 'fair\\n\\nyou', 'worried', 'hell', 'cut', 'bannon', 'a', 'break', 'read', 'his', 'opinions', 'in', 'the', 'dominion', 'libel', 'suit', 'against…'] 0\n",
      "['rt', 'angrystaffer', 'idiot'] 0\n",
      "                                                                                \r"
     ]
    },
    {
     "name": "stdout",
     "output_type": "stream",
     "text": [
      "['07:11:26', [('0', 10), ('1', 1)]]\n"
     ]
    },
    {
     "name": "stderr",
     "output_type": "stream",
     "text": [
      "https://stream.twitter.com/1.1/statuses/filter.json?track=Trump <Response [200]>\n",
      "['rt', 'ap', 'breaking', 'exdonald', 'trump', 'aide', 'steve', 'bannon', 'has', 'been', 'indicted', 'on', 'contempt', 'of', 'congress', 'charges', 'after', 'defying', 'jan', '6', 'committee', 'subpoe…'] 0\n",
      "['cnn', 'do', 'you', 'all', 'know', 'that', 'donald', 'trump', 'has', 'a', 'daughter', 'no', 'one', 'knows', 'about', 'who’s', 'been', 'kicked', 'out', 'on', 'the', 'streets', 'httpstcochda5gd2um'] 0\n",
      "['rt', 'travisbhill5', 'bro', 'what', 'is', 'the', 'onion', 'even', 'supposed', 'to', 'do', 'at', 'this', 'point'] 0\n",
      "['rt', 'rsbnetwork', 'trump', 'the', 'old', 'republican', 'party', 'is', 'gone', 'forever\\nhttpstcosekzufo9sh'] 0\n",
      "['rt', 'jennaellisesq', 'what', '😂😂😂'] 0\n",
      "['rt', 'projectlincoln', 'you', 'don’t', 'say…', 'httpstco9zlx68vnbb'] 0\n",
      "['i', 'see', 'a', 'mixture', 'of', 'wolves', 'thugs', 'idiots', 'gullible', 'bullies', 'unstable', 'people\\n\\nagain', 'ill', 'say', 'it\\nchristian', 'nat…', 'httpstcovhdcddqea6'] 0\n",
      "['rt', 'juliekelly2', 'lisa', 'monaco', 'who', 'won', 'all', 'but', '2', 'gop', 'senate', 'votes', 'in', 'her', 'confirmation', 'isn’t', 'even', 'hiding', 'how', 'she’s', 'continuing', 'obama', 'legacy…'] 0\n",
      "['johnb0yw', 'barrysmithmffl', 'sandra4heroes', 'foxnews', 'former', 'president', 'trump', 'i', 'voted', 'for', 'biden', 'and', 'he', 'is', 'delivering…', 'httpstco7jsnhbwa9u'] 0\n",
      "['rt', 'ap', 'breaking', 'exdonald', 'trump', 'aide', 'steve', 'bannon', 'has', 'been', 'indicted', 'on', 'contempt', 'of', 'congress', 'charges', 'after', 'defying', 'jan', '6', 'committee', 'subpoe…'] 0\n",
      "['rt', 'futurist3000', 'biden', 'administration', 'now', 'simply', 'arresting', 'political', 'opponents', '', 'bannons', 'program', 'warroom', 'pandemic', 'has', 'over', '100', 'million', 'd…'] 1\n",
      "                                                                                \r"
     ]
    },
    {
     "name": "stdout",
     "output_type": "stream",
     "text": [
      "['07:11:31', [('0', 10), ('1', 1)]]\n"
     ]
    },
    {
     "name": "stderr",
     "output_type": "stream",
     "text": [
      "https://stream.twitter.com/1.1/statuses/filter.json?track=Trump <Response [420]>\n"
     ]
    },
    {
     "name": "stdout",
     "output_type": "stream",
     "text": [
      "['07:11:35', []]\n"
     ]
    },
    {
     "name": "stderr",
     "output_type": "stream",
     "text": [
      "https://stream.twitter.com/1.1/statuses/filter.json?track=Trump <Response [420]>\n"
     ]
    },
    {
     "name": "stdout",
     "output_type": "stream",
     "text": [
      "['07:11:40', []]\n"
     ]
    },
    {
     "name": "stderr",
     "output_type": "stream",
     "text": [
      "https://stream.twitter.com/1.1/statuses/filter.json?track=Trump <Response [420]>\n"
     ]
    },
    {
     "name": "stdout",
     "output_type": "stream",
     "text": [
      "['07:11:45', []]\n"
     ]
    },
    {
     "name": "stderr",
     "output_type": "stream",
     "text": [
      "https://stream.twitter.com/1.1/statuses/filter.json?track=Trump <Response [420]>\n"
     ]
    },
    {
     "name": "stdout",
     "output_type": "stream",
     "text": [
      "['07:11:50', []]\n"
     ]
    },
    {
     "name": "stderr",
     "output_type": "stream",
     "text": [
      "https://stream.twitter.com/1.1/statuses/filter.json?track=Trump <Response [420]>\n"
     ]
    },
    {
     "name": "stdout",
     "output_type": "stream",
     "text": [
      "['07:11:55', []]\n"
     ]
    },
    {
     "name": "stderr",
     "output_type": "stream",
     "text": [
      "https://stream.twitter.com/1.1/statuses/filter.json?track=Trump <Response [420]>\n"
     ]
    },
    {
     "name": "stdout",
     "output_type": "stream",
     "text": [
      "['07:12:00', []]\n"
     ]
    },
    {
     "name": "stderr",
     "output_type": "stream",
     "text": [
      "https://stream.twitter.com/1.1/statuses/filter.json?track=Trump <Response [200]>\n",
      "['it’s', 'almost', 'like', 'leaving', 'judges', 'appointed', 'by', 'a', 'foreign', 'asset', 'in', 'their', 'lifetime', 'positions', 'is', 'a', 'bad', 'thing'] 0\n",
      "['rt', 'blisslightlove', 'the', 'one', 'universal', 'creator', 'is\\n\\nour', 'president\\ndonald', 'j', 'trump🇺🇸\\n\\nour', 'father🙌🙌🙌', 'httpstcoek2gqkgnbi'] 0\n",
      "['rt', 'calltoactivism', 'if', 'you', 'think', 'trump', 'must', 'testify', 'we', 'would', 'be', 'honored', 'by', 'a', 'retweet', 'and', 'a', 'follow', 'as', 'we', 'bring', 'on', 'the', 'pressure', 'to', 'make', 'it', 'h…'] 1\n",
      "['rt', 'donwinslow', 'imagine', 'not', 'one', 'trump', 'official', 'facing', 'any', 'real', 'charges', 'for', 'their', 'involvement', 'in', 'jan', '6', 'attack\\n\\nimagine', 'trump', 'never', 'facing…'] 0\n",
      "['rt', 'travisbhill5', 'bro', 'what', 'is', 'the', 'onion', 'even', 'supposed', 'to', 'do', 'at', 'this', 'point'] 0\n",
      "['jeannekiger', 'sentedcruz', 'you', 'think', 'im', 'stating', 'my', 'opinion', '\\n\\ntheres', 'no', 'question', 'that', 'trump', 'massively', 'cut', 'corporate…', 'httpstcovwuqwialgp'] 0\n",
      "['rt', 'realemilynewman', 'trump', 'won\\nwajahatali'] 0\n",
      "['rt', 'journodavidcole', 'the', 'washingtonpost', 'promises', 'if', 'you', 'keep', 'checking', 'back', 'theyll', 'eventually', 'get', 'the', 'trumprussia', 'story', 'correct\\nhttps…'] 0\n",
      "['rt', 'tribelaw', '“in', 'the', 'real', 'world', 'the', 'claim', 'that', 'hes', 'acting', 'to', 'protect', 'future', 'occupants', 'of', 'the', 'oval', 'office', 'is', 'undermined', 'by', 'his', 'wrecking', 'b…'] 1\n",
      "['rt', 'sirhottest', 'used', 'to', 'pay', '50', 'for', 'a', 'full', 'tank', 'of', 'gas', 'under', 'trump', 'i', 'just', 'paid', '71', 'today\\n\\nlet’s', 'go', 'brandon'] 0\n",
      "['rt', 'kaivanshroff', 'new', 'white', 'nationalist', 'steve', 'bannon', 'has', 'been', 'indicted', 'by', 'a', 'grand', 'jury', 'on', '2', 'counts', 'of', 'contempt', 'of', 'congress', 'stemming', 'from', 'h…'] 0\n",
      "                                                                                \r"
     ]
    },
    {
     "name": "stdout",
     "output_type": "stream",
     "text": [
      "['07:12:06', [('0', 9), ('1', 2)]]\n"
     ]
    },
    {
     "name": "stderr",
     "output_type": "stream",
     "text": [
      "https://stream.twitter.com/1.1/statuses/filter.json?track=Trump <Response [200]>\n",
      "['rt', 'stevenbeschloss', 'may', 'this', 'be', 'a', 'message', 'to', 'every', 'other', 'arrogant', 'trumpfueled', 'subpoena', 'defiers'] 0\n",
      "['rt', 'natashabertrand', 'breaking', 'on', 'cnn', 'trump', 'adviser', 'steve', 'bannon', 'has', 'been', 'indicted', 'by', 'a', 'federal', 'grand', 'jury'] 0\n",
      "['rt', 'kaushik104', 'its', 'show', 'time', '💪'] 1\n",
      "['rt', 'ronfilipkowski', 'talk', 'about', 'killing', 'a', 'vibe'] 0\n",
      "['rt', 'occupydemocrats', 'breaking', 'trumps', 'former', 'chief', 'of', 'staff', 'mark', 'meadows', 'refuses', 'to', 'show', 'up', 'for', 'his', 'jan', '6th', 'committee', 'deposition', 'after', 'th…'] 1\n",
      "['trump', 'offers', 'timeline', 'for', '2024', 'presidential', 'run', 'announcement', '', 'right', 'american', 'future', 'httpstcog8c9r9a1yx'] 0\n",
      "['trump', 'interviewers', 'take', 'the', 'gloves', 'off', 'please\\n\\nyou', 'wanted', 'the', 'mob', 'to', 'kill', 'pence', 'youre', 'lying', 'about', 'voter', 'fraud…', 'httpstcoudwayw0jss'] 0\n",
      "['this', 'is', 'the', 'weakest', 'case', 'of', 'executive', 'privilege', 'imaginable', 'from', 'trumps', 'point', 'of', 'view', 'but', 'its', 'not', 'bannons', 'right', 't…', 'httpstcoyft7wdm2rt'] 0\n",
      "['rt', 'theinsiderpaper', 'breaking', '🚨', 'trump', 'scores', 'two', 'legal', 'wins', 'after', 'summer', 'zervos', 'drops', 'lawsuit', 'and', 'michael', 'cohens', 'suit', 'against', 'trump', 'org', 'd…'] 0\n",
      "['rt', 'occupydemocrats', 'breaking', 'trumps', 'former', 'chief', 'of', 'staff', 'mark', 'meadows', 'refuses', 'to', 'show', 'up', 'for', 'his', 'jan', '6th', 'committee', 'deposition', 'after', 'th…'] 1\n",
      "['httpstco3jhoft548u'] 0\n",
      "                                                                                \r"
     ]
    },
    {
     "name": "stdout",
     "output_type": "stream",
     "text": [
      "['07:12:11', [('0', 8), ('1', 3)]]\n"
     ]
    },
    {
     "name": "stderr",
     "output_type": "stream",
     "text": [
      "https://stream.twitter.com/1.1/statuses/filter.json?track=Trump <Response [200]>\n",
      "['my', 'father', 'always', 'wanted', 'to', 'be', 'the', 'corpse', 'at', 'every', 'funeral', 'the', 'bride', 'at', 'every', 'wedding', 'and', 'the', 'baby', 'at', 'every', 'christ…', 'httpstcoigaudar5wl'] 0\n",
      "['rt', 'cernovich', 'trump', 'is', 'a', 'fucking', 'boomer', 'who', 'still', 'talked', 'to', 'press', 'and', 'let', 'bad', 'coverage', 'bother', 'him', 'trump', 'just', 'gave', 'jon', 'karl', 'a', '90', 'minute', 'p…'] 0\n",
      "['donwinslow', 'jameslindholm1', 'its', 'time', 'congress', 'put', 'some', 'real', 'teeth', 'back', 'into', 'contempt', 'charges', 'its', 'the', 'only', 'way', 'trum…', 'httpstcocvoen6bhwe'] 0\n",
      "['jimjordan', 'you', 'fail', 'to', 'recognize', 'there', 'is', 'only', 'one', 'executive', 'at', 'a', 'time', '', '', 'if', 'you', 'take', 'the', 'house', 'in', '2022', 'biden', 'will…', 'httpstco2qngdotxhy'] 0\n",
      "['rt', 'jolpolitico', 'woodruffbets', 'a', 'ray', 'of', 'hope', 'on', 'august', '11', '2021', 'nichols', 'denied', 'motions', 'to', 'dismiss', 'lawsuits', 'charging', 'defamation', 'filed', 'by…'] 0\n",
      "['rt', 'palmerreport', 'merrick', 'garland’s', 'doj', 'has', 'criminally', 'indicted', 'steve', 'bannon', 'for', 'contempt', 'bannon', 'is', 'surrendering', 'this', 'was', 'always', 'going', 'to…'] 0\n",
      "['rt', 'mrjoncryer', 'oh', 'snap'] 0\n",
      "['deangeliscorey', 'bgmasters', 'never', 'forget', 'january', '6th', 'there', 'is', 'no', 'question', 'none', 'that', 'president', 'trump', 'is', 'practical…', 'httpstcosbgdfcsjjb'] 0\n",
      "['rt', 'woodruffbets', 'bannons', 'case', 'is', 'assigned', 'to', 'judge', 'carl', 'j', 'nichols', 'a', 'trump', 'appointee', 'he', 'clerked', 'for', 'clarence', 'thomas', '\\n\\nhttpstcok7f6…'] 0\n",
      "['rt', 'theinsiderpaper', 'breaking', '🚨', 'trump', 'scores', 'two', 'legal', 'wins', 'after', 'summer', 'zervos', 'drops', 'lawsuit', 'and', 'michael', 'cohens', 'suit', 'against', 'trump', 'org', 'd…'] 0\n",
      "['rt', 'chipfranklin', 'if', 'you', 'want', 'merrick', 'garland', 'to', 'be', 'tougher', 'on', 'trump', 'and', 'finally', 'hold', 'him', 'accountable', 'retweet', 'this', 'and', 'follow', 'calltoactiv…'] 1\n",
      "                                                                                \r"
     ]
    },
    {
     "name": "stdout",
     "output_type": "stream",
     "text": [
      "['07:12:16', [('0', 10), ('1', 1)]]\n"
     ]
    },
    {
     "name": "stderr",
     "output_type": "stream",
     "text": [
      "https://stream.twitter.com/1.1/statuses/filter.json?track=Trump <Response [200]>\n",
      "['rt', 'therealhoarse', 'excellent', '\\n\\nmark', 'meadows', 'earned', 'an', 'indictment', 'today', 'too', 'hope', 'they', 'kept', 'that', 'grand', 'jury', 'empaneled', 'there', 'are', 'going', 'to', 'b…'] 0\n",
      "['rt', 'paulinasofiato', 'entonces', 'el', 'muro', 'de', 'trump', 'era', 'de', 'clinton', '\\nlas', 'jaulas', 'de', 'trump', 'eran', 'de', 'obama', 'y', 'la', 'inflación', 'de', 'trump', 'es', 'de', 'biden'] 0\n",
      "['rt', 'caslernoel', 'the', 'thing', 'you', 'notice', 'most', 'about', 'trump', 'when', 'first', 'in', 'his', 'presence', 'besides', 'the', 'noxious', 'stench', 'and', 'clowny', 'visage', 'is', 'the', 'aura…'] 1\n",
      "['トランプ元大統領の側近、スティーブ・バノン氏が1月6日の議事堂襲撃事件を調査する下院特別委員会の召喚状を無視したことにより、議会侮辱罪で連邦大陪審に起訴されました😀\\n\\n', 'httpstcozey1swgcgy'] 0\n",
      "['rt', 'politvidchannel', 'breaking', 'former', 'trump', 'white', 'house', 'chief', 'of', 'staff', 'mark', 'meadows', 'is', 'facing', 'a', 'criminal', 'referral', 'to', 'the', 'justice', 'department…'] 0\n",
      "['rt', 'stephenking', 'trump', 'is', 'never', 'going', 'to', 'jail', 'he', 'deserves', 'to', 'but', 'he’s', 'rich', 'and', 'powerful', 'instead', 'of', 'poor', 'and', 'black', 'welcome', 'to', 'america'] 0\n",
      "['don’t', 'just', 'talk', 'about', 'it', 'be', 'about', 'him'] 0\n",
      "['rt', 'caslernoel', 'the', 'fact', 'that', 'harold', 'bornstein', 'was', 'trump’s', 'physician', 'dr', 'feelgood', 'since', 'the', '80’s', 'had', 'been', 'sued', 'for', 'overprescribing', 'had', 'h…'] 0\n",
      "['cherijacobus', 'b52malmet', '\\n\\nhttpstcor5kr62lghx'] 0\n",
      "['sethabramson', 'the', 'trump', 'appointed', 'judge', 'assigned', 'to', 'his', 'case', 'might', 'have', 'a', 'difference', 'of', 'opinion'] 0\n",
      "['rt', 'jsolomonreports', '‘need', 'a', 'state', 'sovereignty', 'renaissance’', 'to', 'secure', 'borders', 'under', 'biden', 'says', 'extrump', 'official', '', 'just', 'the', 'news', 'httpst…'] 1\n",
      "                                                                                \r"
     ]
    },
    {
     "name": "stdout",
     "output_type": "stream",
     "text": [
      "['07:12:21', [('0', 9), ('1', 2)]]\n"
     ]
    },
    {
     "name": "stderr",
     "output_type": "stream",
     "text": [
      "https://stream.twitter.com/1.1/statuses/filter.json?track=Trump <Response [200]>\n",
      "['trump', 'going', 'to', 'jail', 'will', 'not', 'affect', 'voters', 'they', 'are', 'not', 'going', 'to', 'reward', 'biden', 'in', '2022', 'for', 'doing', 'that', 'focus', 'on', 'the…', 'httpstcocydkc1bsld'] 0\n",
      "['rt', 'championban', 'former', 'trump', 'aide', 'mark', 'meadows', 'fails', 'to', 'appear', 'before', 'jan', '6', 'committee', '', 'httpstcoxr9qv12ue6'] 1\n",
      "['capitulate'] 0\n",
      "['rt', 'tedlieu', 'no', 'one', 'should', 'be', 'above', 'the', 'law', 'not', 'the', 'former', 'president', 'not', 'his', 'staff', 'not', 'members', 'of', 'congress', 'and', 'not', 'steve', 'bannon'] 0\n",
      "['rt', 'walshfreedom', 'don’t', 'mean', 'to', 'be', 'a', 'downer', 'on', 'this', 'bannon', 'indictment', 'but', 'it', 'could', 'be', 'a', 'long', 'time', 'before', 'he’s', 'ever', 'in', 'front', 'of', 'a', 'judge', 'amp', 'j…'] 0\n",
      "['rt', 'donwinslow', 'please', 'understand', 'that', 'steve', 'bannons', 'indictment', 'only', 'begins', 'a', 'legal', 'process\\n\\neven', 'when', 'arrested', 'he', 'will', 'likely', 'be', 'immedia…'] 0\n",
      "['rt', 'walshfreedom', 'don’t', 'mean', 'to', 'be', 'a', 'downer', 'on', 'this', 'bannon', 'indictment', 'but', 'it', 'could', 'be', 'a', 'long', 'time', 'before', 'he’s', 'ever', 'in', 'front', 'of', 'a', 'judge', 'amp', 'j…'] 0\n",
      "['rt', 'jayweixelbaum', 'jeb', 'bush', 'ben', 'sasse', 'bob', 'corker', 'who', 'is', 'the', 'next', 'republican', 'to', 'speak', 'out', 'against', 'trumps', 'autocratic', 'antiamerican', 'behav…'] 0\n",
      "['rt', 'adamparkhomenko', 'i’m', 'glad', 'trump', 'keeps', 'admitting', 'that', 'the', 'jan', '6', 'terrorists', 'were', 'his', 'people', 'and', 'not', 'antifa', 'or', 'fbi', 'agents'] 1\n",
      "['pettylupone', 'i', 'wish', 'we', 'had', 'a', 'better', 'judge', 'appointed', 'by', 'trump', 'and', 'clerked', 'for', 'clarence', 'sedition', 'thomas', 'i', 'am', 'thri…', 'httpstco8ps1k495be'] 0\n",
      "['random', 'trump', 'httpstcosnifoupgq2', '', 'randomtrump', 'trump', 'donaldtrump', 'giphy', 'gif', 'gifs', 'httpstcojlbz0hndtx'] 1\n",
      "                                                                                \r"
     ]
    },
    {
     "name": "stdout",
     "output_type": "stream",
     "text": [
      "['07:12:26', [('0', 8), ('1', 3)]]\n"
     ]
    },
    {
     "name": "stderr",
     "output_type": "stream",
     "text": [
      "https://stream.twitter.com/1.1/statuses/filter.json?track=Trump <Response [200]>\n",
      "['rt', 'noliewithbtc', 'new', 'trump', 'just', 'released', 'a', 'statement', 'saying', 'he', 'is', 'sending', 'his', 'envoy', 'ambassador', 'ric', 'grenell', 'to', 'conduct', 'a', 'foreign', 'policy…'] 1\n",
      "['rt', 'glemgreenwald', 'a', 'despicable', 'abuse', 'of', 'power', 'bannons', 'only', 'crime', 'is', 'being', 'a', 'supporter', 'of', 'donald', 'trump', '', 'this', 'is', 'unprecedented', 'unconst…'] 1\n",
      "['rt', 'steve32540993', 'suspendthis73', 'vanessa761', 'chrisg409ubc', 'jaginator', 'ghost321', 'twatterispravda', '4joc1', 'mtstringer1', 'annie20554592', 'jyur…'] 0\n",
      "['rt', 'lloydhardy', 'steve', 'bannon', 'was', 'also', 'donald', 'trumps', 'chief', 'strategist', 'and', 'has', 'been', 'subpoenaed', 'to', 'give', 'evidence', 'in', 'the', 'jan', '6', 'probe', 'of', 'the', 'ta…'] 0\n",
      "['fpwellman', 'the', 'pressure', 'is', 'off', 'of', 'garland', 'as', 'far', 'as', 'im', 'concerned', 'but', 'do', 'we', 'really', 'think', 'the', 'contempt', 'of', 'congress…', 'httpstcoih8wyu5rjo'] 0\n",
      "['cnnbrk', 'if', 'trump', 'wasn’t', 'the', 'most', 'hated', 'president', 'in', 'american', 'history', 'the', 'media', 'would', 'be', 'creaming', 'money', 'influence…', 'httpstco29w6ohq90i'] 0\n",
      "['rt', 'npr', 'alaska', 'sen', 'lisa', 'murkowski', 'who', 'was', 'one', 'of', 'seven', 'republican', 'senators', 'to', 'vote', 'to', 'convict', 'former', 'president', 'donald', 'trump', 'on', 'charges', 'o…'] 0\n",
      "['rt', 'michaelcohen212', 'as', 'i', 'have', 'stated', 'again', 'and', 'again…the', 'wheels', 'of', 'justice', 'turn', 'slowly', 'but', 'ultimately', 'it', 'comes', 'full', 'circle', 'let’s', 'see', 'how…'] 0\n",
      "['rt', 'zaleskiluke', 'maga', 'defense', 'of', 'trumps', 'insurrection\\n1', 'didnt', 'happen', 'happened\\n2', 'not', 'an', 'insurrection👆\\n3', 'dems', 'fault\\n4', 'blms', 'fault…'] 0\n",
      "['you', 'work', 'for', 'trump', 'you', 'dont', 'get', 'a', 'gold', 'watch', 'you', 'just', 'end', 'up', 'in', 'handcuffs'] 0\n",
      "['rt', 'funder', 'trump', 'defended', 'terrorists', 'who', 'chanted', '“hang', 'pence”', 'on', 'jan', '6', 'republicans', 'this', 'is', 'on', 'you', 'you', 'own', 'this'] 0\n",
      "                                                                                \r"
     ]
    },
    {
     "name": "stdout",
     "output_type": "stream",
     "text": [
      "['07:12:31', [('1', 2), ('0', 9)]]\n"
     ]
    },
    {
     "name": "stderr",
     "output_type": "stream",
     "text": [
      "https://stream.twitter.com/1.1/statuses/filter.json?track=Trump <Response [420]>\n"
     ]
    },
    {
     "name": "stdout",
     "output_type": "stream",
     "text": [
      "['07:12:35', []]\n"
     ]
    },
    {
     "name": "stderr",
     "output_type": "stream",
     "text": [
      "https://stream.twitter.com/1.1/statuses/filter.json?track=Trump <Response [420]>\n"
     ]
    },
    {
     "name": "stdout",
     "output_type": "stream",
     "text": [
      "['07:12:40', []]\n"
     ]
    },
    {
     "name": "stderr",
     "output_type": "stream",
     "text": [
      "https://stream.twitter.com/1.1/statuses/filter.json?track=Trump <Response [420]>\n"
     ]
    },
    {
     "name": "stdout",
     "output_type": "stream",
     "text": [
      "['07:12:45', []]\n"
     ]
    },
    {
     "name": "stderr",
     "output_type": "stream",
     "text": [
      "https://stream.twitter.com/1.1/statuses/filter.json?track=Trump <Response [420]>\n"
     ]
    },
    {
     "name": "stdout",
     "output_type": "stream",
     "text": [
      "['07:12:50', []]\n"
     ]
    },
    {
     "name": "stderr",
     "output_type": "stream",
     "text": [
      "https://stream.twitter.com/1.1/statuses/filter.json?track=Trump <Response [420]>\n"
     ]
    },
    {
     "name": "stdout",
     "output_type": "stream",
     "text": [
      "['07:12:55', []]\n"
     ]
    },
    {
     "name": "stderr",
     "output_type": "stream",
     "text": [
      "https://stream.twitter.com/1.1/statuses/filter.json?track=Trump <Response [420]>\n"
     ]
    },
    {
     "name": "stdout",
     "output_type": "stream",
     "text": [
      "['07:13:00', []]\n"
     ]
    },
    {
     "name": "stderr",
     "output_type": "stream",
     "text": [
      "https://stream.twitter.com/1.1/statuses/filter.json?track=Trump <Response [200]>\n",
      "['rt', 'woodruffbets', 'bannons', 'case', 'is', 'assigned', 'to', 'judge', 'carl', 'j', 'nichols', 'a', 'trump', 'appointee', 'he', 'clerked', 'for', 'clarence', 'thomas', '\\n\\nhttpstcok7f6…'] 0\n",
      "['considering', 'calling', 'trump', 'is', 'absolutley', 'necessary', 'he', 'will', 'be', 'so', 'conflicted', 'between', 'defying', 'a', 'subpoena', 'and…', 'httpstcoz8lprfggjr'] 0\n",
      "['oh', 'for', 'real'] 0\n",
      "['steve', 'bannon', 'a', 'longtime', 'ally', 'to', 'former', 'president', 'donald', 'trump', 'was', 'indicted', 'friday', 'on', 'two', 'counts', 'of', 'contempt', 'of', 'co…', 'httpstco8rsvxnplxw'] 0\n",
      "['rt', 'ap', 'breaking', 'exdonald', 'trump', 'aide', 'steve', 'bannon', 'has', 'been', 'indicted', 'on', 'contempt', 'of', 'congress', 'charges', 'after', 'defying', 'jan', '6', 'committee', 'subpoe…'] 0\n",
      "['rt', 'kurteichenwald', 'questions', 'about', 'his', 'communications', 'with', 'trump', 'is', 'an', 'open', 'legal', 'question', 'that', 'he', 'is', 'in', 'his', 'right', 'to', 'seek', 'judicial', 'rul…'] 0\n",
      "['rt', 'nickadamsinusa', 'we', 'had', 'a', 'great', 'country', 'and', 'economy', 'under', 'president', 'trump\\n\\nwhat', 'the', 'hell', 'happened'] 1\n",
      "['rt', 'renatomariotti', 'steve', 'bannons', 'response', 'to', 'the', 'congressional', 'subpoena', 'made', 'the', 'dojs', 'job', 'as', 'easy', 'as', 'possible\\n\\nthese', 'cases', 'are', 'never', 'e…'] 0\n",
      "['aripearlstein', 'what46hasdone', 'it’s', 'clear', 'that', 'there', 'are', 'many', 'on', 'the', 'left', 'who', 'didn’t', 'mind', 'trump’s', 'tactics', 'at', 'all', 'th…', 'httpstcovmkvge1dko'] 0\n",
      "['ivoryturnediii', 'lavernspicer', 'trump', 'has', 'never', 'been', 'charged', 'but', 'that', 'doesnt', 'stop', 'you'] 0\n",
      "['rt', 'joshtpm', 'time', 'and', 'again', 'we', 'learn', 'about', 'the', 'trump', 'gop', 'law', 'and', 'order', 'except', 'for', 'us', 'httpstcons0ofsdodu'] 1\n",
      "                                                                                \r"
     ]
    },
    {
     "name": "stdout",
     "output_type": "stream",
     "text": [
      "['07:13:06', [('0', 9), ('1', 2)]]\n"
     ]
    },
    {
     "name": "stderr",
     "output_type": "stream",
     "text": [
      "https://stream.twitter.com/1.1/statuses/filter.json?track=Trump <Response [200]>\n",
      "['mepfuller', 'is', 'this', 'donald', 'trump', '—', 'person', 'woman', 'man', 'camera', 'tv'] 0\n",
      "['rt', 'tonyschwartz', 'sessions', 'and', 'trump', 'administration', 'defend', 'separating', 'immigrant', 'parents', 'and', 'their', 'innocent', 'kids', 'unthinkable', '', 'and', 'unconscio…'] 1\n",
      "['rt', 'tribelaw', 'doj', 'is', 'rightly', 'saying', 'executive', 'privilege', 'belongs', 'not', 'to', 'any', 'individual', 'but', 'to', 'the', 'executive', 'branch', 'of', 'which', 'the', 'one', 'and', 'onl…'] 0\n",
      "['rt', 'politicussarah', 'trump’s', 'ability', 'to', 'keep', '16', 'witnesses', 'in', 'line', 'crumbled', 'after', 'a', 'federal', 'grand', 'jury', 'indicted', 'steve', 'bannon', 'for', 'contempt', 'o…'] 0\n",
      "['rt', 'lindyli', 'ok', 'doj', 'we', 'see', 'you\\n\\nnow', 'please', 'do', 'mark', 'meadows', 'who', 'didn’t', 'show', 'up', 'for', 'his', 'deposition', 'before', 'congress', 'today', 'and', 'trump', 'official', 'j…'] 0\n",
      "['rt', 'theinsiderpaper', 'breaking', '🚨', 'trump', 'scores', 'two', 'legal', 'wins', 'after', 'summer', 'zervos', 'drops', 'lawsuit', 'and', 'michael', 'cohens', 'suit', 'against', 'trump', 'org', 'd…'] 0\n",
      "['rt', 'caslernoel', 'the', 'thing', 'you', 'notice', 'most', 'about', 'trump', 'when', 'first', 'in', 'his', 'presence', 'besides', 'the', 'noxious', 'stench', 'and', 'clowny', 'visage', 'is', 'the', 'aura…'] 1\n",
      "['rt', 'nickadamsinusa', 'we', 'had', 'a', 'great', 'country', 'and', 'economy', 'under', 'president', 'trump\\n\\nwhat', 'the', 'hell', 'happened'] 1\n",
      "['trump', 'would', 'fucking', 'never', 'gimme', 'my', 'president', 'back', 'this', 'guy', 'sucks😒'] 0\n",
      "['i', 'was', 'the', 'first', 'rapper', 'to', 'sample', 'donald', 'trump', '\\n\\n', 'httpstcobv3ldavfm6'] 1\n",
      "['rt', 'hugolowell', 'new', 'source', 'close', 'to', 'us', 'attorney’s', 'office', 'tells', 'me', 'now', 'that', 'former', 'trump', 'chief', 'strategist', 'steve', 'bannon', 'is', 'expected', 'to', 'surre…'] 1\n",
      "                                                                                \r"
     ]
    },
    {
     "name": "stdout",
     "output_type": "stream",
     "text": [
      "['07:13:11', [('0', 6), ('1', 5)]]\n"
     ]
    },
    {
     "name": "stderr",
     "output_type": "stream",
     "text": [
      "https://stream.twitter.com/1.1/statuses/filter.json?track=Trump <Response [200]>\n",
      "['jackposobiec', 'when', 'did', 'trump', 'say', 'it', 'was', 'okay', 'to', 'hang', 'pence', 'my', 'gosh', 'i', 'really', 'dislike', 'dawn', 'laymahn'] 0\n",
      "['secretarypete', 'to', 'get', 'helpmake', 'them', 'know', 'it', 'was', 'worth', 'ityou', 'are', 'super', 'smart', 'and', 'ive', 'always', 'liked', 'youif', 'anyone', 'ca…', 'httpstcolo1bhpmdjb'] 0\n",
      "['rt', 'nealkatyal', 'if', 'we', 'weren’t', 'clear', 'what', 'the', 'doj’s', 'position', 'on', 'executive', 'privilege', 'was', 'we', 'sure', 'are', 'now', 'as', 'predicted', 'they', 'confirmed', 'what…'] 0\n",
      "['rt', 'axios', 'exclusive', 'audio', 'trump', 'defends', 'his', 'supporters', 'threats', 'to', 'hang', 'mike', 'pence', 'on', 'jan', '6', 'httpstcovbssib9ywz'] 0\n",
      "['rt', 'emptywheel', 'mullingmueller', 'yup', 'also', 'bernie', 'kerik', 'who', 'was', 'involved', 'in', 'jan', '6', '\\n\\neven', 'van', 'der', 'zwaan', '\\n\\nhttpstco0n0j463crn'] 0\n",
      "['rt', 'pimpernell13', 'bannon', 'asserted', 'executive', 'privilege', 'and', 'got', 'indicted', 'for', 'contempt', 'of', 'congress', '', 'first', 'time', 'its', 'been', 'done\\n\\nholder', 'asserte…'] 1\n",
      "['rt', 'occupydemocrats', 'breaking', 'news', 'the', 'january', '6', 'committee', 'confirms', 'that', 'it', 'will', '“enforce', 'its', 'subpoenas”', 'of', 'trump’s', 'aides', 'by', '“pursuing', 'cri…'] 0\n",
      "['rt', 'brianklaas', 'donald', 'trump’s\\n\\ncampaign', 'chair', 'felon\\ndeputy', 'campaign', 'chair', 'felon\\nforeign', 'policy', 'adviser', 'felon\\npersonal', 'lawyer', 'felon\\nna…'] 0\n",
      "['rt', 'smittywerbenjay', '„i', 'am', 'the', 'least', 'racist', 'person', 'in', 'this', 'room“', 'ist', 'mein', 'lieblings', 'trump', 'zitat', 'einfach', 'so', 'fucking', 'rediculous', '😂😂😂😂'] 0\n",
      "['rt', 'simmiesaid', 'are', 'those', 'lil', 'wayne’s', 'missing', 'locs'] 0\n",
      "['rt', 'axios', 'exclusive', 'audio', 'trump', 'defends', 'his', 'supporters', 'threats', 'to', 'hang', 'mike', 'pence', 'on', 'jan', '6', 'httpstcovbssib9ywz'] 0\n",
      "                                                                                \r"
     ]
    },
    {
     "name": "stdout",
     "output_type": "stream",
     "text": [
      "['07:13:16', [('0', 10), ('1', 1)]]\n"
     ]
    },
    {
     "name": "stderr",
     "output_type": "stream",
     "text": [
      "https://stream.twitter.com/1.1/statuses/filter.json?track=Trump <Response [200]>\n",
      "['rt', 'adriantempany', 'klopp', '“the', 'last', 'two', 'elections', 'the', 'first', 'with', 'donald', 'trump', 'and', 'then', 'with', 'boris', 'johnson', 'that’s', 'really', 'a', 'bad', 'sign', 'for', 'th…'] 0\n",
      "['rt', 'palmerreport', 'merrick', 'garland’s', 'doj', 'has', 'criminally', 'indicted', 'steve', 'bannon', 'for', 'contempt', 'bannon', 'is', 'surrendering', 'this', 'was', 'always', 'going', 'to…'] 0\n",
      "['rt', 'jrussjruss', 'summer', 'zervos', '', 'v', 'donald', 'trump', 'case', 'been', 'settled', 'out', 'of', 'court', 'today', 'the', 'parties', 'have', 'ended', 'zervos', 'v', 'trump', '', 'after', 'five…'] 0\n",
      "['rt', 'angrystaffer', '“outside', 'of', 'his', 'very', 'active', 'imagination', 'donald', 'trump', 'is', 'no', 'longer', 'president', 'and', 'doesn’t', 'have', 'any', '‘envoy', 'ambassadors’', 're…'] 0\n",
      "['rt', 'reallizusa', 'new\\n\\npresident', 'donald', 'j', 'trump', 'announces', 'his', 'endorsement', 'of', 'congressman', 'john', 'carter', 'httpstco9rqrixco76'] 0\n",
      "['i', 'just', 'signed', 'a', 'commoncause', 'petition', 'make', 'donald', 'trump', 'testify', 'about', 'the', 'january', '6th', 'insurrection', 'sign', 'here', 'httpstcosi9wtrnant'] 0\n",
      "['rt', 'nickknudsenus', 'former', 'trump', 'adviser', 'steve', 'bannon', 'indicted', 'by', 'federal', 'grand', 'jury', 'for', 'contempt', 'of', 'congress\\n\\nthis', 'is', 'a', 'first', 'nobody', 'has…'] 1\n",
      "['rt', 'theinsiderpaper', 'breaking', '🚨', 'trump', 'scores', 'two', 'legal', 'wins', 'after', 'summer', 'zervos', 'drops', 'lawsuit', 'and', 'michael', 'cohens', 'suit', 'against', 'trump', 'org', 'd…'] 0\n",
      "['rt', 'b52malmet', 'put', 'bannon', 'aside', 'for', 'a', 'moment', 'and', 'look', 'here'] 0\n",
      "['rt', 'nickknudsenus', 'former', 'trump', 'adviser', 'steve', 'bannon', 'indicted', 'by', 'federal', 'grand', 'jury', 'for', 'contempt', 'of', 'congress\\n\\nthis', 'is', 'a', 'first', 'nobody', 'has…'] 1\n",
      "['rt', 'ricky77939990', 'trump', 'mike', 'pence', 'deserved', 'chants', 'calling', 'for', 'him', 'to', 'be', 'hanged', '', 'vanity', 'fair', '', 'i', 'do', 'believe', 'the', 'discussion', 'was', 'on', 'violen…'] 1\n",
      "                                                                                \r"
     ]
    },
    {
     "name": "stdout",
     "output_type": "stream",
     "text": [
      "['07:13:21', [('0', 8), ('1', 3)]]\n"
     ]
    },
    {
     "name": "stderr",
     "output_type": "stream",
     "text": [
      "https://stream.twitter.com/1.1/statuses/filter.json?track=Trump <Response [200]>\n",
      "['rt', 'steveschmidtses', 'during', 'my', 'political', 'career', 'i', 'have', 'always', 'attempted', 'to', 'run', 'organizations', 'with', 'under', '20', 'percent', 'of', 'gross', 'receipts', 'it', 'is…'] 0\n",
      "['rt', 'douglasreber', 'documents', 'reveal', 'new', 'details', 'of', 'trump', 'political', 'interference', 'in', 'covid19', 'response', '', 'the', 'hill', 'httpstcokjcuzjghxi'] 1\n",
      "['rt', 'personn12366668', 'zemmoureric', '🎦159', 'le', 'financement', 'de', 'la', 'campagne', 'de', 'zemmour', 'lantitrump', '', 'xavier', 'poussard\\nfaitsetdocs\\nhttpstco…'] 1\n",
      "['🙋✋'] 0\n",
      "['rt', 'stephenking', 'trump', 'is', 'never', 'going', 'to', 'jail', 'he', 'deserves', 'to', 'but', 'he’s', 'rich', 'and', 'powerful', 'instead', 'of', 'poor', 'and', 'black', 'welcome', 'to', 'america'] 0\n",
      "['ugh'] 0\n",
      "['rt', 'reallizusa', 'new\\n\\npresident', 'donald', 'j', 'trump', 'announces', 'his', 'endorsement', 'of', 'congressman', 'michael', 'mccaul', 'httpstcodjay8gitzx'] 0\n",
      "['rt', 'jimsciutto', 'this', 'audio', 'of', 'the', 'former', 'president', 'of', 'the', 'united', 'states', 'regarding', 'the', 'former', 'vice', 'president', 'is', 'a', 'mustlisten', 'httpstco…'] 0\n",
      "['rt', 'anacabrera', '“it’s', 'just', 'another', 'vivid', 'reminder', 'that', 'the', 'former', 'president', 'is', 'incapable', 'humanly', 'incapable', 'of', 'caring', 'about', 'anyone', 'but', 'hims…'] 0\n",
      "['rt', 'repraskin', 'the', 'grand', 'jury', 'indictment', 'of', 'steve', 'bannon', 'shows', 'that', 'even', 'the', 'insurrectionist', 'allies', 'of', 'donald', 'trump', 'are', 'not', 'above', 'the', 'law', 'a…'] 0\n",
      "['rt', 'therealhoarse', 'excellent', '\\n\\nmark', 'meadows', 'earned', 'an', 'indictment', 'today', 'too', 'hope', 'they', 'kept', 'that', 'grand', 'jury', 'empaneled', 'there', 'are', 'going', 'to', 'b…'] 0\n",
      "                                                                                \r"
     ]
    },
    {
     "name": "stdout",
     "output_type": "stream",
     "text": [
      "['07:13:26', [('0', 9), ('1', 2)]]\n"
     ]
    },
    {
     "name": "stderr",
     "output_type": "stream",
     "text": [
      "https://stream.twitter.com/1.1/statuses/filter.json?track=Trump <Response [200]>\n",
      "['rt', 'davidnir', 'heres', 'a', 'good', 'test', 'of', 'whether', 'trump', 'can', 'still', 'exert', 'executive', 'privilege', 'he', 'should', 'pardon', 'steve', 'bannon', 'right', 'now', 'and', 'see', 'how…'] 0\n",
      "['trump', 'advisor', 'indicted', 'for', 'refusing', 'to', 'testify', 'in', 'us', 'capitol', 'riot\\xa0probe', 'httpstcosk82tludls'] 1\n",
      "['rt', 'juliekelly2', 'more', 'from', 'thamburger', 'and', 'postroz', 'in', 'june', '2016\\n\\n“the', 'post', 'reported', 'that', 'hackers', 'tied', 'to', 'the', 'russian', 'government', 'had', 'gain…'] 0\n",
      "['rt', 'anacabrera', 'breaking', 'federal', 'grand', 'jury', 'has', 'indicted', 'former', 'trump', 'adviser', 'steve', 'bannon', 'httpstco9cfpqqzutc'] 0\n",
      "['department', 'of', 'justice', 'stephen', 'k', 'bannon', 'indicted', 'for', 'contempt', 'of', 'congress', 'this', 'gives', 'the', 'power', 'of', 'oversight', 'back…', 'httpstcowakaumybxu'] 0\n",
      "['rt', 'calltoactivism', 'just', 'this', '—', 'congressman', 'bennie', 'thompson', 'who', 'chairs', 'the', 'january', '6', 'committee', 'is', 'still', 'considering', 'bringing', 'trump', 'befor…'] 0\n",
      "['rt', 'authorkimberley', 'hey', 'youyou', 'who', 'assumed', 'trump', 'would', 'win', '2020', 'you', 'were', 'wrong', 'i', 'know', 'it', 'felt', 'good', 'to', 'be', 'wrong', 'but', 'consider', 'the', 'stres…'] 0\n",
      "['hallelujah', '', 'it’s', 'true\\ngrand', 'jury', 'indicts', 'former', 'trump', 'adviser', 'steve', 'bannon', 'for', 'contempt', 'of', 'congress', '', 'cnn', 'politics', 'httpstco4rlekzn8rq'] 1\n",
      "['so', 'hes', 'gotten', 'away', 'with', 'everything', 'hes', 'done', 'so', 'far', 'why', 'should', 'we', 'believe', 'theres', 'any', 'justice', 'in', 'this', 'world\\ntru…', 'httpstcomy9reqkqgf'] 0\n",
      "['get', 'in', 'his', 'ass'] 0\n",
      "['rt', 'marshablackburn', 'hunter', 'biden', 'was', 'never', 'investigated', 'because', 'the', 'fbi', 'was', 'too', 'busy', 'framing', 'president', 'trump'] 0\n",
      "                                                                                \r"
     ]
    },
    {
     "name": "stdout",
     "output_type": "stream",
     "text": [
      "['07:13:31', [('0', 9), ('1', 2)]]\n"
     ]
    },
    {
     "name": "stderr",
     "output_type": "stream",
     "text": [
      "https://stream.twitter.com/1.1/statuses/filter.json?track=Trump <Response [420]>\n"
     ]
    },
    {
     "name": "stdout",
     "output_type": "stream",
     "text": [
      "['07:13:35', []]\n"
     ]
    },
    {
     "name": "stderr",
     "output_type": "stream",
     "text": [
      "https://stream.twitter.com/1.1/statuses/filter.json?track=Trump <Response [420]>\n"
     ]
    },
    {
     "name": "stdout",
     "output_type": "stream",
     "text": [
      "['07:13:40', []]\n"
     ]
    },
    {
     "name": "stderr",
     "output_type": "stream",
     "text": [
      "https://stream.twitter.com/1.1/statuses/filter.json?track=Trump <Response [420]>\n"
     ]
    },
    {
     "name": "stdout",
     "output_type": "stream",
     "text": [
      "['07:13:45', []]\n"
     ]
    },
    {
     "name": "stderr",
     "output_type": "stream",
     "text": [
      "https://stream.twitter.com/1.1/statuses/filter.json?track=Trump <Response [420]>\n"
     ]
    },
    {
     "name": "stdout",
     "output_type": "stream",
     "text": [
      "['07:13:50', []]\n"
     ]
    },
    {
     "name": "stderr",
     "output_type": "stream",
     "text": [
      "https://stream.twitter.com/1.1/statuses/filter.json?track=Trump <Response [420]>\n"
     ]
    },
    {
     "name": "stdout",
     "output_type": "stream",
     "text": [
      "['07:13:55', []]\n"
     ]
    }
   ],
   "source": [
    "soma_zero = sum([resultados [1][1][0][1], resultados [2][1][0][1], resultados [3][1][0][1], resultados [4][1][0][1], resultados [5][1][0][1]])\n",
    "soma_um = sum([resultados [1][1][1][1], resultados [2][1][1][1], resultados [3][1][1][1], resultados [4][1][1][1], resultados [5][1][1][1]])\n",
    "\n",
    "valores = [soma_zero, soma_um]\n",
    "labels = ['Negativo', 'Positivo']\n",
    "\n",
    "plt.pie(valores, labels = labels)"
   ]
  },
  {
   "cell_type": "code",
   "execution_count": null,
   "metadata": {},
   "outputs": [],
   "source": [
    "# Grava os resultados\n",
    "#rdd_save = '/resultados/r'+time.strftime(\"%I%M%S\")\n",
    "#resultados_rdd = sc.parallelize(resultados)\n",
    "#resultados_rdd.saveAsTextFile(rdd_save)"
   ]
  },
  {
   "cell_type": "code",
   "execution_count": null,
   "metadata": {},
   "outputs": [],
   "source": [
    "# Visualiza os resultados\n",
    "#resultados_rdd.collect()"
   ]
  },
  {
   "cell_type": "code",
   "execution_count": 42,
   "metadata": {},
   "outputs": [],
   "source": [
    "# Finaliza o streaming\n",
    "ssc.stop()"
   ]
  },
  {
   "cell_type": "code",
   "execution_count": null,
   "metadata": {},
   "outputs": [],
   "source": []
  }
 ],
 "metadata": {
  "anaconda-cloud": {},
  "kernelspec": {
   "display_name": "Python 3 (ipykernel)",
   "language": "python",
   "name": "python3"
  },
  "language_info": {
   "codemirror_mode": {
    "name": "ipython",
    "version": 3
   },
   "file_extension": ".py",
   "mimetype": "text/x-python",
   "name": "python",
   "nbconvert_exporter": "python",
   "pygments_lexer": "ipython3",
   "version": "3.7.6"
  }
 },
 "nbformat": 4,
 "nbformat_minor": 1
}
